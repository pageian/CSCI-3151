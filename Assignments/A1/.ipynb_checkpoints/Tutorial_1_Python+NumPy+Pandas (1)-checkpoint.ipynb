{
 "cells": [
  {
   "cell_type": "markdown",
   "metadata": {
    "colab_type": "text",
    "id": "g4tRHxlhaNg-"
   },
   "source": [
    "## <center> CSCI3151 : Python + NumPy + Pandas -Tutorial 1</center>\n",
    "<center>Authors: Sima Rezaeipour, Amir Khaleghi <b><i>amir.k@dal.ca</i></b>  </center>"
   ]
  },
  {
   "cell_type": "markdown",
   "metadata": {
    "colab_type": "text",
    "id": "xz5eHx2qaNhB"
   },
   "source": [
    "This is a starting point tutorial of python. It doesn't cover everything; you are encouraged to google and learn more. You can contact us for further questions  <b><i>amir.k@dal.ca.</i></b>\n",
    "\n",
    "<b>Credits:</b> Some part of content presented here is from <b><i><a href=\"http://web.stanford.edu/class/cs224n/readings/python-review.pdf\">Python Review CS224N - 1/19/18 Stanford University </a></i></b>,  <b><i><a href=\"https://www.machinelearningplus.com/numpy-tutorial-part1-array-python-examples\"> Numpy Basics </a></i></b> and <b><i><a href=\"https://www.machinelearningplus.com/python/101-pandas-exercises-python/\"> Pandas Exercises </a></i></b>"
   ]
  },
  {
   "cell_type": "markdown",
   "metadata": {
    "colab_type": "text",
    "id": "cbm71HKqaNhD"
   },
   "source": [
    "<b>Why Python?</b>\n",
    "\n",
    "- High-level\n",
    "- Interpreted:\n",
    "    - Python is first interpreted into bytecode (.pyc) and then compiled by a VM implementation into machine instructions. (Most commonly using C.)\n",
    "- Widely used dynamic programming language\n",
    "- Comprehensive and large standard libraries\n",
    "- Dynamically typed language: \n",
    "    - The type of a variable is determined by the type of its value. \n",
    "    - Type checking happens at run time only\n",
    "    \n",
    "<b><i><a href=\"https://jupyter.readthedocs.io/en/latest/install.html\"> Jupyter notebook: </a></i></b> \n",
    " - Interactive code environment for python\n",
    " - Executable box by box\n",
    " - Contain both code and rich text elements \n",
    " \n",
    " <b><i>Tutorial materials are available [insert link] here. </a></i></b> "
   ]
  },
  {
   "cell_type": "markdown",
   "metadata": {
    "colab_type": "text",
    "id": "4--nDo24zN1g"
   },
   "source": [
    "**In the markdown cells of this notebook, you see examples of both plain markdown annotation, as well as the use of html code, for formatting.**\n",
    "**Click on the links to access associated documentation and tutorials**"
   ]
  },
  {
   "cell_type": "markdown",
   "metadata": {
    "colab_type": "text",
    "id": "fs8w6eaFaNhG"
   },
   "source": [
    "![Image](https://i.ibb.co/s233tZk/ML.png)\n",
    "![alt text](https://www.edgica.com/wp-content/files/python-print-example.png)"
   ]
  },
  {
   "cell_type": "markdown",
   "metadata": {
    "colab_type": "text",
    "id": "hWoYhfOmBzic"
   },
   "source": [
    "**You can find a more detailed comparison between java and python in** [here](https://www.guru99.com/java-vs-python.html)"
   ]
  },
  {
   "cell_type": "markdown",
   "metadata": {
    "colab_type": "text",
    "id": "N8YaqozZaNhH"
   },
   "source": [
    "# Types and Operators"
   ]
  },
  {
   "cell_type": "markdown",
   "metadata": {
    "colab_type": "text",
    "id": "ZkUhZ_CSaNhJ"
   },
   "source": [
    "<b>Numeric Types and Assignment</b>"
   ]
  },
  {
   "cell_type": "code",
   "execution_count": 1,
   "metadata": {
    "colab": {},
    "colab_type": "code",
    "id": "VHgq0kb2aNhL"
   },
   "outputs": [],
   "source": [
    "a = 5\n",
    "b = 5.5"
   ]
  },
  {
   "cell_type": "markdown",
   "metadata": {
    "colab_type": "text",
    "id": "UoSjV_JBaNhQ"
   },
   "source": [
    "<b>Type inferencing and type function</b>"
   ]
  },
  {
   "cell_type": "code",
   "execution_count": 0,
   "metadata": {
    "colab": {
     "base_uri": "https://localhost:8080/",
     "height": 35
    },
    "colab_type": "code",
    "executionInfo": {
     "elapsed": 1804,
     "status": "ok",
     "timestamp": 1589056148296,
     "user": {
      "displayName": "amirho3ein kh.",
      "photoUrl": "https://lh3.googleusercontent.com/a-/AOh14GjUcl4_Y4WvEimmvcD_mLZQanB0gyAhVNZuJiZGgg=s64",
      "userId": "16927950780918275768"
     },
     "user_tz": 180
    },
    "id": "aQVLj-WXaNhR",
    "outputId": "3cdb6c96-41e2-4754-af4d-ce0540dec7ec"
   },
   "outputs": [
    {
     "data": {
      "text/plain": [
       "int"
      ]
     },
     "execution_count": 2,
     "metadata": {
      "tags": []
     },
     "output_type": "execute_result"
    }
   ],
   "source": [
    "type(a)"
   ]
  },
  {
   "cell_type": "code",
   "execution_count": 0,
   "metadata": {
    "colab": {},
    "colab_type": "code",
    "id": "kbm99fMyaNha"
   },
   "outputs": [],
   "source": [
    "a = 5.17"
   ]
  },
  {
   "cell_type": "code",
   "execution_count": 0,
   "metadata": {
    "colab": {
     "base_uri": "https://localhost:8080/",
     "height": 35
    },
    "colab_type": "code",
    "executionInfo": {
     "elapsed": 761,
     "status": "ok",
     "timestamp": 1589056151180,
     "user": {
      "displayName": "amirho3ein kh.",
      "photoUrl": "https://lh3.googleusercontent.com/a-/AOh14GjUcl4_Y4WvEimmvcD_mLZQanB0gyAhVNZuJiZGgg=s64",
      "userId": "16927950780918275768"
     },
     "user_tz": 180
    },
    "id": "gfn2oafraNhe",
    "outputId": "74f2e201-3727-4af4-fc33-dfbcc6216886"
   },
   "outputs": [
    {
     "data": {
      "text/plain": [
       "float"
      ]
     },
     "execution_count": 4,
     "metadata": {
      "tags": []
     },
     "output_type": "execute_result"
    }
   ],
   "source": [
    "type(a)"
   ]
  },
  {
   "cell_type": "markdown",
   "metadata": {
    "colab_type": "text",
    "id": "ZzuImkrfaNhj"
   },
   "source": [
    "<b><h3>Operators</b></h3>"
   ]
  },
  {
   "cell_type": "code",
   "execution_count": 0,
   "metadata": {
    "colab": {},
    "colab_type": "code",
    "id": "8zp980z_aNhk"
   },
   "outputs": [],
   "source": [
    "a = 5\n",
    "b = 10"
   ]
  },
  {
   "cell_type": "markdown",
   "metadata": {
    "colab_type": "text",
    "id": "wVhH_wcdaNhn"
   },
   "source": [
    "<b>Addition</b>"
   ]
  },
  {
   "cell_type": "code",
   "execution_count": 0,
   "metadata": {
    "colab": {
     "base_uri": "https://localhost:8080/",
     "height": 35
    },
    "colab_type": "code",
    "executionInfo": {
     "elapsed": 3784,
     "status": "ok",
     "timestamp": 1589056178880,
     "user": {
      "displayName": "amirho3ein kh.",
      "photoUrl": "https://lh3.googleusercontent.com/a-/AOh14GjUcl4_Y4WvEimmvcD_mLZQanB0gyAhVNZuJiZGgg=s64",
      "userId": "16927950780918275768"
     },
     "user_tz": 180
    },
    "id": "gglna9uZaNho",
    "outputId": "02d57cb0-e55d-4ccd-cfb5-67d5b34381b3"
   },
   "outputs": [
    {
     "data": {
      "text/plain": [
       "15"
      ]
     },
     "execution_count": 6,
     "metadata": {
      "tags": []
     },
     "output_type": "execute_result"
    }
   ],
   "source": [
    "a + b"
   ]
  },
  {
   "cell_type": "markdown",
   "metadata": {
    "colab_type": "text",
    "id": "hduPVNUUaNhs"
   },
   "source": [
    "<b>Subtraction</b>"
   ]
  },
  {
   "cell_type": "code",
   "execution_count": 0,
   "metadata": {
    "colab": {
     "base_uri": "https://localhost:8080/",
     "height": 35
    },
    "colab_type": "code",
    "executionInfo": {
     "elapsed": 4704,
     "status": "ok",
     "timestamp": 1589056179866,
     "user": {
      "displayName": "amirho3ein kh.",
      "photoUrl": "https://lh3.googleusercontent.com/a-/AOh14GjUcl4_Y4WvEimmvcD_mLZQanB0gyAhVNZuJiZGgg=s64",
      "userId": "16927950780918275768"
     },
     "user_tz": 180
    },
    "id": "QdnTcridaNht",
    "outputId": "26d5f210-8b2a-4101-ba3c-d3baf0bb91ce"
   },
   "outputs": [
    {
     "data": {
      "text/plain": [
       "-5"
      ]
     },
     "execution_count": 7,
     "metadata": {
      "tags": []
     },
     "output_type": "execute_result"
    }
   ],
   "source": [
    "a - b"
   ]
  },
  {
   "cell_type": "markdown",
   "metadata": {
    "colab_type": "text",
    "id": "cZ1S51vUaNhw"
   },
   "source": [
    "<b>Exponentiation</b>"
   ]
  },
  {
   "cell_type": "code",
   "execution_count": 0,
   "metadata": {
    "colab": {
     "base_uri": "https://localhost:8080/",
     "height": 35
    },
    "colab_type": "code",
    "executionInfo": {
     "elapsed": 4679,
     "status": "ok",
     "timestamp": 1589056179867,
     "user": {
      "displayName": "amirho3ein kh.",
      "photoUrl": "https://lh3.googleusercontent.com/a-/AOh14GjUcl4_Y4WvEimmvcD_mLZQanB0gyAhVNZuJiZGgg=s64",
      "userId": "16927950780918275768"
     },
     "user_tz": 180
    },
    "id": "TpAV-UnBaNhx",
    "outputId": "4cb1afda-c417-4fb9-fd79-117b75899db9"
   },
   "outputs": [
    {
     "data": {
      "text/plain": [
       "9765625"
      ]
     },
     "execution_count": 8,
     "metadata": {
      "tags": []
     },
     "output_type": "execute_result"
    }
   ],
   "source": [
    "a ** b "
   ]
  },
  {
   "cell_type": "markdown",
   "metadata": {
    "colab_type": "text",
    "id": "Rw5ks6_uaNh1"
   },
   "source": [
    "<b>Dividing two integers</b>"
   ]
  },
  {
   "cell_type": "code",
   "execution_count": 0,
   "metadata": {
    "colab": {
     "base_uri": "https://localhost:8080/",
     "height": 35
    },
    "colab_type": "code",
    "executionInfo": {
     "elapsed": 4662,
     "status": "ok",
     "timestamp": 1589056179869,
     "user": {
      "displayName": "amirho3ein kh.",
      "photoUrl": "https://lh3.googleusercontent.com/a-/AOh14GjUcl4_Y4WvEimmvcD_mLZQanB0gyAhVNZuJiZGgg=s64",
      "userId": "16927950780918275768"
     },
     "user_tz": 180
    },
    "id": "pcI98dJhaNh1",
    "outputId": "0f9de3b3-c74d-4147-ae4c-047210b9ab4b"
   },
   "outputs": [
    {
     "data": {
      "text/plain": [
       "0.5"
      ]
     },
     "execution_count": 9,
     "metadata": {
      "tags": []
     },
     "output_type": "execute_result"
    }
   ],
   "source": [
    "a / b"
   ]
  },
  {
   "cell_type": "code",
   "execution_count": 0,
   "metadata": {
    "colab": {
     "base_uri": "https://localhost:8080/",
     "height": 35
    },
    "colab_type": "code",
    "executionInfo": {
     "elapsed": 4644,
     "status": "ok",
     "timestamp": 1589056179871,
     "user": {
      "displayName": "amirho3ein kh.",
      "photoUrl": "https://lh3.googleusercontent.com/a-/AOh14GjUcl4_Y4WvEimmvcD_mLZQanB0gyAhVNZuJiZGgg=s64",
      "userId": "16927950780918275768"
     },
     "user_tz": 180
    },
    "id": "Q_jjHXv1aNh6",
    "outputId": "40f5a5f1-d895-403f-ad91-45876899cebf"
   },
   "outputs": [
    {
     "data": {
      "text/plain": [
       "5.0"
      ]
     },
     "execution_count": 10,
     "metadata": {
      "tags": []
     },
     "output_type": "execute_result"
    }
   ],
   "source": [
    "10/2"
   ]
  },
  {
   "cell_type": "code",
   "execution_count": 0,
   "metadata": {
    "colab": {
     "base_uri": "https://localhost:8080/",
     "height": 35
    },
    "colab_type": "code",
    "executionInfo": {
     "elapsed": 4628,
     "status": "ok",
     "timestamp": 1589056179872,
     "user": {
      "displayName": "amirho3ein kh.",
      "photoUrl": "https://lh3.googleusercontent.com/a-/AOh14GjUcl4_Y4WvEimmvcD_mLZQanB0gyAhVNZuJiZGgg=s64",
      "userId": "16927950780918275768"
     },
     "user_tz": 180
    },
    "id": "4zERLLvSaNh8",
    "outputId": "9e3f40db-bc8f-41ea-9144-15507b70c299"
   },
   "outputs": [
    {
     "data": {
      "text/plain": [
       "5.0"
      ]
     },
     "execution_count": 11,
     "metadata": {
      "tags": []
     },
     "output_type": "execute_result"
    }
   ],
   "source": [
    "10/2.0"
   ]
  },
  {
   "cell_type": "markdown",
   "metadata": {
    "colab_type": "text",
    "id": "4zs8BTuoaNiA"
   },
   "source": [
    "<b>Type casting for float division</b>"
   ]
  },
  {
   "cell_type": "code",
   "execution_count": 0,
   "metadata": {
    "colab": {
     "base_uri": "https://localhost:8080/",
     "height": 35
    },
    "colab_type": "code",
    "executionInfo": {
     "elapsed": 4613,
     "status": "ok",
     "timestamp": 1589056179873,
     "user": {
      "displayName": "amirho3ein kh.",
      "photoUrl": "https://lh3.googleusercontent.com/a-/AOh14GjUcl4_Y4WvEimmvcD_mLZQanB0gyAhVNZuJiZGgg=s64",
      "userId": "16927950780918275768"
     },
     "user_tz": 180
    },
    "id": "X-xynkedaNiA",
    "outputId": "dd9c46b5-b8e0-49af-b53a-4a012a4b7a5e"
   },
   "outputs": [
    {
     "data": {
      "text/plain": [
       "0.5"
      ]
     },
     "execution_count": 12,
     "metadata": {
      "tags": []
     },
     "output_type": "execute_result"
    }
   ],
   "source": [
    "a / float(b)"
   ]
  },
  {
   "cell_type": "markdown",
   "metadata": {
    "colab_type": "text",
    "id": "azzFubrhaNiC"
   },
   "source": [
    "<h3><b>Strings and Characters</b></h3>"
   ]
  },
  {
   "cell_type": "code",
   "execution_count": 0,
   "metadata": {
    "colab": {},
    "colab_type": "code",
    "id": "svDVHd79aNiD"
   },
   "outputs": [],
   "source": [
    "string = \"abcd\"\n",
    "character = 'a'"
   ]
  },
  {
   "cell_type": "code",
   "execution_count": 0,
   "metadata": {
    "colab": {
     "base_uri": "https://localhost:8080/",
     "height": 35
    },
    "colab_type": "code",
    "executionInfo": {
     "elapsed": 4579,
     "status": "ok",
     "timestamp": 1589056179876,
     "user": {
      "displayName": "amirho3ein kh.",
      "photoUrl": "https://lh3.googleusercontent.com/a-/AOh14GjUcl4_Y4WvEimmvcD_mLZQanB0gyAhVNZuJiZGgg=s64",
      "userId": "16927950780918275768"
     },
     "user_tz": 180
    },
    "id": "dJJB0bakaNiF",
    "outputId": "4fc42c17-21d1-4dcc-e020-4eb178b8f105"
   },
   "outputs": [
    {
     "data": {
      "text/plain": [
       "str"
      ]
     },
     "execution_count": 14,
     "metadata": {
      "tags": []
     },
     "output_type": "execute_result"
    }
   ],
   "source": [
    "type(string)"
   ]
  },
  {
   "cell_type": "code",
   "execution_count": 0,
   "metadata": {
    "colab": {
     "base_uri": "https://localhost:8080/",
     "height": 35
    },
    "colab_type": "code",
    "executionInfo": {
     "elapsed": 4568,
     "status": "ok",
     "timestamp": 1589056179877,
     "user": {
      "displayName": "amirho3ein kh.",
      "photoUrl": "https://lh3.googleusercontent.com/a-/AOh14GjUcl4_Y4WvEimmvcD_mLZQanB0gyAhVNZuJiZGgg=s64",
      "userId": "16927950780918275768"
     },
     "user_tz": 180
    },
    "id": "Nc6z_OswaNiI",
    "outputId": "28dc5700-7fc5-4ce7-d375-d3c4b3b30e4d"
   },
   "outputs": [
    {
     "data": {
      "text/plain": [
       "str"
      ]
     },
     "execution_count": 15,
     "metadata": {
      "tags": []
     },
     "output_type": "execute_result"
    }
   ],
   "source": [
    "type(character)"
   ]
  },
  {
   "cell_type": "markdown",
   "metadata": {
    "colab_type": "text",
    "id": "BBxab_UWaNiL"
   },
   "source": [
    "<b>String operations</b>"
   ]
  },
  {
   "cell_type": "code",
   "execution_count": 0,
   "metadata": {
    "colab": {
     "base_uri": "https://localhost:8080/",
     "height": 35
    },
    "colab_type": "code",
    "executionInfo": {
     "elapsed": 4554,
     "status": "ok",
     "timestamp": 1589056179878,
     "user": {
      "displayName": "amirho3ein kh.",
      "photoUrl": "https://lh3.googleusercontent.com/a-/AOh14GjUcl4_Y4WvEimmvcD_mLZQanB0gyAhVNZuJiZGgg=s64",
      "userId": "16927950780918275768"
     },
     "user_tz": 180
    },
    "id": "RkV2lgPpaNiM",
    "outputId": "d4d47466-2ac1-478b-d555-cffab19a58b0"
   },
   "outputs": [
    {
     "data": {
      "text/plain": [
       "'abcd'"
      ]
     },
     "execution_count": 16,
     "metadata": {
      "tags": []
     },
     "output_type": "execute_result"
    }
   ],
   "source": [
    "string"
   ]
  },
  {
   "cell_type": "code",
   "execution_count": 0,
   "metadata": {
    "colab": {
     "base_uri": "https://localhost:8080/",
     "height": 35
    },
    "colab_type": "code",
    "executionInfo": {
     "elapsed": 4540,
     "status": "ok",
     "timestamp": 1589056179879,
     "user": {
      "displayName": "amirho3ein kh.",
      "photoUrl": "https://lh3.googleusercontent.com/a-/AOh14GjUcl4_Y4WvEimmvcD_mLZQanB0gyAhVNZuJiZGgg=s64",
      "userId": "16927950780918275768"
     },
     "user_tz": 180
    },
    "id": "2Lg_XlkLaNiO",
    "outputId": "d91db269-ba54-4d63-f682-b3579abf2177"
   },
   "outputs": [
    {
     "data": {
      "text/plain": [
       "4"
      ]
     },
     "execution_count": 17,
     "metadata": {
      "tags": []
     },
     "output_type": "execute_result"
    }
   ],
   "source": [
    "len(string)"
   ]
  },
  {
   "cell_type": "code",
   "execution_count": 0,
   "metadata": {
    "colab": {
     "base_uri": "https://localhost:8080/",
     "height": 35
    },
    "colab_type": "code",
    "executionInfo": {
     "elapsed": 4526,
     "status": "ok",
     "timestamp": 1589056179880,
     "user": {
      "displayName": "amirho3ein kh.",
      "photoUrl": "https://lh3.googleusercontent.com/a-/AOh14GjUcl4_Y4WvEimmvcD_mLZQanB0gyAhVNZuJiZGgg=s64",
      "userId": "16927950780918275768"
     },
     "user_tz": 180
    },
    "id": "I_zKlycnaNiR",
    "outputId": "8d5219a9-cc22-4e0b-b3df-0590f7b54f7b"
   },
   "outputs": [
    {
     "data": {
      "text/plain": [
       "['This', 'is', 'the', 'first', 'sentence']"
      ]
     },
     "execution_count": 18,
     "metadata": {
      "tags": []
     },
     "output_type": "execute_result"
    }
   ],
   "source": [
    "\"This is the first sentence\".split()"
   ]
  },
  {
   "cell_type": "code",
   "execution_count": 1,
   "metadata": {
    "colab": {
     "base_uri": "https://localhost:8080/",
     "height": 34
    },
    "colab_type": "code",
    "executionInfo": {
     "elapsed": 571,
     "status": "ok",
     "timestamp": 1589397222326,
     "user": {
      "displayName": "amirho3ein kh.",
      "photoUrl": "https://lh3.googleusercontent.com/a-/AOh14GjUcl4_Y4WvEimmvcD_mLZQanB0gyAhVNZuJiZGgg=s64",
      "userId": "16927950780918275768"
     },
     "user_tz": 180
    },
    "id": "HnbItPJ6aNiW",
    "outputId": "60d29c63-9a20-44df-9cd4-fc30b6f7d856"
   },
   "outputs": [
    {
     "data": {
      "text/plain": [
       "'1234'"
      ]
     },
     "execution_count": 1,
     "metadata": {
      "tags": []
     },
     "output_type": "execute_result"
    }
   ],
   "source": [
    "\"\".join([\"1\",\"2\",\"3\",\"4\"])"
   ]
  },
  {
   "cell_type": "code",
   "execution_count": 0,
   "metadata": {
    "colab": {
     "base_uri": "https://localhost:8080/",
     "height": 35
    },
    "colab_type": "code",
    "executionInfo": {
     "elapsed": 4499,
     "status": "ok",
     "timestamp": 1589056179884,
     "user": {
      "displayName": "amirho3ein kh.",
      "photoUrl": "https://lh3.googleusercontent.com/a-/AOh14GjUcl4_Y4WvEimmvcD_mLZQanB0gyAhVNZuJiZGgg=s64",
      "userId": "16927950780918275768"
     },
     "user_tz": 180
    },
    "id": "M0_t71pVaNiZ",
    "outputId": "5338846a-1d17-4236-db64-4f590f7f0caf"
   },
   "outputs": [
    {
     "data": {
      "text/plain": [
       "'abcde'"
      ]
     },
     "execution_count": 20,
     "metadata": {
      "tags": []
     },
     "output_type": "execute_result"
    }
   ],
   "source": [
    "\"AbCdE\".lower()"
   ]
  },
  {
   "cell_type": "code",
   "execution_count": 0,
   "metadata": {
    "colab": {
     "base_uri": "https://localhost:8080/",
     "height": 35
    },
    "colab_type": "code",
    "executionInfo": {
     "elapsed": 471,
     "status": "ok",
     "timestamp": 1589356810601,
     "user": {
      "displayName": "amirho3ein kh.",
      "photoUrl": "https://lh3.googleusercontent.com/a-/AOh14GjUcl4_Y4WvEimmvcD_mLZQanB0gyAhVNZuJiZGgg=s64",
      "userId": "16927950780918275768"
     },
     "user_tz": 180
    },
    "id": "87GaCRDnaNic",
    "outputId": "8dc86c8d-e99b-4d2a-cef8-572b851bf07d"
   },
   "outputs": [
    {
     "data": {
      "text/plain": [
       "'hello'"
      ]
     },
     "execution_count": 5,
     "metadata": {
      "tags": []
     },
     "output_type": "execute_result"
    }
   ],
   "source": [
    "\"(((hello)))\".strip(\"()\") # You can use rstrip or lstrip"
   ]
  },
  {
   "cell_type": "markdown",
   "metadata": {
    "colab_type": "text",
    "id": "cFe3bciqaNie"
   },
   "source": [
    "<b>Fun tricks</b>"
   ]
  },
  {
   "cell_type": "code",
   "execution_count": 2,
   "metadata": {
    "colab": {
     "base_uri": "https://localhost:8080/",
     "height": 35
    },
    "colab_type": "code",
    "executionInfo": {
     "elapsed": 4472,
     "status": "ok",
     "timestamp": 1589056179886,
     "user": {
      "displayName": "amirho3ein kh.",
      "photoUrl": "https://lh3.googleusercontent.com/a-/AOh14GjUcl4_Y4WvEimmvcD_mLZQanB0gyAhVNZuJiZGgg=s64",
      "userId": "16927950780918275768"
     },
     "user_tz": 180
    },
    "id": "YNfSwQweaNif",
    "outputId": "539bc7e9-d4cf-47a0-ad57-7ffa6a439ab2"
   },
   "outputs": [
    {
     "data": {
      "text/plain": [
       "'aaaaaaaaaa'"
      ]
     },
     "execution_count": 2,
     "metadata": {},
     "output_type": "execute_result"
    }
   ],
   "source": [
    "\"a\"*10"
   ]
  },
  {
   "cell_type": "code",
   "execution_count": 3,
   "metadata": {
    "colab": {},
    "colab_type": "code",
    "id": "55s32QLGaNii"
   },
   "outputs": [],
   "source": [
    "a = 10\n",
    "b = 20"
   ]
  },
  {
   "cell_type": "markdown",
   "metadata": {
    "colab_type": "text",
    "id": "wVfW7mlkaNik"
   },
   "source": [
    "<b>Swapping</b>"
   ]
  },
  {
   "cell_type": "code",
   "execution_count": 4,
   "metadata": {
    "colab": {
     "base_uri": "https://localhost:8080/",
     "height": 35
    },
    "colab_type": "code",
    "executionInfo": {
     "elapsed": 4453,
     "status": "ok",
     "timestamp": 1589056179887,
     "user": {
      "displayName": "amirho3ein kh.",
      "photoUrl": "https://lh3.googleusercontent.com/a-/AOh14GjUcl4_Y4WvEimmvcD_mLZQanB0gyAhVNZuJiZGgg=s64",
      "userId": "16927950780918275768"
     },
     "user_tz": 180
    },
    "id": "LpBI5OFNaNil",
    "outputId": "645c9596-721d-4570-aaf5-b0c58409a95f"
   },
   "outputs": [
    {
     "name": "stdout",
     "output_type": "stream",
     "text": [
      "10 20\n"
     ]
    }
   ],
   "source": [
    "print (a,b)"
   ]
  },
  {
   "cell_type": "code",
   "execution_count": 0,
   "metadata": {
    "colab": {},
    "colab_type": "code",
    "id": "z2fIoa3UaNio"
   },
   "outputs": [],
   "source": [
    "a,b = b,a"
   ]
  },
  {
   "cell_type": "code",
   "execution_count": 0,
   "metadata": {
    "colab": {
     "base_uri": "https://localhost:8080/",
     "height": 35
    },
    "colab_type": "code",
    "executionInfo": {
     "elapsed": 4434,
     "status": "ok",
     "timestamp": 1589056179889,
     "user": {
      "displayName": "amirho3ein kh.",
      "photoUrl": "https://lh3.googleusercontent.com/a-/AOh14GjUcl4_Y4WvEimmvcD_mLZQanB0gyAhVNZuJiZGgg=s64",
      "userId": "16927950780918275768"
     },
     "user_tz": 180
    },
    "id": "wRKMqYiOaNip",
    "outputId": "133b8613-2fbf-40a0-eb8a-8bccdf8cc96f"
   },
   "outputs": [
    {
     "name": "stdout",
     "output_type": "stream",
     "text": [
      "20 10\n"
     ]
    }
   ],
   "source": [
    "print (a,b)"
   ]
  },
  {
   "cell_type": "markdown",
   "metadata": {
    "colab_type": "text",
    "id": "ptCP2N0raNis"
   },
   "source": [
    "<b>Get Input from User</b>"
   ]
  },
  {
   "cell_type": "code",
   "execution_count": 2,
   "metadata": {
    "colab": {
     "base_uri": "https://localhost:8080/",
     "height": 51
    },
    "colab_type": "code",
    "executionInfo": {
     "elapsed": 6724,
     "status": "ok",
     "timestamp": 1589397329359,
     "user": {
      "displayName": "amirho3ein kh.",
      "photoUrl": "https://lh3.googleusercontent.com/a-/AOh14GjUcl4_Y4WvEimmvcD_mLZQanB0gyAhVNZuJiZGgg=s64",
      "userId": "16927950780918275768"
     },
     "user_tz": 180
    },
    "id": "XBivyXwbaNit",
    "outputId": "0fd583f9-5bcb-41d4-cd36-888295e5469d"
   },
   "outputs": [
    {
     "name": "stdout",
     "output_type": "stream",
     "text": [
      "Enter a sentence:hello world\n",
      "The inputted string is: hello world\n"
     ]
    }
   ],
   "source": [
    "inputString = input('Enter a sentence:')\n",
    "print('The inputted string is:', inputString)"
   ]
  },
  {
   "cell_type": "markdown",
   "metadata": {
    "colab_type": "text",
    "id": "0N8dBPWpaNiu"
   },
   "source": [
    "<b>Python Comments</b>"
   ]
  },
  {
   "cell_type": "code",
   "execution_count": 0,
   "metadata": {
    "colab": {},
    "colab_type": "code",
    "id": "5P2GL_18aNiv"
   },
   "outputs": [],
   "source": [
    "# This is a one line comment"
   ]
  },
  {
   "cell_type": "code",
   "execution_count": 0,
   "metadata": {
    "colab": {
     "base_uri": "https://localhost:8080/",
     "height": 35
    },
    "colab_type": "code",
    "executionInfo": {
     "elapsed": 76016,
     "status": "ok",
     "timestamp": 1589056251506,
     "user": {
      "displayName": "amirho3ein kh.",
      "photoUrl": "https://lh3.googleusercontent.com/a-/AOh14GjUcl4_Y4WvEimmvcD_mLZQanB0gyAhVNZuJiZGgg=s64",
      "userId": "16927950780918275768"
     },
     "user_tz": 180
    },
    "id": "ywc5XZeVaNiw",
    "outputId": "d574fe6c-09a9-4a85-ba8e-2a17e369206b"
   },
   "outputs": [
    {
     "data": {
      "text/plain": [
       "'This is a \\n    multiline\\n    comment.'"
      ]
     },
     "execution_count": 29,
     "metadata": {
      "tags": []
     },
     "output_type": "execute_result"
    }
   ],
   "source": [
    "\"\"\"This is a \n",
    "    multiline\n",
    "    comment.\"\"\""
   ]
  },
  {
   "cell_type": "markdown",
   "metadata": {
    "colab_type": "text",
    "id": "fig_9mLvaNiy"
   },
   "source": [
    "# Lists\n",
    "<b><a href =\"https://thomas-cokelaer.info/tutorials/python/lists.html\"> Lists </a> are ordered collection.</b>"
   ]
  },
  {
   "cell_type": "code",
   "execution_count": 0,
   "metadata": {
    "colab": {},
    "colab_type": "code",
    "id": "Z-wr5w23aNiy"
   },
   "outputs": [],
   "source": [
    "my_list = ['John','Sarah','Jack']"
   ]
  },
  {
   "cell_type": "code",
   "execution_count": 0,
   "metadata": {
    "colab": {
     "base_uri": "https://localhost:8080/",
     "height": 35
    },
    "colab_type": "code",
    "executionInfo": {
     "elapsed": 689,
     "status": "ok",
     "timestamp": 1589146342224,
     "user": {
      "displayName": "amirho3ein kh.",
      "photoUrl": "https://lh3.googleusercontent.com/a-/AOh14GjUcl4_Y4WvEimmvcD_mLZQanB0gyAhVNZuJiZGgg=s64",
      "userId": "16927950780918275768"
     },
     "user_tz": 180
    },
    "id": "KvdtgHCJaNiz",
    "outputId": "35170b3d-808a-4430-a2ac-f216a7812e21"
   },
   "outputs": [
    {
     "data": {
      "text/plain": [
       "'John'"
      ]
     },
     "execution_count": 4,
     "metadata": {
      "tags": []
     },
     "output_type": "execute_result"
    }
   ],
   "source": [
    "my_list[0]"
   ]
  },
  {
   "cell_type": "code",
   "execution_count": 0,
   "metadata": {
    "colab": {
     "base_uri": "https://localhost:8080/",
     "height": 35
    },
    "colab_type": "code",
    "executionInfo": {
     "elapsed": 75990,
     "status": "ok",
     "timestamp": 1589056251513,
     "user": {
      "displayName": "amirho3ein kh.",
      "photoUrl": "https://lh3.googleusercontent.com/a-/AOh14GjUcl4_Y4WvEimmvcD_mLZQanB0gyAhVNZuJiZGgg=s64",
      "userId": "16927950780918275768"
     },
     "user_tz": 180
    },
    "id": "BhcpXfVtaNi0",
    "outputId": "82a97bef-fb8b-41f2-b343-9bb45abd68d6"
   },
   "outputs": [
    {
     "data": {
      "text/plain": [
       "'Jay'"
      ]
     },
     "execution_count": 32,
     "metadata": {
      "tags": []
     },
     "output_type": "execute_result"
    }
   ],
   "source": [
    "my_list[2]"
   ]
  },
  {
   "cell_type": "code",
   "execution_count": 0,
   "metadata": {
    "colab": {
     "base_uri": "https://localhost:8080/",
     "height": 35
    },
    "colab_type": "code",
    "executionInfo": {
     "elapsed": 697,
     "status": "ok",
     "timestamp": 1589146346606,
     "user": {
      "displayName": "amirho3ein kh.",
      "photoUrl": "https://lh3.googleusercontent.com/a-/AOh14GjUcl4_Y4WvEimmvcD_mLZQanB0gyAhVNZuJiZGgg=s64",
      "userId": "16927950780918275768"
     },
     "user_tz": 180
    },
    "id": "PjiG-1HRaNi1",
    "outputId": "bfa390a0-4e6c-4401-cb45-1c8f81404671"
   },
   "outputs": [
    {
     "data": {
      "text/plain": [
       "'Jack'"
      ]
     },
     "execution_count": 5,
     "metadata": {
      "tags": []
     },
     "output_type": "execute_result"
    }
   ],
   "source": [
    "my_list[-1]"
   ]
  },
  {
   "cell_type": "code",
   "execution_count": 0,
   "metadata": {
    "colab": {
     "base_uri": "https://localhost:8080/",
     "height": 35
    },
    "colab_type": "code",
    "executionInfo": {
     "elapsed": 75967,
     "status": "ok",
     "timestamp": 1589056251515,
     "user": {
      "displayName": "amirho3ein kh.",
      "photoUrl": "https://lh3.googleusercontent.com/a-/AOh14GjUcl4_Y4WvEimmvcD_mLZQanB0gyAhVNZuJiZGgg=s64",
      "userId": "16927950780918275768"
     },
     "user_tz": 180
    },
    "id": "sZbmXRv-aNi3",
    "outputId": "3699fca8-0757-4975-a925-e9a7f657798d"
   },
   "outputs": [
    {
     "data": {
      "text/plain": [
       "'Sarah'"
      ]
     },
     "execution_count": 34,
     "metadata": {
      "tags": []
     },
     "output_type": "execute_result"
    }
   ],
   "source": [
    "my_list[-2]"
   ]
  },
  {
   "cell_type": "code",
   "execution_count": 5,
   "metadata": {
    "colab": {
     "base_uri": "https://localhost:8080/",
     "height": 34
    },
    "colab_type": "code",
    "executionInfo": {
     "elapsed": 363,
     "status": "ok",
     "timestamp": 1589397474998,
     "user": {
      "displayName": "amirho3ein kh.",
      "photoUrl": "https://lh3.googleusercontent.com/a-/AOh14GjUcl4_Y4WvEimmvcD_mLZQanB0gyAhVNZuJiZGgg=s64",
      "userId": "16927950780918275768"
     },
     "user_tz": 180
    },
    "id": "SpDNA2HVaNi5",
    "outputId": "6522c032-c791-4e40-e6cb-90e20d83b6c3"
   },
   "outputs": [
    {
     "data": {
      "text/plain": [
       "False"
      ]
     },
     "execution_count": 5,
     "metadata": {
      "tags": []
     },
     "output_type": "execute_result"
    }
   ],
   "source": [
    "my_list = [1,2,3,4,5,6]\n",
    "7 in my_list  # Checking if 5 exists in the list"
   ]
  },
  {
   "cell_type": "code",
   "execution_count": 0,
   "metadata": {
    "colab": {
     "base_uri": "https://localhost:8080/",
     "height": 35
    },
    "colab_type": "code",
    "executionInfo": {
     "elapsed": 75943,
     "status": "ok",
     "timestamp": 1589056251516,
     "user": {
      "displayName": "amirho3ein kh.",
      "photoUrl": "https://lh3.googleusercontent.com/a-/AOh14GjUcl4_Y4WvEimmvcD_mLZQanB0gyAhVNZuJiZGgg=s64",
      "userId": "16927950780918275768"
     },
     "user_tz": 180
    },
    "id": "mR_KRK2VaNi7",
    "outputId": "0691a63f-f2a1-4709-99b6-35b2649a552e"
   },
   "outputs": [
    {
     "data": {
      "text/plain": [
       "True"
      ]
     },
     "execution_count": 36,
     "metadata": {
      "tags": []
     },
     "output_type": "execute_result"
    }
   ],
   "source": [
    "100 not in my_list"
   ]
  },
  {
   "cell_type": "code",
   "execution_count": 0,
   "metadata": {
    "colab": {},
    "colab_type": "code",
    "id": "d3jb9gxMaNi8"
   },
   "outputs": [],
   "source": [
    "my_list.append(12) # extend, pop ... "
   ]
  },
  {
   "cell_type": "code",
   "execution_count": 0,
   "metadata": {
    "colab": {
     "base_uri": "https://localhost:8080/",
     "height": 35
    },
    "colab_type": "code",
    "executionInfo": {
     "elapsed": 75926,
     "status": "ok",
     "timestamp": 1589056251518,
     "user": {
      "displayName": "amirho3ein kh.",
      "photoUrl": "https://lh3.googleusercontent.com/a-/AOh14GjUcl4_Y4WvEimmvcD_mLZQanB0gyAhVNZuJiZGgg=s64",
      "userId": "16927950780918275768"
     },
     "user_tz": 180
    },
    "id": "_2_Q-fevaNi9",
    "outputId": "5436bf83-69e1-4c67-d485-6d25a62548c6"
   },
   "outputs": [
    {
     "data": {
      "text/plain": [
       "[1, 2, 3, 4, 5, 6, 12]"
      ]
     },
     "execution_count": 38,
     "metadata": {
      "tags": []
     },
     "output_type": "execute_result"
    }
   ],
   "source": [
    "my_list"
   ]
  },
  {
   "cell_type": "markdown",
   "metadata": {
    "colab_type": "text",
    "id": "MFXwZPzVaNi_"
   },
   "source": [
    "**In Python -> You can have any kind of element in a list**"
   ]
  },
  {
   "cell_type": "code",
   "execution_count": 0,
   "metadata": {
    "colab": {},
    "colab_type": "code",
    "id": "RK3XpZLRaNi_"
   },
   "outputs": [],
   "source": [
    "my_list = [\"John\",10,12.5]"
   ]
  },
  {
   "cell_type": "markdown",
   "metadata": {
    "colab_type": "text",
    "id": "htXni5MhaNjA"
   },
   "source": [
    "<b>List Comprehension</b>"
   ]
  },
  {
   "cell_type": "code",
   "execution_count": 0,
   "metadata": {
    "colab": {},
    "colab_type": "code",
    "id": "zJZBYItMaNjA"
   },
   "outputs": [],
   "source": [
    "my_list = [1,2,3,4,5,6,7,8,9,10]"
   ]
  },
  {
   "cell_type": "code",
   "execution_count": 0,
   "metadata": {
    "colab": {
     "base_uri": "https://localhost:8080/",
     "height": 35
    },
    "colab_type": "code",
    "executionInfo": {
     "elapsed": 75901,
     "status": "ok",
     "timestamp": 1589056251520,
     "user": {
      "displayName": "amirho3ein kh.",
      "photoUrl": "https://lh3.googleusercontent.com/a-/AOh14GjUcl4_Y4WvEimmvcD_mLZQanB0gyAhVNZuJiZGgg=s64",
      "userId": "16927950780918275768"
     },
     "user_tz": 180
    },
    "id": "Bwo8F8IhaNjB",
    "outputId": "1c809aa9-7ef9-403c-a9a2-dbbd24e01e59"
   },
   "outputs": [
    {
     "data": {
      "text/plain": [
       "[4, 8, 12, 16, 20, 24, 28, 32, 36, 40]"
      ]
     },
     "execution_count": 41,
     "metadata": {
      "tags": []
     },
     "output_type": "execute_result"
    }
   ],
   "source": [
    "[4*i for i in my_list]"
   ]
  },
  {
   "cell_type": "code",
   "execution_count": 0,
   "metadata": {
    "colab": {
     "base_uri": "https://localhost:8080/",
     "height": 35
    },
    "colab_type": "code",
    "executionInfo": {
     "elapsed": 75886,
     "status": "ok",
     "timestamp": 1589056251520,
     "user": {
      "displayName": "amirho3ein kh.",
      "photoUrl": "https://lh3.googleusercontent.com/a-/AOh14GjUcl4_Y4WvEimmvcD_mLZQanB0gyAhVNZuJiZGgg=s64",
      "userId": "16927950780918275768"
     },
     "user_tz": 180
    },
    "id": "JlZeEjDNaNjD",
    "outputId": "6db915b9-d134-4fc2-f1f8-2dadf18d34ee"
   },
   "outputs": [
    {
     "data": {
      "text/plain": [
       "[1, 3, 5, 7, 9]"
      ]
     },
     "execution_count": 42,
     "metadata": {
      "tags": []
     },
     "output_type": "execute_result"
    }
   ],
   "source": [
    "[i for i in my_list if i%2==1]"
   ]
  },
  {
   "cell_type": "code",
   "execution_count": 0,
   "metadata": {
    "colab": {
     "base_uri": "https://localhost:8080/",
     "height": 35
    },
    "colab_type": "code",
    "executionInfo": {
     "elapsed": 75872,
     "status": "ok",
     "timestamp": 1589056251520,
     "user": {
      "displayName": "amirho3ein kh.",
      "photoUrl": "https://lh3.googleusercontent.com/a-/AOh14GjUcl4_Y4WvEimmvcD_mLZQanB0gyAhVNZuJiZGgg=s64",
      "userId": "16927950780918275768"
     },
     "user_tz": 180
    },
    "id": "VqvPKmLJaNjE",
    "outputId": "920d7aa9-eaa6-444c-b0a5-96137b1b7ef4"
   },
   "outputs": [
    {
     "data": {
      "text/plain": [
       "[1, 9, 25, 49, 81]"
      ]
     },
     "execution_count": 43,
     "metadata": {
      "tags": []
     },
     "output_type": "execute_result"
    }
   ],
   "source": [
    "[i**2 for i in my_list if i%2==1]"
   ]
  },
  {
   "cell_type": "markdown",
   "metadata": {
    "colab_type": "text",
    "id": "0LdaHtoLaNjF"
   },
   "source": [
    "<b>range function</b>"
   ]
  },
  {
   "cell_type": "code",
   "execution_count": 0,
   "metadata": {
    "colab": {
     "base_uri": "https://localhost:8080/",
     "height": 35
    },
    "colab_type": "code",
    "executionInfo": {
     "elapsed": 75859,
     "status": "ok",
     "timestamp": 1589056251520,
     "user": {
      "displayName": "amirho3ein kh.",
      "photoUrl": "https://lh3.googleusercontent.com/a-/AOh14GjUcl4_Y4WvEimmvcD_mLZQanB0gyAhVNZuJiZGgg=s64",
      "userId": "16927950780918275768"
     },
     "user_tz": 180
    },
    "id": "kSybYCE0aNjF",
    "outputId": "0080701a-fa74-4a3a-c0a7-4c4f6425c5bf"
   },
   "outputs": [
    {
     "data": {
      "text/plain": [
       "range(0, 10)"
      ]
     },
     "execution_count": 44,
     "metadata": {
      "tags": []
     },
     "output_type": "execute_result"
    }
   ],
   "source": [
    "range(0,10,1) # start, end, step"
   ]
  },
  {
   "cell_type": "code",
   "execution_count": 0,
   "metadata": {
    "colab": {
     "base_uri": "https://localhost:8080/",
     "height": 35
    },
    "colab_type": "code",
    "executionInfo": {
     "elapsed": 75845,
     "status": "ok",
     "timestamp": 1589056251521,
     "user": {
      "displayName": "amirho3ein kh.",
      "photoUrl": "https://lh3.googleusercontent.com/a-/AOh14GjUcl4_Y4WvEimmvcD_mLZQanB0gyAhVNZuJiZGgg=s64",
      "userId": "16927950780918275768"
     },
     "user_tz": 180
    },
    "id": "P80ejshpaNjH",
    "outputId": "a188cfe8-a8be-454f-bc1d-b534386af7c7"
   },
   "outputs": [
    {
     "data": {
      "text/plain": [
       "range(0, 10, 2)"
      ]
     },
     "execution_count": 45,
     "metadata": {
      "tags": []
     },
     "output_type": "execute_result"
    }
   ],
   "source": [
    "range(0,10,2)"
   ]
  },
  {
   "cell_type": "code",
   "execution_count": 0,
   "metadata": {
    "colab": {
     "base_uri": "https://localhost:8080/",
     "height": 35
    },
    "colab_type": "code",
    "executionInfo": {
     "elapsed": 75831,
     "status": "ok",
     "timestamp": 1589056251522,
     "user": {
      "displayName": "amirho3ein kh.",
      "photoUrl": "https://lh3.googleusercontent.com/a-/AOh14GjUcl4_Y4WvEimmvcD_mLZQanB0gyAhVNZuJiZGgg=s64",
      "userId": "16927950780918275768"
     },
     "user_tz": 180
    },
    "id": "p66u2t3oaNjJ",
    "outputId": "b22f4e02-00cc-4b40-f762-5109cc980dbd"
   },
   "outputs": [
    {
     "data": {
      "text/plain": [
       "range(10, 0, -1)"
      ]
     },
     "execution_count": 46,
     "metadata": {
      "tags": []
     },
     "output_type": "execute_result"
    }
   ],
   "source": [
    "range(10,0,-1)"
   ]
  },
  {
   "cell_type": "markdown",
   "metadata": {
    "colab_type": "text",
    "id": "OnOOdydXaNjK"
   },
   "source": [
    " <b><i> <a href=\"https://www.oreilly.com/learning/how-do-i-use-the-slice-notation-in-python\"> Slicing</a> is a way of getting subsets of data structures. The basic notation is: [start:stop:step]</i></b> \n",
    " - <b>List Slicing</b>\n"
   ]
  },
  {
   "cell_type": "code",
   "execution_count": 0,
   "metadata": {
    "colab": {
     "base_uri": "https://localhost:8080/",
     "height": 35
    },
    "colab_type": "code",
    "executionInfo": {
     "elapsed": 75817,
     "status": "ok",
     "timestamp": 1589056251522,
     "user": {
      "displayName": "amirho3ein kh.",
      "photoUrl": "https://lh3.googleusercontent.com/a-/AOh14GjUcl4_Y4WvEimmvcD_mLZQanB0gyAhVNZuJiZGgg=s64",
      "userId": "16927950780918275768"
     },
     "user_tz": 180
    },
    "id": "5Y20IkFIaNjK",
    "outputId": "0e9f02aa-d2d4-4406-e131-1b516fd39890"
   },
   "outputs": [
    {
     "data": {
      "text/plain": [
       "[1, 2, 3, 4, 5, 6, 7, 8, 9, 10]"
      ]
     },
     "execution_count": 47,
     "metadata": {
      "tags": []
     },
     "output_type": "execute_result"
    }
   ],
   "source": [
    "my_list"
   ]
  },
  {
   "cell_type": "code",
   "execution_count": 0,
   "metadata": {
    "colab": {
     "base_uri": "https://localhost:8080/",
     "height": 35
    },
    "colab_type": "code",
    "executionInfo": {
     "elapsed": 75802,
     "status": "ok",
     "timestamp": 1589056251522,
     "user": {
      "displayName": "amirho3ein kh.",
      "photoUrl": "https://lh3.googleusercontent.com/a-/AOh14GjUcl4_Y4WvEimmvcD_mLZQanB0gyAhVNZuJiZGgg=s64",
      "userId": "16927950780918275768"
     },
     "user_tz": 180
    },
    "id": "rDqSrpgFaNjM",
    "outputId": "65a46943-c0ef-4c7e-9e7c-12350b28922c"
   },
   "outputs": [
    {
     "data": {
      "text/plain": [
       "[1, 2, 3, 4, 5, 6, 7, 8, 9, 10]"
      ]
     },
     "execution_count": 48,
     "metadata": {
      "tags": []
     },
     "output_type": "execute_result"
    }
   ],
   "source": [
    "my_list[:]"
   ]
  },
  {
   "cell_type": "code",
   "execution_count": 0,
   "metadata": {
    "colab": {
     "base_uri": "https://localhost:8080/",
     "height": 35
    },
    "colab_type": "code",
    "executionInfo": {
     "elapsed": 76202,
     "status": "ok",
     "timestamp": 1589056251936,
     "user": {
      "displayName": "amirho3ein kh.",
      "photoUrl": "https://lh3.googleusercontent.com/a-/AOh14GjUcl4_Y4WvEimmvcD_mLZQanB0gyAhVNZuJiZGgg=s64",
      "userId": "16927950780918275768"
     },
     "user_tz": 180
    },
    "id": "AnurAwESXmcw",
    "outputId": "9c47005e-f365-4c31-8adc-80a338d82ecd"
   },
   "outputs": [
    {
     "data": {
      "text/plain": [
       "[1, 2, 3, 4, 5]"
      ]
     },
     "execution_count": 49,
     "metadata": {
      "tags": []
     },
     "output_type": "execute_result"
    }
   ],
   "source": [
    "my_list[0:5]"
   ]
  },
  {
   "cell_type": "code",
   "execution_count": 0,
   "metadata": {
    "colab": {
     "base_uri": "https://localhost:8080/",
     "height": 35
    },
    "colab_type": "code",
    "executionInfo": {
     "elapsed": 76192,
     "status": "ok",
     "timestamp": 1589056251937,
     "user": {
      "displayName": "amirho3ein kh.",
      "photoUrl": "https://lh3.googleusercontent.com/a-/AOh14GjUcl4_Y4WvEimmvcD_mLZQanB0gyAhVNZuJiZGgg=s64",
      "userId": "16927950780918275768"
     },
     "user_tz": 180
    },
    "id": "aLlykd8MXorV",
    "outputId": "ca3e65b6-6c14-4cf7-bc9b-b31ad8289c4f"
   },
   "outputs": [
    {
     "data": {
      "text/plain": [
       "[1, 2, 3, 4, 5]"
      ]
     },
     "execution_count": 50,
     "metadata": {
      "tags": []
     },
     "output_type": "execute_result"
    }
   ],
   "source": [
    "my_list[:5]"
   ]
  },
  {
   "cell_type": "code",
   "execution_count": 0,
   "metadata": {
    "colab": {
     "base_uri": "https://localhost:8080/",
     "height": 35
    },
    "colab_type": "code",
    "executionInfo": {
     "elapsed": 76180,
     "status": "ok",
     "timestamp": 1589056251938,
     "user": {
      "displayName": "amirho3ein kh.",
      "photoUrl": "https://lh3.googleusercontent.com/a-/AOh14GjUcl4_Y4WvEimmvcD_mLZQanB0gyAhVNZuJiZGgg=s64",
      "userId": "16927950780918275768"
     },
     "user_tz": 180
    },
    "id": "wGPiCuweX7HR",
    "outputId": "a289e75f-1204-450e-b7e1-2f691dc35a16"
   },
   "outputs": [
    {
     "data": {
      "text/plain": [
       "[4, 5, 6, 7, 8, 9, 10]"
      ]
     },
     "execution_count": 51,
     "metadata": {
      "tags": []
     },
     "output_type": "execute_result"
    }
   ],
   "source": [
    "my_list[3:10]"
   ]
  },
  {
   "cell_type": "code",
   "execution_count": 0,
   "metadata": {
    "colab": {
     "base_uri": "https://localhost:8080/",
     "height": 35
    },
    "colab_type": "code",
    "executionInfo": {
     "elapsed": 76176,
     "status": "ok",
     "timestamp": 1589056251939,
     "user": {
      "displayName": "amirho3ein kh.",
      "photoUrl": "https://lh3.googleusercontent.com/a-/AOh14GjUcl4_Y4WvEimmvcD_mLZQanB0gyAhVNZuJiZGgg=s64",
      "userId": "16927950780918275768"
     },
     "user_tz": 180
    },
    "id": "YXB8lDQRX_ST",
    "outputId": "5a578632-c8b8-4345-deb6-c8a1bbac5b5a"
   },
   "outputs": [
    {
     "data": {
      "text/plain": [
       "[8, 9, 10]"
      ]
     },
     "execution_count": 52,
     "metadata": {
      "tags": []
     },
     "output_type": "execute_result"
    }
   ],
   "source": [
    "my_list[7:]"
   ]
  },
  {
   "cell_type": "code",
   "execution_count": 0,
   "metadata": {
    "colab": {
     "base_uri": "https://localhost:8080/",
     "height": 35
    },
    "colab_type": "code",
    "executionInfo": {
     "elapsed": 76163,
     "status": "ok",
     "timestamp": 1589056251939,
     "user": {
      "displayName": "amirho3ein kh.",
      "photoUrl": "https://lh3.googleusercontent.com/a-/AOh14GjUcl4_Y4WvEimmvcD_mLZQanB0gyAhVNZuJiZGgg=s64",
      "userId": "16927950780918275768"
     },
     "user_tz": 180
    },
    "id": "d9eFqZyIaNjO",
    "outputId": "3af12e76-c490-4dc1-d735-5fbd55fc942e"
   },
   "outputs": [
    {
     "data": {
      "text/plain": [
       "[8, 9, 10]"
      ]
     },
     "execution_count": 53,
     "metadata": {
      "tags": []
     },
     "output_type": "execute_result"
    }
   ],
   "source": [
    "my_list[-3:]"
   ]
  },
  {
   "cell_type": "code",
   "execution_count": 0,
   "metadata": {
    "colab": {
     "base_uri": "https://localhost:8080/",
     "height": 35
    },
    "colab_type": "code",
    "executionInfo": {
     "elapsed": 76148,
     "status": "ok",
     "timestamp": 1589056251939,
     "user": {
      "displayName": "amirho3ein kh.",
      "photoUrl": "https://lh3.googleusercontent.com/a-/AOh14GjUcl4_Y4WvEimmvcD_mLZQanB0gyAhVNZuJiZGgg=s64",
      "userId": "16927950780918275768"
     },
     "user_tz": 180
    },
    "id": "pCaS_xv9aNjR",
    "outputId": "25d8985f-f0ec-4c60-ddf2-bf53b9674b60"
   },
   "outputs": [
    {
     "data": {
      "text/plain": [
       "[3, 4, 5, 6, 7]"
      ]
     },
     "execution_count": 54,
     "metadata": {
      "tags": []
     },
     "output_type": "execute_result"
    }
   ],
   "source": [
    "my_list[2:-3]"
   ]
  },
  {
   "cell_type": "code",
   "execution_count": 0,
   "metadata": {
    "colab": {
     "base_uri": "https://localhost:8080/",
     "height": 35
    },
    "colab_type": "code",
    "executionInfo": {
     "elapsed": 76135,
     "status": "ok",
     "timestamp": 1589056251940,
     "user": {
      "displayName": "amirho3ein kh.",
      "photoUrl": "https://lh3.googleusercontent.com/a-/AOh14GjUcl4_Y4WvEimmvcD_mLZQanB0gyAhVNZuJiZGgg=s64",
      "userId": "16927950780918275768"
     },
     "user_tz": 180
    },
    "id": "knKKfHElaNjU",
    "outputId": "ec6b9016-5316-4d52-9d43-08e9a6b5dd2f"
   },
   "outputs": [
    {
     "data": {
      "text/plain": [
       "[10, 9, 8, 7, 6, 5, 4, 3, 2, 1]"
      ]
     },
     "execution_count": 55,
     "metadata": {
      "tags": []
     },
     "output_type": "execute_result"
    }
   ],
   "source": [
    "my_list[::-1] #start and end are inferred"
   ]
  },
  {
   "cell_type": "markdown",
   "metadata": {
    "colab_type": "text",
    "id": "3kCvkR6bhL3W"
   },
   "source": [
    "**Practice 1**\n",
    "*   Given list1 and list2 create the output list and print it\n",
    "\n"
   ]
  },
  {
   "cell_type": "code",
   "execution_count": 0,
   "metadata": {
    "colab": {},
    "colab_type": "code",
    "id": "Pbr1Y7APhOvz"
   },
   "outputs": [],
   "source": [
    "list1 = [\"Hello \", \"take \"]\n",
    "list2 = [\"Dear\", \"Sir\"]\n",
    "# output = ['Hello Dear', 'Hello Sir', 'take Dear', 'take Sir']\n"
   ]
  },
  {
   "cell_type": "markdown",
   "metadata": {
    "colab_type": "text",
    "id": "PnkAL4KsaNjW"
   },
   "source": [
    "# Tuples\n",
    " \n",
    "  <b><i><a href = \"https://thomas-cokelaer.info/tutorials/python/tuples.html\">Tuples </a>are immutable arrays.</i></b>\n"
   ]
  },
  {
   "cell_type": "code",
   "execution_count": 0,
   "metadata": {
    "colab": {},
    "colab_type": "code",
    "id": "_ttNaL09aNjW"
   },
   "outputs": [],
   "source": [
    "language = (\"French\", \"German\", \"English\", \"Polish\")"
   ]
  },
  {
   "cell_type": "code",
   "execution_count": 0,
   "metadata": {
    "colab": {
     "base_uri": "https://localhost:8080/",
     "height": 35
    },
    "colab_type": "code",
    "executionInfo": {
     "elapsed": 76119,
     "status": "ok",
     "timestamp": 1589056251941,
     "user": {
      "displayName": "amirho3ein kh.",
      "photoUrl": "https://lh3.googleusercontent.com/a-/AOh14GjUcl4_Y4WvEimmvcD_mLZQanB0gyAhVNZuJiZGgg=s64",
      "userId": "16927950780918275768"
     },
     "user_tz": 180
    },
    "id": "7t7jf6M8aNjY",
    "outputId": "158a699e-daf3-4954-d43a-0c7c09c18620"
   },
   "outputs": [
    {
     "data": {
      "text/plain": [
       "'French'"
      ]
     },
     "execution_count": 57,
     "metadata": {
      "tags": []
     },
     "output_type": "execute_result"
    }
   ],
   "source": [
    "language[0]"
   ]
  },
  {
   "cell_type": "code",
   "execution_count": 0,
   "metadata": {
    "colab": {
     "base_uri": "https://localhost:8080/",
     "height": 35
    },
    "colab_type": "code",
    "executionInfo": {
     "elapsed": 76106,
     "status": "ok",
     "timestamp": 1589056251941,
     "user": {
      "displayName": "amirho3ein kh.",
      "photoUrl": "https://lh3.googleusercontent.com/a-/AOh14GjUcl4_Y4WvEimmvcD_mLZQanB0gyAhVNZuJiZGgg=s64",
      "userId": "16927950780918275768"
     },
     "user_tz": 180
    },
    "id": "f9Be_kPPaNja",
    "outputId": "72cc360a-0c4e-4dde-9cd5-9b4712a512f5"
   },
   "outputs": [
    {
     "data": {
      "text/plain": [
       "'Polish'"
      ]
     },
     "execution_count": 58,
     "metadata": {
      "tags": []
     },
     "output_type": "execute_result"
    }
   ],
   "source": [
    "language[-1]"
   ]
  },
  {
   "cell_type": "code",
   "execution_count": 0,
   "metadata": {
    "colab": {
     "base_uri": "https://localhost:8080/",
     "height": 169
    },
    "colab_type": "code",
    "executionInfo": {
     "elapsed": 77758,
     "status": "error",
     "timestamp": 1589056253606,
     "user": {
      "displayName": "amirho3ein kh.",
      "photoUrl": "https://lh3.googleusercontent.com/a-/AOh14GjUcl4_Y4WvEimmvcD_mLZQanB0gyAhVNZuJiZGgg=s64",
      "userId": "16927950780918275768"
     },
     "user_tz": 180
    },
    "id": "eG3eR-nRaNjc",
    "outputId": "518e5f61-99f8-413a-bb0c-51145de15218"
   },
   "outputs": [
    {
     "ename": "TypeError",
     "evalue": "ignored",
     "output_type": "error",
     "traceback": [
      "\u001b[0;31m---------------------------------------------------------------------------\u001b[0m",
      "\u001b[0;31mTypeError\u001b[0m                                 Traceback (most recent call last)",
      "\u001b[0;32m<ipython-input-59-4a06424fc2b3>\u001b[0m in \u001b[0;36m<module>\u001b[0;34m()\u001b[0m\n\u001b[0;32m----> 1\u001b[0;31m \u001b[0mlanguage\u001b[0m\u001b[0;34m[\u001b[0m\u001b[0;36m1\u001b[0m\u001b[0;34m]\u001b[0m\u001b[0;34m=\u001b[0m\u001b[0;34m'Korean'\u001b[0m\u001b[0;34m\u001b[0m\u001b[0;34m\u001b[0m\u001b[0m\n\u001b[0m",
      "\u001b[0;31mTypeError\u001b[0m: 'tuple' object does not support item assignment"
     ]
    }
   ],
   "source": [
    "language[1]='Korean' "
   ]
  },
  {
   "cell_type": "markdown",
   "metadata": {
    "colab_type": "text",
    "id": "eI-kCOrwj0tQ"
   },
   "source": [
    "**Practice 2**\n",
    "\n",
    "*   print value 20 from the following tuple\n",
    "\n"
   ]
  },
  {
   "cell_type": "code",
   "execution_count": 0,
   "metadata": {
    "colab": {},
    "colab_type": "code",
    "id": "XpaE9uZfkTMA"
   },
   "outputs": [],
   "source": [
    "aTuple = (\"Orange\", [10, 20, 30], (5, 15, 25))"
   ]
  },
  {
   "cell_type": "markdown",
   "metadata": {
    "colab_type": "text",
    "id": "CK-EnEvVaNje"
   },
   "source": [
    "# Sets\n",
    "<b><a href= \"https://thomas-cokelaer.info/tutorials/python/sets.html\">Sets  </a>are mutable unordered sequence of unique elements.</b>"
   ]
  },
  {
   "cell_type": "code",
   "execution_count": 0,
   "metadata": {
    "colab": {
     "base_uri": "https://localhost:8080/",
     "height": 35
    },
    "colab_type": "code",
    "executionInfo": {
     "elapsed": 557,
     "status": "ok",
     "timestamp": 1589147034280,
     "user": {
      "displayName": "amirho3ein kh.",
      "photoUrl": "https://lh3.googleusercontent.com/a-/AOh14GjUcl4_Y4WvEimmvcD_mLZQanB0gyAhVNZuJiZGgg=s64",
      "userId": "16927950780918275768"
     },
     "user_tz": 180
    },
    "id": "LFgNBhPDaNjf",
    "outputId": "eef5c3ae-7426-4691-f7a4-863745dd6869"
   },
   "outputs": [
    {
     "data": {
      "text/plain": [
       "{1, 2, 3, 4}"
      ]
     },
     "execution_count": 6,
     "metadata": {
      "tags": []
     },
     "output_type": "execute_result"
    }
   ],
   "source": [
    "my_set = {1, 2, 3, 4} \n",
    "my_set"
   ]
  },
  {
   "cell_type": "code",
   "execution_count": 0,
   "metadata": {
    "colab": {
     "base_uri": "https://localhost:8080/",
     "height": 35
    },
    "colab_type": "code",
    "executionInfo": {
     "elapsed": 2830,
     "status": "ok",
     "timestamp": 1589147046349,
     "user": {
      "displayName": "amirho3ein kh.",
      "photoUrl": "https://lh3.googleusercontent.com/a-/AOh14GjUcl4_Y4WvEimmvcD_mLZQanB0gyAhVNZuJiZGgg=s64",
      "userId": "16927950780918275768"
     },
     "user_tz": 180
    },
    "id": "E9DXxeOwaNjg",
    "outputId": "4f0ab585-96c6-4be7-c411-0d6e2a3eacce"
   },
   "outputs": [
    {
     "data": {
      "text/plain": [
       "{1, 2, 3, 4, 5}"
      ]
     },
     "execution_count": 8,
     "metadata": {
      "tags": []
     },
     "output_type": "execute_result"
    }
   ],
   "source": [
    "my_set.add(5)\n",
    "my_set"
   ]
  },
  {
   "cell_type": "code",
   "execution_count": 0,
   "metadata": {
    "colab": {
     "base_uri": "https://localhost:8080/",
     "height": 35
    },
    "colab_type": "code",
    "executionInfo": {
     "elapsed": 3184,
     "status": "ok",
     "timestamp": 1589147046725,
     "user": {
      "displayName": "amirho3ein kh.",
      "photoUrl": "https://lh3.googleusercontent.com/a-/AOh14GjUcl4_Y4WvEimmvcD_mLZQanB0gyAhVNZuJiZGgg=s64",
      "userId": "16927950780918275768"
     },
     "user_tz": 180
    },
    "id": "0sj-rnWQaNjh",
    "outputId": "9d75c178-ec1f-4661-ca30-7292ebfa6880"
   },
   "outputs": [
    {
     "data": {
      "text/plain": [
       "{1, 2, 3, 4, 5, 6, 7}"
      ]
     },
     "execution_count": 9,
     "metadata": {
      "tags": []
     },
     "output_type": "execute_result"
    }
   ],
   "source": [
    "my_set.update([3,6,7])\n",
    "my_set"
   ]
  },
  {
   "cell_type": "code",
   "execution_count": 0,
   "metadata": {
    "colab": {
     "base_uri": "https://localhost:8080/",
     "height": 35
    },
    "colab_type": "code",
    "executionInfo": {
     "elapsed": 3167,
     "status": "ok",
     "timestamp": 1589147046726,
     "user": {
      "displayName": "amirho3ein kh.",
      "photoUrl": "https://lh3.googleusercontent.com/a-/AOh14GjUcl4_Y4WvEimmvcD_mLZQanB0gyAhVNZuJiZGgg=s64",
      "userId": "16927950780918275768"
     },
     "user_tz": 180
    },
    "id": "WYc9j71WaNjj",
    "outputId": "1d503f52-9692-4167-840d-4a8547889b5c"
   },
   "outputs": [
    {
     "data": {
      "text/plain": [
       "{1, 2, 4, 5, 6, 7}"
      ]
     },
     "execution_count": 10,
     "metadata": {
      "tags": []
     },
     "output_type": "execute_result"
    }
   ],
   "source": [
    "my_set.remove(3)\n",
    "my_set"
   ]
  },
  {
   "cell_type": "code",
   "execution_count": 0,
   "metadata": {
    "colab": {},
    "colab_type": "code",
    "id": "F_8mvGdqaNjn"
   },
   "outputs": [],
   "source": [
    "A = {1, 2, 3}\n",
    "B = {2, 3, 4, 5}"
   ]
  },
  {
   "cell_type": "markdown",
   "metadata": {
    "colab_type": "text",
    "id": "-mu_CIQGaNjo"
   },
   "source": [
    "<b>Union</b>"
   ]
  },
  {
   "cell_type": "code",
   "execution_count": 0,
   "metadata": {
    "colab": {
     "base_uri": "https://localhost:8080/",
     "height": 35
    },
    "colab_type": "code",
    "executionInfo": {
     "elapsed": 3129,
     "status": "ok",
     "timestamp": 1589147046728,
     "user": {
      "displayName": "amirho3ein kh.",
      "photoUrl": "https://lh3.googleusercontent.com/a-/AOh14GjUcl4_Y4WvEimmvcD_mLZQanB0gyAhVNZuJiZGgg=s64",
      "userId": "16927950780918275768"
     },
     "user_tz": 180
    },
    "id": "2ImTLaepaNjp",
    "outputId": "1de180fb-ead5-46d3-85dc-88ffed611632"
   },
   "outputs": [
    {
     "name": "stdout",
     "output_type": "stream",
     "text": [
      "{1, 2, 3, 4, 5}\n"
     ]
    }
   ],
   "source": [
    "print(A | B) "
   ]
  },
  {
   "cell_type": "markdown",
   "metadata": {
    "colab_type": "text",
    "id": "qlrc84UyaNjq"
   },
   "source": [
    "<b>Intersection</b>"
   ]
  },
  {
   "cell_type": "code",
   "execution_count": 0,
   "metadata": {
    "colab": {
     "base_uri": "https://localhost:8080/",
     "height": 35
    },
    "colab_type": "code",
    "executionInfo": {
     "elapsed": 3111,
     "status": "ok",
     "timestamp": 1589147046728,
     "user": {
      "displayName": "amirho3ein kh.",
      "photoUrl": "https://lh3.googleusercontent.com/a-/AOh14GjUcl4_Y4WvEimmvcD_mLZQanB0gyAhVNZuJiZGgg=s64",
      "userId": "16927950780918275768"
     },
     "user_tz": 180
    },
    "id": "Nh-p6EfdaNjr",
    "outputId": "77d50e4f-9427-4150-d3e8-b0439255d791"
   },
   "outputs": [
    {
     "name": "stdout",
     "output_type": "stream",
     "text": [
      "{2, 3}\n"
     ]
    }
   ],
   "source": [
    "print (A & B)"
   ]
  },
  {
   "cell_type": "markdown",
   "metadata": {
    "colab_type": "text",
    "id": "ZQqCTgs9aNjs"
   },
   "source": [
    "<b>Difference</b>"
   ]
  },
  {
   "cell_type": "code",
   "execution_count": 0,
   "metadata": {
    "colab": {
     "base_uri": "https://localhost:8080/",
     "height": 35
    },
    "colab_type": "code",
    "executionInfo": {
     "elapsed": 3095,
     "status": "ok",
     "timestamp": 1589147046730,
     "user": {
      "displayName": "amirho3ein kh.",
      "photoUrl": "https://lh3.googleusercontent.com/a-/AOh14GjUcl4_Y4WvEimmvcD_mLZQanB0gyAhVNZuJiZGgg=s64",
      "userId": "16927950780918275768"
     },
     "user_tz": 180
    },
    "id": "hNSEFBkPaNjs",
    "outputId": "5ed337e2-ac7a-4775-dd59-efa4e1f96611"
   },
   "outputs": [
    {
     "name": "stdout",
     "output_type": "stream",
     "text": [
      "{1}\n"
     ]
    }
   ],
   "source": [
    "print (A - B)"
   ]
  },
  {
   "cell_type": "markdown",
   "metadata": {
    "colab_type": "text",
    "id": "9QGfN17_mBOs"
   },
   "source": [
    "**practice 3**\n",
    "\n",
    "*   Determines whether or not the following two sets have any elements in common. If yes display the common elements\n"
   ]
  },
  {
   "cell_type": "code",
   "execution_count": 0,
   "metadata": {
    "colab": {},
    "colab_type": "code",
    "id": "oCj65MrdmKY7"
   },
   "outputs": [],
   "source": [
    "set1 = {10, 20, 30, 40, 50}\n",
    "set2 = {60, 70, 80, 90, 10}"
   ]
  },
  {
   "cell_type": "markdown",
   "metadata": {
    "colab_type": "text",
    "id": "54jv0KDWaNjt"
   },
   "source": [
    "# Dictionary \n",
    "**A <a href=\"https://docs.python.org/2/tutorial/datastructures.html#dictionaries\" >dictionary </a> is a sequence of items. Each item is a pair made of a key and a value. Dictionaries are not sorted. You can access to the list of keys or values independently.**"
   ]
  },
  {
   "cell_type": "markdown",
   "metadata": {
    "colab_type": "text",
    "id": "Z6-h6gRXtU2x"
   },
   "source": [
    "A dictionary in python is similar to the structure below:\n",
    "\n",
    "<img src=\"https://files.realpython.com/media/t.b3e3d8f2d100.png\" width=\"200px\">"
   ]
  },
  {
   "cell_type": "code",
   "execution_count": 0,
   "metadata": {
    "colab": {},
    "colab_type": "code",
    "id": "hABvt-scaNju"
   },
   "outputs": [],
   "source": [
    "# defining a dictionary\n",
    "my_dict = dict() \n",
    "# or\n",
    "my_dict = {}"
   ]
  },
  {
   "cell_type": "code",
   "execution_count": 0,
   "metadata": {
    "colab": {},
    "colab_type": "code",
    "id": "SsWB1YBHaNjv"
   },
   "outputs": [],
   "source": [
    "keys = ['Ten', 'Twenty', 'Thirty']\n",
    "values = [10, 20, 30]\n",
    "my_dict = {'Ten': 10, 'Thirty': 30, 'Twenty': 20,}"
   ]
  },
  {
   "cell_type": "code",
   "execution_count": 0,
   "metadata": {
    "colab": {
     "base_uri": "https://localhost:8080/",
     "height": 35
    },
    "colab_type": "code",
    "executionInfo": {
     "elapsed": 872,
     "status": "ok",
     "timestamp": 1589357291175,
     "user": {
      "displayName": "amirho3ein kh.",
      "photoUrl": "https://lh3.googleusercontent.com/a-/AOh14GjUcl4_Y4WvEimmvcD_mLZQanB0gyAhVNZuJiZGgg=s64",
      "userId": "16927950780918275768"
     },
     "user_tz": 180
    },
    "id": "l6I47jlWaNjv",
    "outputId": "358838e8-c7c3-4f2b-ea06-08bfb5754db4"
   },
   "outputs": [
    {
     "data": {
      "text/plain": [
       "{'Ten': 10, 'Thirty': 30, 'Twenty': 20}"
      ]
     },
     "execution_count": 8,
     "metadata": {
      "tags": []
     },
     "output_type": "execute_result"
    }
   ],
   "source": [
    "my_dict"
   ]
  },
  {
   "cell_type": "code",
   "execution_count": 0,
   "metadata": {
    "colab": {
     "base_uri": "https://localhost:8080/",
     "height": 35
    },
    "colab_type": "code",
    "executionInfo": {
     "elapsed": 451,
     "status": "ok",
     "timestamp": 1589357295379,
     "user": {
      "displayName": "amirho3ein kh.",
      "photoUrl": "https://lh3.googleusercontent.com/a-/AOh14GjUcl4_Y4WvEimmvcD_mLZQanB0gyAhVNZuJiZGgg=s64",
      "userId": "16927950780918275768"
     },
     "user_tz": 180
    },
    "id": "FzezTBI7aNjx",
    "outputId": "b9d942d4-27c2-49c0-a280-0e471de66d94"
   },
   "outputs": [
    {
     "data": {
      "text/plain": [
       "dict_keys(['Ten', 'Thirty', 'Twenty'])"
      ]
     },
     "execution_count": 9,
     "metadata": {
      "tags": []
     },
     "output_type": "execute_result"
    }
   ],
   "source": [
    "my_dict.keys() # order is not guaranteed"
   ]
  },
  {
   "cell_type": "code",
   "execution_count": 0,
   "metadata": {
    "colab": {
     "base_uri": "https://localhost:8080/",
     "height": 35
    },
    "colab_type": "code",
    "executionInfo": {
     "elapsed": 539,
     "status": "ok",
     "timestamp": 1589148213543,
     "user": {
      "displayName": "amirho3ein kh.",
      "photoUrl": "https://lh3.googleusercontent.com/a-/AOh14GjUcl4_Y4WvEimmvcD_mLZQanB0gyAhVNZuJiZGgg=s64",
      "userId": "16927950780918275768"
     },
     "user_tz": 180
    },
    "id": "olb4ZsUxaNjy",
    "outputId": "1823de44-179e-4fa5-f749-341237368af4"
   },
   "outputs": [
    {
     "data": {
      "text/plain": [
       "dict_values([10, 20, 30])"
      ]
     },
     "execution_count": 85,
     "metadata": {
      "tags": []
     },
     "output_type": "execute_result"
    }
   ],
   "source": [
    "my_dict.values() "
   ]
  },
  {
   "cell_type": "code",
   "execution_count": 0,
   "metadata": {
    "colab": {
     "base_uri": "https://localhost:8080/",
     "height": 53
    },
    "colab_type": "code",
    "executionInfo": {
     "elapsed": 460,
     "status": "ok",
     "timestamp": 1589357397866,
     "user": {
      "displayName": "amirho3ein kh.",
      "photoUrl": "https://lh3.googleusercontent.com/a-/AOh14GjUcl4_Y4WvEimmvcD_mLZQanB0gyAhVNZuJiZGgg=s64",
      "userId": "16927950780918275768"
     },
     "user_tz": 180
    },
    "id": "Zj-lktlVaNjz",
    "outputId": "4d34e615-c951-4d12-833a-53e771a3c8fe"
   },
   "outputs": [
    {
     "name": "stdout",
     "output_type": "stream",
     "text": [
      "True\n",
      "True\n"
     ]
    }
   ],
   "source": [
    "# Search on keys\n",
    "print('Ten' in my_dict)\n",
    "\n",
    "# Search on values\n",
    "print(10 in my_dict.values())"
   ]
  },
  {
   "cell_type": "code",
   "execution_count": 0,
   "metadata": {
    "colab": {
     "base_uri": "https://localhost:8080/",
     "height": 35
    },
    "colab_type": "code",
    "executionInfo": {
     "elapsed": 617,
     "status": "ok",
     "timestamp": 1589149173656,
     "user": {
      "displayName": "amirho3ein kh.",
      "photoUrl": "https://lh3.googleusercontent.com/a-/AOh14GjUcl4_Y4WvEimmvcD_mLZQanB0gyAhVNZuJiZGgg=s64",
      "userId": "16927950780918275768"
     },
     "user_tz": 180
    },
    "id": "_m-eH6QtaNj2",
    "outputId": "f08aecaa-b2b6-49ba-93fb-c33343c555ca"
   },
   "outputs": [
    {
     "data": {
      "text/plain": [
       "10"
      ]
     },
     "execution_count": 108,
     "metadata": {
      "tags": []
     },
     "output_type": "execute_result"
    }
   ],
   "source": [
    "my_dict.get('Ten') # my_dict.get(key_value,[default]) Returns the value of the key"
   ]
  },
  {
   "cell_type": "code",
   "execution_count": 0,
   "metadata": {
    "colab": {
     "base_uri": "https://localhost:8080/",
     "height": 35
    },
    "colab_type": "code",
    "executionInfo": {
     "elapsed": 484,
     "status": "ok",
     "timestamp": 1589357611793,
     "user": {
      "displayName": "amirho3ein kh.",
      "photoUrl": "https://lh3.googleusercontent.com/a-/AOh14GjUcl4_Y4WvEimmvcD_mLZQanB0gyAhVNZuJiZGgg=s64",
      "userId": "16927950780918275768"
     },
     "user_tz": 180
    },
    "id": "ibAz9v_RF6H_",
    "outputId": "3dbbd5a8-b2ed-4cc3-b676-ca39d9570a0e"
   },
   "outputs": [
    {
     "data": {
      "text/plain": [
       "{'Ten': 11, 'Thirty': 30, 'Twenty': 20}"
      ]
     },
     "execution_count": 14,
     "metadata": {
      "tags": []
     },
     "output_type": "execute_result"
    }
   ],
   "source": [
    "# Changing value of a key\n",
    "my_dict['Ten'] = 11\n",
    "my_dict"
   ]
  },
  {
   "cell_type": "code",
   "execution_count": 10,
   "metadata": {
    "colab": {
     "base_uri": "https://localhost:8080/",
     "height": 34
    },
    "colab_type": "code",
    "executionInfo": {
     "elapsed": 382,
     "status": "ok",
     "timestamp": 1589398088716,
     "user": {
      "displayName": "amirho3ein kh.",
      "photoUrl": "https://lh3.googleusercontent.com/a-/AOh14GjUcl4_Y4WvEimmvcD_mLZQanB0gyAhVNZuJiZGgg=s64",
      "userId": "16927950780918275768"
     },
     "user_tz": 180
    },
    "id": "SR9i8YXnaNj4",
    "outputId": "c69ead74-ab3d-4038-c88b-bf251f47386d"
   },
   "outputs": [
    {
     "name": "stdout",
     "output_type": "stream",
     "text": [
      "1\n"
     ]
    }
   ],
   "source": [
    "print(my_dict.get('forty')) # if a non-existing key is defined it will return the default value which is none"
   ]
  },
  {
   "cell_type": "code",
   "execution_count": 0,
   "metadata": {
    "colab": {
     "base_uri": "https://localhost:8080/",
     "height": 35
    },
    "colab_type": "code",
    "executionInfo": {
     "elapsed": 510,
     "status": "ok",
     "timestamp": 1589149595839,
     "user": {
      "displayName": "amirho3ein kh.",
      "photoUrl": "https://lh3.googleusercontent.com/a-/AOh14GjUcl4_Y4WvEimmvcD_mLZQanB0gyAhVNZuJiZGgg=s64",
      "userId": "16927950780918275768"
     },
     "user_tz": 180
    },
    "id": "VAErIKSBaNj5",
    "outputId": "6166dc52-1781-4abb-800f-7962439d4fe4"
   },
   "outputs": [
    {
     "data": {
      "text/plain": [
       "1"
      ]
     },
     "execution_count": 116,
     "metadata": {
      "tags": []
     },
     "output_type": "execute_result"
    }
   ],
   "source": [
    "# Checking if the key exists\n",
    "1 if 'Ten' in my_dict else 0\n"
   ]
  },
  {
   "cell_type": "markdown",
   "metadata": {
    "colab_type": "text",
    "id": "cIEjvb-auIgD"
   },
   "source": [
    "**Practice 4**\n",
    "\n",
    "*   Given the following dictionary, Change Brad’s salary to 8500\n",
    "\n",
    "\n",
    "\n"
   ]
  },
  {
   "cell_type": "code",
   "execution_count": 0,
   "metadata": {
    "colab": {},
    "colab_type": "code",
    "id": "OvHqw1xJvX8P"
   },
   "outputs": [],
   "source": [
    "sampleDict = {\n",
    "     'emp1': {'name': 'Jhon', 'salary': 7500},\n",
    "     'emp2': {'name': 'Emma', 'salary': 8000},\n",
    "     'emp3': {'name': 'Brad', 'salary': 6500}\n",
    "}"
   ]
  },
  {
   "cell_type": "markdown",
   "metadata": {
    "colab_type": "text",
    "id": "I30fpcvFaNj6"
   },
   "source": [
    "# Iterables"
   ]
  },
  {
   "cell_type": "code",
   "execution_count": 0,
   "metadata": {
    "colab": {},
    "colab_type": "code",
    "id": "txnWcq4kaNj6"
   },
   "outputs": [],
   "source": [
    "my_list = [1,2,3]"
   ]
  },
  {
   "cell_type": "code",
   "execution_count": 0,
   "metadata": {
    "colab": {
     "base_uri": "https://localhost:8080/",
     "height": 35
    },
    "colab_type": "code",
    "executionInfo": {
     "elapsed": 3220,
     "status": "ok",
     "timestamp": 1589147047058,
     "user": {
      "displayName": "amirho3ein kh.",
      "photoUrl": "https://lh3.googleusercontent.com/a-/AOh14GjUcl4_Y4WvEimmvcD_mLZQanB0gyAhVNZuJiZGgg=s64",
      "userId": "16927950780918275768"
     },
     "user_tz": 180
    },
    "id": "niAeIFFYaNj7",
    "outputId": "f2d8f678-9551-4ae3-b7d4-041e1827c57b"
   },
   "outputs": [
    {
     "data": {
      "text/plain": [
       "[1, 2, 3]"
      ]
     },
     "execution_count": 26,
     "metadata": {
      "tags": []
     },
     "output_type": "execute_result"
    }
   ],
   "source": [
    "[i for i in my_list] # iterating through list"
   ]
  },
  {
   "cell_type": "code",
   "execution_count": 0,
   "metadata": {
    "colab": {},
    "colab_type": "code",
    "id": "h3Z8esd3aNj8"
   },
   "outputs": [],
   "source": [
    "my_dict = {1:2,3:4,5:6}"
   ]
  },
  {
   "cell_type": "code",
   "execution_count": 0,
   "metadata": {
    "colab": {
     "base_uri": "https://localhost:8080/",
     "height": 35
    },
    "colab_type": "code",
    "executionInfo": {
     "elapsed": 3193,
     "status": "ok",
     "timestamp": 1589147047059,
     "user": {
      "displayName": "amirho3ein kh.",
      "photoUrl": "https://lh3.googleusercontent.com/a-/AOh14GjUcl4_Y4WvEimmvcD_mLZQanB0gyAhVNZuJiZGgg=s64",
      "userId": "16927950780918275768"
     },
     "user_tz": 180
    },
    "id": "9s1LZ-JfaNj9",
    "outputId": "e35ec409-8a12-431b-f1a9-045ed77ead2e"
   },
   "outputs": [
    {
     "data": {
      "text/plain": [
       "[1, 3, 5]"
      ]
     },
     "execution_count": 28,
     "metadata": {
      "tags": []
     },
     "output_type": "execute_result"
    }
   ],
   "source": [
    "[i for i in my_dict] # iterating through dict"
   ]
  },
  {
   "cell_type": "code",
   "execution_count": 0,
   "metadata": {
    "colab": {},
    "colab_type": "code",
    "id": "Yca6pAhPaNj-"
   },
   "outputs": [],
   "source": [
    "my_string = \"abcd\""
   ]
  },
  {
   "cell_type": "code",
   "execution_count": 0,
   "metadata": {
    "colab": {
     "base_uri": "https://localhost:8080/",
     "height": 35
    },
    "colab_type": "code",
    "executionInfo": {
     "elapsed": 3165,
     "status": "ok",
     "timestamp": 1589147047059,
     "user": {
      "displayName": "amirho3ein kh.",
      "photoUrl": "https://lh3.googleusercontent.com/a-/AOh14GjUcl4_Y4WvEimmvcD_mLZQanB0gyAhVNZuJiZGgg=s64",
      "userId": "16927950780918275768"
     },
     "user_tz": 180
    },
    "id": "9DnS719UaNj-",
    "outputId": "db490b4d-dcf2-423f-fcc6-87a1ab405dad"
   },
   "outputs": [
    {
     "data": {
      "text/plain": [
       "['a', 'b', 'c', 'd']"
      ]
     },
     "execution_count": 30,
     "metadata": {
      "tags": []
     },
     "output_type": "execute_result"
    }
   ],
   "source": [
    "[i for i in my_string] # iterating through string"
   ]
  },
  {
   "cell_type": "code",
   "execution_count": 0,
   "metadata": {
    "colab": {},
    "colab_type": "code",
    "id": "pZfyY8AIaNj_"
   },
   "outputs": [],
   "source": [
    "my_set = {1,2,3,4,5} "
   ]
  },
  {
   "cell_type": "code",
   "execution_count": 0,
   "metadata": {
    "colab": {
     "base_uri": "https://localhost:8080/",
     "height": 35
    },
    "colab_type": "code",
    "executionInfo": {
     "elapsed": 3139,
     "status": "ok",
     "timestamp": 1589147047060,
     "user": {
      "displayName": "amirho3ein kh.",
      "photoUrl": "https://lh3.googleusercontent.com/a-/AOh14GjUcl4_Y4WvEimmvcD_mLZQanB0gyAhVNZuJiZGgg=s64",
      "userId": "16927950780918275768"
     },
     "user_tz": 180
    },
    "id": "xT5jZhcqaNkA",
    "outputId": "9e94a9af-c3b2-47e5-a14a-6e369040ab9d"
   },
   "outputs": [
    {
     "data": {
      "text/plain": [
       "[1, 2, 3, 4, 5]"
      ]
     },
     "execution_count": 32,
     "metadata": {
      "tags": []
     },
     "output_type": "execute_result"
    }
   ],
   "source": [
    "[i for i in my_set] #iterating through set"
   ]
  },
  {
   "cell_type": "markdown",
   "metadata": {
    "colab_type": "text",
    "id": "sQvKgESc804M"
   },
   "source": [
    "**- Two kinds of data structures:**\n",
    "\n",
    "\n",
    "**- Indexed: List, Tuple, String**\n",
    "\n",
    "\n",
    "**- Un-Indexed: Dict, Set**\n",
    "\n",
    "**- Indexed and unindexed data structures - iterables**\n",
    "\n",
    "**- Only indexed - slicing**"
   ]
  },
  {
   "cell_type": "markdown",
   "metadata": {
    "colab_type": "text",
    "id": "DyrRLrbhaNkD"
   },
   "source": [
    "## <a href = \"https://docs.python.org/3/library/functions.html#reduce\" > Built-in Functions </a>\n",
    "<a href = \"https://docs.python.org/3/library/functions.html#map\" >Map</a>, Reduce, Sum, Max, Min, \n",
    "<a href = \"https://docs.python.org/3/library/functions.html#zip\"> Zip</a>, Sorted"
   ]
  },
  {
   "cell_type": "code",
   "execution_count": 0,
   "metadata": {
    "colab": {},
    "colab_type": "code",
    "id": "OS7EZkI6aNkD"
   },
   "outputs": [],
   "source": [
    "my_list = [1,2,3,4,5]"
   ]
  },
  {
   "cell_type": "code",
   "execution_count": 0,
   "metadata": {
    "colab": {
     "base_uri": "https://localhost:8080/",
     "height": 35
    },
    "colab_type": "code",
    "executionInfo": {
     "elapsed": 526,
     "status": "ok",
     "timestamp": 1589358209143,
     "user": {
      "displayName": "amirho3ein kh.",
      "photoUrl": "https://lh3.googleusercontent.com/a-/AOh14GjUcl4_Y4WvEimmvcD_mLZQanB0gyAhVNZuJiZGgg=s64",
      "userId": "16927950780918275768"
     },
     "user_tz": 180
    },
    "id": "J0HaCsRmaNkE",
    "outputId": "cab5a1a2-71fb-4716-8b52-5171e8a98371"
   },
   "outputs": [
    {
     "data": {
      "text/plain": [
       "<map at 0x7fd6301797b8>"
      ]
     },
     "execution_count": 17,
     "metadata": {
      "tags": []
     },
     "output_type": "execute_result"
    }
   ],
   "source": [
    "s = map(lambda x:x**2, my_list)\n",
    "s"
   ]
  },
  {
   "cell_type": "code",
   "execution_count": 0,
   "metadata": {
    "colab": {
     "base_uri": "https://localhost:8080/",
     "height": 35
    },
    "colab_type": "code",
    "executionInfo": {
     "elapsed": 461,
     "status": "ok",
     "timestamp": 1589358249153,
     "user": {
      "displayName": "amirho3ein kh.",
      "photoUrl": "https://lh3.googleusercontent.com/a-/AOh14GjUcl4_Y4WvEimmvcD_mLZQanB0gyAhVNZuJiZGgg=s64",
      "userId": "16927950780918275768"
     },
     "user_tz": 180
    },
    "id": "5p1-luJ8Ibfn",
    "outputId": "eb329ae3-82ad-4192-b719-a7af4c2f40d3"
   },
   "outputs": [
    {
     "name": "stdout",
     "output_type": "stream",
     "text": [
      "[1, 4, 9, 16, 25]\n"
     ]
    }
   ],
   "source": [
    "print(list(s))"
   ]
  },
  {
   "cell_type": "code",
   "execution_count": 0,
   "metadata": {
    "colab": {
     "base_uri": "https://localhost:8080/",
     "height": 55
    },
    "colab_type": "code",
    "executionInfo": {
     "elapsed": 3098,
     "status": "ok",
     "timestamp": 1589147047062,
     "user": {
      "displayName": "amirho3ein kh.",
      "photoUrl": "https://lh3.googleusercontent.com/a-/AOh14GjUcl4_Y4WvEimmvcD_mLZQanB0gyAhVNZuJiZGgg=s64",
      "userId": "16927950780918275768"
     },
     "user_tz": 180
    },
    "id": "7gefUY_EaNkG",
    "outputId": "0adb637b-31ba-435d-d6e1-e37e3e04fa8d"
   },
   "outputs": [
    {
     "data": {
      "text/plain": [
       "15"
      ]
     },
     "execution_count": 35,
     "metadata": {
      "tags": []
     },
     "output_type": "execute_result"
    }
   ],
   "source": [
    "sum(my_list)"
   ]
  },
  {
   "cell_type": "code",
   "execution_count": 0,
   "metadata": {
    "colab": {
     "base_uri": "https://localhost:8080/",
     "height": 55
    },
    "colab_type": "code",
    "executionInfo": {
     "elapsed": 3085,
     "status": "ok",
     "timestamp": 1589147047063,
     "user": {
      "displayName": "amirho3ein kh.",
      "photoUrl": "https://lh3.googleusercontent.com/a-/AOh14GjUcl4_Y4WvEimmvcD_mLZQanB0gyAhVNZuJiZGgg=s64",
      "userId": "16927950780918275768"
     },
     "user_tz": 180
    },
    "id": "oThCUI5naNkH",
    "outputId": "daca3906-71e9-402d-b538-f628b8e21402"
   },
   "outputs": [
    {
     "data": {
      "text/plain": [
       "5"
      ]
     },
     "execution_count": 36,
     "metadata": {
      "tags": []
     },
     "output_type": "execute_result"
    }
   ],
   "source": [
    "max(my_list)"
   ]
  },
  {
   "cell_type": "code",
   "execution_count": 0,
   "metadata": {
    "colab": {
     "base_uri": "https://localhost:8080/",
     "height": 55
    },
    "colab_type": "code",
    "executionInfo": {
     "elapsed": 3072,
     "status": "ok",
     "timestamp": 1589147047064,
     "user": {
      "displayName": "amirho3ein kh.",
      "photoUrl": "https://lh3.googleusercontent.com/a-/AOh14GjUcl4_Y4WvEimmvcD_mLZQanB0gyAhVNZuJiZGgg=s64",
      "userId": "16927950780918275768"
     },
     "user_tz": 180
    },
    "id": "N7i7LCTSaNkI",
    "outputId": "965df3f4-abd9-4ede-baec-5921861fb56b"
   },
   "outputs": [
    {
     "data": {
      "text/plain": [
       "1"
      ]
     },
     "execution_count": 37,
     "metadata": {
      "tags": []
     },
     "output_type": "execute_result"
    }
   ],
   "source": [
    "min(my_list)"
   ]
  },
  {
   "cell_type": "markdown",
   "metadata": {
    "colab_type": "text",
    "id": "x326CAdEaNkN"
   },
   "source": [
    "# [Functions](https://docs.python.org/2.0/ref/function.html)"
   ]
  },
  {
   "cell_type": "code",
   "execution_count": 0,
   "metadata": {
    "colab": {},
    "colab_type": "code",
    "id": "mIKaF8XVaNkN"
   },
   "outputs": [],
   "source": [
    "def area(x,y):\n",
    "    return x*y\n",
    "# No parenthesis - {}. Indentation is used instead. "
   ]
  },
  {
   "cell_type": "code",
   "execution_count": 0,
   "metadata": {
    "colab": {
     "base_uri": "https://localhost:8080/",
     "height": 35
    },
    "colab_type": "code",
    "executionInfo": {
     "elapsed": 4110,
     "status": "ok",
     "timestamp": 1589147048189,
     "user": {
      "displayName": "amirho3ein kh.",
      "photoUrl": "https://lh3.googleusercontent.com/a-/AOh14GjUcl4_Y4WvEimmvcD_mLZQanB0gyAhVNZuJiZGgg=s64",
      "userId": "16927950780918275768"
     },
     "user_tz": 180
    },
    "id": "gYqODuflaNkO",
    "outputId": "1dfff91c-fb69-45a7-b1ce-f04ae92910c7"
   },
   "outputs": [
    {
     "data": {
      "text/plain": [
       "50"
      ]
     },
     "execution_count": 43,
     "metadata": {
      "tags": []
     },
     "output_type": "execute_result"
    }
   ],
   "source": [
    "area(5,10)"
   ]
  },
  {
   "cell_type": "markdown",
   "metadata": {
    "colab_type": "text",
    "id": "PYtrCa-iaNkP"
   },
   "source": [
    "<b>Function with multiple return values!</b>"
   ]
  },
  {
   "cell_type": "code",
   "execution_count": 0,
   "metadata": {
    "colab": {},
    "colab_type": "code",
    "id": "-6VZ1X3PaNkP"
   },
   "outputs": [],
   "source": [
    "def square_and_cube(num):\n",
    "    return num**2, num**3"
   ]
  },
  {
   "cell_type": "code",
   "execution_count": 0,
   "metadata": {
    "colab": {
     "base_uri": "https://localhost:8080/",
     "height": 35
    },
    "colab_type": "code",
    "executionInfo": {
     "elapsed": 4081,
     "status": "ok",
     "timestamp": 1589147048192,
     "user": {
      "displayName": "amirho3ein kh.",
      "photoUrl": "https://lh3.googleusercontent.com/a-/AOh14GjUcl4_Y4WvEimmvcD_mLZQanB0gyAhVNZuJiZGgg=s64",
      "userId": "16927950780918275768"
     },
     "user_tz": 180
    },
    "id": "cSf1zLGfaNkQ",
    "outputId": "b8e82f22-88d0-4305-828a-22a874f48131"
   },
   "outputs": [
    {
     "data": {
      "text/plain": [
       "(900, 27000)"
      ]
     },
     "execution_count": 45,
     "metadata": {
      "tags": []
     },
     "output_type": "execute_result"
    }
   ],
   "source": [
    "square_and_cube(30)"
   ]
  },
  {
   "cell_type": "markdown",
   "metadata": {
    "colab_type": "text",
    "id": "0NDVq1SPaNkR"
   },
   "source": [
    "<b>Making parameters optional</b>"
   ]
  },
  {
   "cell_type": "code",
   "execution_count": 0,
   "metadata": {
    "colab": {},
    "colab_type": "code",
    "id": "5wZS72OgaNkR"
   },
   "outputs": [],
   "source": [
    "def divisible(num,by=2):\n",
    "    return True if num % by == 0 else False # better way : return (num % by == 0)"
   ]
  },
  {
   "cell_type": "markdown",
   "metadata": {
    "colab_type": "text",
    "id": "AGKcjHycaNkS"
   },
   "source": [
    "<b>Calling functions with optional parameters</b>"
   ]
  },
  {
   "cell_type": "code",
   "execution_count": 0,
   "metadata": {
    "colab": {
     "base_uri": "https://localhost:8080/",
     "height": 35
    },
    "colab_type": "code",
    "executionInfo": {
     "elapsed": 4054,
     "status": "ok",
     "timestamp": 1589147048194,
     "user": {
      "displayName": "amirho3ein kh.",
      "photoUrl": "https://lh3.googleusercontent.com/a-/AOh14GjUcl4_Y4WvEimmvcD_mLZQanB0gyAhVNZuJiZGgg=s64",
      "userId": "16927950780918275768"
     },
     "user_tz": 180
    },
    "id": "xFodBKasaNkS",
    "outputId": "ec8064ba-357d-4cf3-b8d1-abf4ef6de702"
   },
   "outputs": [
    {
     "data": {
      "text/plain": [
       "True"
      ]
     },
     "execution_count": 47,
     "metadata": {
      "tags": []
     },
     "output_type": "execute_result"
    }
   ],
   "source": [
    "divisible(100)"
   ]
  },
  {
   "cell_type": "code",
   "execution_count": 0,
   "metadata": {
    "colab": {
     "base_uri": "https://localhost:8080/",
     "height": 35
    },
    "colab_type": "code",
    "executionInfo": {
     "elapsed": 4041,
     "status": "ok",
     "timestamp": 1589147048195,
     "user": {
      "displayName": "amirho3ein kh.",
      "photoUrl": "https://lh3.googleusercontent.com/a-/AOh14GjUcl4_Y4WvEimmvcD_mLZQanB0gyAhVNZuJiZGgg=s64",
      "userId": "16927950780918275768"
     },
     "user_tz": 180
    },
    "id": "N_pDTVtPaNkU",
    "outputId": "9b4eec9e-e1d0-41a3-958a-bf87010fd625"
   },
   "outputs": [
    {
     "data": {
      "text/plain": [
       "False"
      ]
     },
     "execution_count": 48,
     "metadata": {
      "tags": []
     },
     "output_type": "execute_result"
    }
   ],
   "source": [
    "divisible(100,3)"
   ]
  },
  {
   "cell_type": "code",
   "execution_count": 0,
   "metadata": {
    "colab": {
     "base_uri": "https://localhost:8080/",
     "height": 35
    },
    "colab_type": "code",
    "executionInfo": {
     "elapsed": 4025,
     "status": "ok",
     "timestamp": 1589147048196,
     "user": {
      "displayName": "amirho3ein kh.",
      "photoUrl": "https://lh3.googleusercontent.com/a-/AOh14GjUcl4_Y4WvEimmvcD_mLZQanB0gyAhVNZuJiZGgg=s64",
      "userId": "16927950780918275768"
     },
     "user_tz": 180
    },
    "id": "1sCPyJVgaNkW",
    "outputId": "c3ee7232-aad4-42a4-82f1-1bf8ac422303"
   },
   "outputs": [
    {
     "data": {
      "text/plain": [
       "False"
      ]
     },
     "execution_count": 49,
     "metadata": {
      "tags": []
     },
     "output_type": "execute_result"
    }
   ],
   "source": [
    "divisible(by = 3, num = 100) # Order of parameters doesnt matter if we specify the variable name"
   ]
  },
  {
   "cell_type": "markdown",
   "metadata": {
    "colab_type": "text",
    "id": "LA2hPmmpwm5H"
   },
   "source": [
    "**Practice 5**\n",
    "\n",
    "*   Define a function that given a list numbers as an input, returns the positive values multiplied by 3\n"
   ]
  },
  {
   "cell_type": "code",
   "execution_count": 0,
   "metadata": {
    "colab": {},
    "colab_type": "code",
    "id": "FbPpWpyIxqh2"
   },
   "outputs": [],
   "source": [
    "list = [1,22,-6,8,4,0,-10,34,-26]"
   ]
  },
  {
   "cell_type": "markdown",
   "metadata": {
    "colab_type": "text",
    "id": "zqKXi1zMyZBH"
   },
   "source": [
    "# For loops and condition"
   ]
  },
  {
   "cell_type": "markdown",
   "metadata": {
    "colab_type": "text",
    "id": "zQ_UVNg_aNkX"
   },
   "source": [
    "<b>for and while loops</b> more information can be found [here](https://www.w3schools.com/python/python_for_loops.asp)"
   ]
  },
  {
   "cell_type": "code",
   "execution_count": 0,
   "metadata": {
    "colab": {
     "base_uri": "https://localhost:8080/",
     "height": 107
    },
    "colab_type": "code",
    "executionInfo": {
     "elapsed": 558,
     "status": "ok",
     "timestamp": 1589151011200,
     "user": {
      "displayName": "amirho3ein kh.",
      "photoUrl": "https://lh3.googleusercontent.com/a-/AOh14GjUcl4_Y4WvEimmvcD_mLZQanB0gyAhVNZuJiZGgg=s64",
      "userId": "16927950780918275768"
     },
     "user_tz": 180
    },
    "id": "C8Tmo5U1aNkX",
    "outputId": "bff4355b-6498-41fe-c2cf-b477ff078ca2"
   },
   "outputs": [
    {
     "name": "stdout",
     "output_type": "stream",
     "text": [
      "1\n",
      "3\n",
      "5\n",
      "7\n",
      "9\n"
     ]
    }
   ],
   "source": [
    "# 1 is starting point, 10 is end point, and 2 is incremental sequence (default=1)\n",
    "for i in range(1,10,2):\n",
    "    print (i)"
   ]
  },
  {
   "cell_type": "code",
   "execution_count": 0,
   "metadata": {
    "colab": {
     "base_uri": "https://localhost:8080/",
     "height": 71
    },
    "colab_type": "code",
    "executionInfo": {
     "elapsed": 3995,
     "status": "ok",
     "timestamp": 1589147048198,
     "user": {
      "displayName": "amirho3ein kh.",
      "photoUrl": "https://lh3.googleusercontent.com/a-/AOh14GjUcl4_Y4WvEimmvcD_mLZQanB0gyAhVNZuJiZGgg=s64",
      "userId": "16927950780918275768"
     },
     "user_tz": 180
    },
    "id": "M9anymJDaNkZ",
    "outputId": "5cfd10c1-2c92-47dc-9aea-f8cb3a19b85b"
   },
   "outputs": [
    {
     "name": "stdout",
     "output_type": "stream",
     "text": [
      "Hi Zack!\n",
      "Hi Jay!\n",
      "Hi Richard!\n"
     ]
    }
   ],
   "source": [
    "for name in ['Zack', 'Jay', 'Richard']:\n",
    "    print ('Hi ' + name + '!')"
   ]
  },
  {
   "cell_type": "code",
   "execution_count": 0,
   "metadata": {
    "colab": {
     "base_uri": "https://localhost:8080/",
     "height": 179
    },
    "colab_type": "code",
    "executionInfo": {
     "elapsed": 3980,
     "status": "ok",
     "timestamp": 1589147048198,
     "user": {
      "displayName": "amirho3ein kh.",
      "photoUrl": "https://lh3.googleusercontent.com/a-/AOh14GjUcl4_Y4WvEimmvcD_mLZQanB0gyAhVNZuJiZGgg=s64",
      "userId": "16927950780918275768"
     },
     "user_tz": 180
    },
    "id": "ypJ6VWPhaNka",
    "outputId": "7ecf0cf6-fef4-4a42-e322-fa30e2283598"
   },
   "outputs": [
    {
     "name": "stdout",
     "output_type": "stream",
     "text": [
      "1\n",
      "2\n",
      "3\n",
      "4\n",
      "5\n",
      "6\n",
      "7\n",
      "8\n",
      "9\n"
     ]
    }
   ],
   "source": [
    "i = 1\n",
    "while i < 10:\n",
    "    print (i)\n",
    "    i += 1 # there is no i++ in python"
   ]
  },
  {
   "cell_type": "markdown",
   "metadata": {
    "colab_type": "text",
    "id": "nL9iMLDJaNka"
   },
   "source": [
    "<h3><b>Control Flow</h3></b>\n",
    "<b>if...else Statement</b> more information can be found in <a href=\"https://www.w3schools.com/python/python_conditions.asp\">here</a>"
   ]
  },
  {
   "cell_type": "code",
   "execution_count": 0,
   "metadata": {
    "colab": {},
    "colab_type": "code",
    "id": "ahFrNeKDaNkb"
   },
   "outputs": [],
   "source": [
    "def sample(num):\n",
    "    if num > 0:\n",
    "        print (\"Positive Number\")\n",
    "    elif num == 0:\n",
    "        print (\"Zero\")\n",
    "    else:\n",
    "        print (\"Negative Number\")"
   ]
  },
  {
   "cell_type": "code",
   "execution_count": 0,
   "metadata": {
    "colab": {
     "base_uri": "https://localhost:8080/",
     "height": 35
    },
    "colab_type": "code",
    "executionInfo": {
     "elapsed": 3953,
     "status": "ok",
     "timestamp": 1589147048200,
     "user": {
      "displayName": "amirho3ein kh.",
      "photoUrl": "https://lh3.googleusercontent.com/a-/AOh14GjUcl4_Y4WvEimmvcD_mLZQanB0gyAhVNZuJiZGgg=s64",
      "userId": "16927950780918275768"
     },
     "user_tz": 180
    },
    "id": "jHQRbqmraNkb",
    "outputId": "6fbb898e-654c-4fe0-d374-94d82fc75953"
   },
   "outputs": [
    {
     "name": "stdout",
     "output_type": "stream",
     "text": [
      "Positive Number\n"
     ]
    }
   ],
   "source": [
    "sample(10)"
   ]
  },
  {
   "cell_type": "code",
   "execution_count": 0,
   "metadata": {
    "colab": {
     "base_uri": "https://localhost:8080/",
     "height": 35
    },
    "colab_type": "code",
    "executionInfo": {
     "elapsed": 3941,
     "status": "ok",
     "timestamp": 1589147048201,
     "user": {
      "displayName": "amirho3ein kh.",
      "photoUrl": "https://lh3.googleusercontent.com/a-/AOh14GjUcl4_Y4WvEimmvcD_mLZQanB0gyAhVNZuJiZGgg=s64",
      "userId": "16927950780918275768"
     },
     "user_tz": 180
    },
    "id": "L6Y-VB38aNkc",
    "outputId": "7e6c16fb-462a-4d66-c05d-9d819c824212"
   },
   "outputs": [
    {
     "data": {
      "text/plain": [
       "True"
      ]
     },
     "execution_count": 55,
     "metadata": {
      "tags": []
     },
     "output_type": "execute_result"
    }
   ],
   "source": [
    "1 == 1 and 2==2"
   ]
  },
  {
   "cell_type": "code",
   "execution_count": 0,
   "metadata": {
    "colab": {
     "base_uri": "https://localhost:8080/",
     "height": 35
    },
    "colab_type": "code",
    "executionInfo": {
     "elapsed": 3930,
     "status": "ok",
     "timestamp": 1589147048203,
     "user": {
      "displayName": "amirho3ein kh.",
      "photoUrl": "https://lh3.googleusercontent.com/a-/AOh14GjUcl4_Y4WvEimmvcD_mLZQanB0gyAhVNZuJiZGgg=s64",
      "userId": "16927950780918275768"
     },
     "user_tz": 180
    },
    "id": "zkVV14ZoaNkd",
    "outputId": "dfc8aa1b-19b7-48da-fb0b-22d9dda6592d"
   },
   "outputs": [
    {
     "data": {
      "text/plain": [
       "True"
      ]
     },
     "execution_count": 56,
     "metadata": {
      "tags": []
     },
     "output_type": "execute_result"
    }
   ],
   "source": [
    "1 == 1 or 2 == 2"
   ]
  },
  {
   "cell_type": "code",
   "execution_count": 0,
   "metadata": {
    "colab": {
     "base_uri": "https://localhost:8080/",
     "height": 35
    },
    "colab_type": "code",
    "executionInfo": {
     "elapsed": 3916,
     "status": "ok",
     "timestamp": 1589147048203,
     "user": {
      "displayName": "amirho3ein kh.",
      "photoUrl": "https://lh3.googleusercontent.com/a-/AOh14GjUcl4_Y4WvEimmvcD_mLZQanB0gyAhVNZuJiZGgg=s64",
      "userId": "16927950780918275768"
     },
     "user_tz": 180
    },
    "id": "6o2dO5C7aNkf",
    "outputId": "0f35069f-50eb-4952-a5bf-ffb1407cdb8b"
   },
   "outputs": [
    {
     "data": {
      "text/plain": [
       "False"
      ]
     },
     "execution_count": 57,
     "metadata": {
      "tags": []
     },
     "output_type": "execute_result"
    }
   ],
   "source": [
    "not(1==1)"
   ]
  },
  {
   "cell_type": "code",
   "execution_count": 0,
   "metadata": {
    "colab": {},
    "colab_type": "code",
    "id": "f5O9vU65aNkh"
   },
   "outputs": [],
   "source": [
    "def in_between(num,start=1,end=100):\n",
    "    return start <= num and num<=end"
   ]
  },
  {
   "cell_type": "code",
   "execution_count": 0,
   "metadata": {
    "colab": {
     "base_uri": "https://localhost:8080/",
     "height": 35
    },
    "colab_type": "code",
    "executionInfo": {
     "elapsed": 3891,
     "status": "ok",
     "timestamp": 1589147048206,
     "user": {
      "displayName": "amirho3ein kh.",
      "photoUrl": "https://lh3.googleusercontent.com/a-/AOh14GjUcl4_Y4WvEimmvcD_mLZQanB0gyAhVNZuJiZGgg=s64",
      "userId": "16927950780918275768"
     },
     "user_tz": 180
    },
    "id": "RFbVhIPaaNkh",
    "outputId": "581bf02f-fee7-45fa-d2da-59d440b5317b"
   },
   "outputs": [
    {
     "data": {
      "text/plain": [
       "True"
      ]
     },
     "execution_count": 59,
     "metadata": {
      "tags": []
     },
     "output_type": "execute_result"
    }
   ],
   "source": [
    "in_between(50)"
   ]
  },
  {
   "cell_type": "code",
   "execution_count": 0,
   "metadata": {
    "colab": {
     "base_uri": "https://localhost:8080/",
     "height": 35
    },
    "colab_type": "code",
    "executionInfo": {
     "elapsed": 3875,
     "status": "ok",
     "timestamp": 1589147048206,
     "user": {
      "displayName": "amirho3ein kh.",
      "photoUrl": "https://lh3.googleusercontent.com/a-/AOh14GjUcl4_Y4WvEimmvcD_mLZQanB0gyAhVNZuJiZGgg=s64",
      "userId": "16927950780918275768"
     },
     "user_tz": 180
    },
    "id": "2F0udiW_aNkj",
    "outputId": "014c3b17-9095-4aad-e759-0f4d35ae7b60"
   },
   "outputs": [
    {
     "data": {
      "text/plain": [
       "False"
      ]
     },
     "execution_count": 60,
     "metadata": {
      "tags": []
     },
     "output_type": "execute_result"
    }
   ],
   "source": [
    "in_between(101)"
   ]
  },
  {
   "cell_type": "code",
   "execution_count": 0,
   "metadata": {
    "colab": {},
    "colab_type": "code",
    "id": "Ujg1-oZCaNkk"
   },
   "outputs": [],
   "source": [
    "#simpler version\n",
    "def in_between(num,start=1,end=100):\n",
    "    return start <= num <=end"
   ]
  },
  {
   "cell_type": "code",
   "execution_count": 0,
   "metadata": {
    "colab": {
     "base_uri": "https://localhost:8080/",
     "height": 35
    },
    "colab_type": "code",
    "executionInfo": {
     "elapsed": 3845,
     "status": "ok",
     "timestamp": 1589147048208,
     "user": {
      "displayName": "amirho3ein kh.",
      "photoUrl": "https://lh3.googleusercontent.com/a-/AOh14GjUcl4_Y4WvEimmvcD_mLZQanB0gyAhVNZuJiZGgg=s64",
      "userId": "16927950780918275768"
     },
     "user_tz": 180
    },
    "id": "NfuGnNsuaNkk",
    "outputId": "1fa75972-c82c-453b-8db2-b91064dfa457"
   },
   "outputs": [
    {
     "data": {
      "text/plain": [
       "True"
      ]
     },
     "execution_count": 62,
     "metadata": {
      "tags": []
     },
     "output_type": "execute_result"
    }
   ],
   "source": [
    "in_between(50)"
   ]
  },
  {
   "cell_type": "markdown",
   "metadata": {
    "colab_type": "text",
    "id": "rimUyZkmaNkl"
   },
   "source": [
    "<b>for - else loop</b>"
   ]
  },
  {
   "cell_type": "code",
   "execution_count": 0,
   "metadata": {
    "colab": {
     "base_uri": "https://localhost:8080/",
     "height": 197
    },
    "colab_type": "code",
    "executionInfo": {
     "elapsed": 3830,
     "status": "ok",
     "timestamp": 1589147048208,
     "user": {
      "displayName": "amirho3ein kh.",
      "photoUrl": "https://lh3.googleusercontent.com/a-/AOh14GjUcl4_Y4WvEimmvcD_mLZQanB0gyAhVNZuJiZGgg=s64",
      "userId": "16927950780918275768"
     },
     "user_tz": 180
    },
    "id": "T6zdi2o4aNkm",
    "outputId": "09f891f3-8f3d-41c8-8826-696a2e98668b"
   },
   "outputs": [
    {
     "name": "stdout",
     "output_type": "stream",
     "text": [
      "Line 0\n",
      "Line 1\n",
      "Line 2\n",
      "Line 3\n",
      "Line 4\n",
      "Line 5\n",
      "Line 6\n",
      "Line 7\n",
      "Line 8\n",
      "Line 9\n"
     ]
    }
   ],
   "source": [
    "for i in range(10):\n",
    "    print('Line ' +str(i))"
   ]
  },
  {
   "cell_type": "markdown",
   "metadata": {
    "colab_type": "text",
    "id": "YN0OF94h2R30"
   },
   "source": [
    "**Practice 6**\n",
    "* Define a function that iterates over a list and for each element prints \"divisible\" if they are divisible by 3, else prints the remainder"
   ]
  },
  {
   "cell_type": "code",
   "execution_count": 0,
   "metadata": {
    "colab": {},
    "colab_type": "code",
    "id": "u_NE_KG62580"
   },
   "outputs": [],
   "source": [
    "list = [10,20,3,15,1000,60,16,17,18,19,20]"
   ]
  },
  {
   "cell_type": "markdown",
   "metadata": {
    "colab_type": "text",
    "id": "wIMv0nrQaNko"
   },
   "source": [
    "# <a href = \"https://docs.python.org/2/tutorial/classes.html\"> Classes </a>\n",
    "**- Arguments given to the class instantiation operator are passed on to __init__()**\n",
    "\n",
    "\n",
    "**- The instantiation operation (“calling” a class object) creates an empty object. Many classes like to create objects with instances customized to a specific initial state. Therefore a class may define a special method named __init__()**"
   ]
  },
  {
   "cell_type": "code",
   "execution_count": 0,
   "metadata": {
    "colab": {},
    "colab_type": "code",
    "id": "ZJRS95xgaNko"
   },
   "outputs": [],
   "source": [
    "class Animal(object):\n",
    "    def __init__(self, species, age):\n",
    "        self.species = species           # instance variable \n",
    "        self.age = age\n",
    "    def isPerson(self):\n",
    "        return self.species == \"Homo Sapiens\"\n",
    "    def ageOneYear(self):\n",
    "        self.age += 1"
   ]
  },
  {
   "cell_type": "code",
   "execution_count": 0,
   "metadata": {
    "colab": {
     "base_uri": "https://localhost:8080/",
     "height": 35
    },
    "colab_type": "code",
    "executionInfo": {
     "elapsed": 3800,
     "status": "ok",
     "timestamp": 1589147048209,
     "user": {
      "displayName": "amirho3ein kh.",
      "photoUrl": "https://lh3.googleusercontent.com/a-/AOh14GjUcl4_Y4WvEimmvcD_mLZQanB0gyAhVNZuJiZGgg=s64",
      "userId": "16927950780918275768"
     },
     "user_tz": 180
    },
    "id": "zvt9HqivaWWd",
    "outputId": "6d7e8ef1-f1d6-46c6-9247-67468b8a2aba"
   },
   "outputs": [
    {
     "data": {
      "text/plain": [
       "6"
      ]
     },
     "execution_count": 65,
     "metadata": {
      "tags": []
     },
     "output_type": "execute_result"
    }
   ],
   "source": [
    "x = Animal(\"Cat\",6)\n",
    "x.age"
   ]
  },
  {
   "cell_type": "code",
   "execution_count": 0,
   "metadata": {
    "colab": {
     "base_uri": "https://localhost:8080/",
     "height": 35
    },
    "colab_type": "code",
    "executionInfo": {
     "elapsed": 3786,
     "status": "ok",
     "timestamp": 1589147048210,
     "user": {
      "displayName": "amirho3ein kh.",
      "photoUrl": "https://lh3.googleusercontent.com/a-/AOh14GjUcl4_Y4WvEimmvcD_mLZQanB0gyAhVNZuJiZGgg=s64",
      "userId": "16927950780918275768"
     },
     "user_tz": 180
    },
    "id": "3CidfhcAatTo",
    "outputId": "0a2214bc-f475-4970-e39e-33838713d624"
   },
   "outputs": [
    {
     "data": {
      "text/plain": [
       "'Cat'"
      ]
     },
     "execution_count": 66,
     "metadata": {
      "tags": []
     },
     "output_type": "execute_result"
    }
   ],
   "source": [
    "x.species"
   ]
  },
  {
   "cell_type": "code",
   "execution_count": 0,
   "metadata": {
    "colab": {
     "base_uri": "https://localhost:8080/",
     "height": 35
    },
    "colab_type": "code",
    "executionInfo": {
     "elapsed": 3771,
     "status": "ok",
     "timestamp": 1589147048211,
     "user": {
      "displayName": "amirho3ein kh.",
      "photoUrl": "https://lh3.googleusercontent.com/a-/AOh14GjUcl4_Y4WvEimmvcD_mLZQanB0gyAhVNZuJiZGgg=s64",
      "userId": "16927950780918275768"
     },
     "user_tz": 180
    },
    "id": "recx_QXwb4-z",
    "outputId": "3a3f83ee-5e34-4c27-ab11-93b1c9b25ec6"
   },
   "outputs": [
    {
     "data": {
      "text/plain": [
       "False"
      ]
     },
     "execution_count": 67,
     "metadata": {
      "tags": []
     },
     "output_type": "execute_result"
    }
   ],
   "source": [
    "x.isPerson()"
   ]
  },
  {
   "cell_type": "code",
   "execution_count": 0,
   "metadata": {
    "colab": {
     "base_uri": "https://localhost:8080/",
     "height": 35
    },
    "colab_type": "code",
    "executionInfo": {
     "elapsed": 3757,
     "status": "ok",
     "timestamp": 1589147048212,
     "user": {
      "displayName": "amirho3ein kh.",
      "photoUrl": "https://lh3.googleusercontent.com/a-/AOh14GjUcl4_Y4WvEimmvcD_mLZQanB0gyAhVNZuJiZGgg=s64",
      "userId": "16927950780918275768"
     },
     "user_tz": 180
    },
    "id": "Kgt7t7tfcJXB",
    "outputId": "2f0eb83e-3e06-423f-edb5-aac1fb7b1df2"
   },
   "outputs": [
    {
     "data": {
      "text/plain": [
       "7"
      ]
     },
     "execution_count": 68,
     "metadata": {
      "tags": []
     },
     "output_type": "execute_result"
    }
   ],
   "source": [
    "x.ageOneYear()\n",
    "x.age"
   ]
  },
  {
   "cell_type": "code",
   "execution_count": 0,
   "metadata": {
    "colab": {},
    "colab_type": "code",
    "id": "iOpB13C1aNkp"
   },
   "outputs": [],
   "source": [
    "class Dog(Animal): # Inherits Animal’s methods def ageOneYear(self): \n",
    "    def ageOneYear(self): # Override for dog years\n",
    "        self.age += 7"
   ]
  },
  {
   "cell_type": "code",
   "execution_count": 0,
   "metadata": {
    "colab": {
     "base_uri": "https://localhost:8080/",
     "height": 35
    },
    "colab_type": "code",
    "executionInfo": {
     "elapsed": 647,
     "status": "ok",
     "timestamp": 1589153369587,
     "user": {
      "displayName": "amirho3ein kh.",
      "photoUrl": "https://lh3.googleusercontent.com/a-/AOh14GjUcl4_Y4WvEimmvcD_mLZQanB0gyAhVNZuJiZGgg=s64",
      "userId": "16927950780918275768"
     },
     "user_tz": 180
    },
    "id": "cVI2MYu66i3e",
    "outputId": "c2bc378b-0b87-492b-aaef-520c2145f928"
   },
   "outputs": [
    {
     "data": {
      "text/plain": [
       "10"
      ]
     },
     "execution_count": 126,
     "metadata": {
      "tags": []
     },
     "output_type": "execute_result"
    }
   ],
   "source": [
    "Y = Dog(\"Dog\",3)\n",
    "Y.ageOneYear()\n",
    "Y.age"
   ]
  },
  {
   "cell_type": "code",
   "execution_count": 0,
   "metadata": {
    "colab": {},
    "colab_type": "code",
    "id": "_pxmZ1RlaNkq"
   },
   "outputs": [],
   "source": [
    "class MyClass:\n",
    "    def __init__(self,data): # constructor\n",
    "        self.my_data = data # self is the equivalent of 'this' in java. personal variables of the object."
   ]
  },
  {
   "cell_type": "code",
   "execution_count": 0,
   "metadata": {
    "colab": {},
    "colab_type": "code",
    "id": "l0ufP4esaNkr"
   },
   "outputs": [],
   "source": [
    "obj1 = MyClass(10)"
   ]
  },
  {
   "cell_type": "code",
   "execution_count": 0,
   "metadata": {
    "colab": {},
    "colab_type": "code",
    "id": "z3m7m87laNkr"
   },
   "outputs": [],
   "source": [
    "obj2 = MyClass(20)"
   ]
  },
  {
   "cell_type": "code",
   "execution_count": 0,
   "metadata": {
    "colab": {
     "base_uri": "https://localhost:8080/",
     "height": 35
    },
    "colab_type": "code",
    "executionInfo": {
     "elapsed": 703,
     "status": "ok",
     "timestamp": 1589153236663,
     "user": {
      "displayName": "amirho3ein kh.",
      "photoUrl": "https://lh3.googleusercontent.com/a-/AOh14GjUcl4_Y4WvEimmvcD_mLZQanB0gyAhVNZuJiZGgg=s64",
      "userId": "16927950780918275768"
     },
     "user_tz": 180
    },
    "id": "ILajcgNGaNks",
    "outputId": "a4858f78-5316-4cbc-e1bf-3fef894b90ce"
   },
   "outputs": [
    {
     "data": {
      "text/plain": [
       "10"
      ]
     },
     "execution_count": 121,
     "metadata": {
      "tags": []
     },
     "output_type": "execute_result"
    }
   ],
   "source": [
    "obj1.my_data"
   ]
  },
  {
   "cell_type": "code",
   "execution_count": 0,
   "metadata": {
    "colab": {
     "base_uri": "https://localhost:8080/",
     "height": 35
    },
    "colab_type": "code",
    "executionInfo": {
     "elapsed": 524,
     "status": "ok",
     "timestamp": 1589153238454,
     "user": {
      "displayName": "amirho3ein kh.",
      "photoUrl": "https://lh3.googleusercontent.com/a-/AOh14GjUcl4_Y4WvEimmvcD_mLZQanB0gyAhVNZuJiZGgg=s64",
      "userId": "16927950780918275768"
     },
     "user_tz": 180
    },
    "id": "Q6Kl_pu7aNkt",
    "outputId": "7557f952-d557-4884-bd19-f485f252cc48"
   },
   "outputs": [
    {
     "data": {
      "text/plain": [
       "20"
      ]
     },
     "execution_count": 122,
     "metadata": {
      "tags": []
     },
     "output_type": "execute_result"
    }
   ],
   "source": [
    "obj2.my_data"
   ]
  },
  {
   "cell_type": "code",
   "execution_count": 0,
   "metadata": {
    "colab": {},
    "colab_type": "code",
    "id": "Q0VnUtWdaNku"
   },
   "outputs": [],
   "source": [
    "obj1.array.append(\"obj1\")"
   ]
  },
  {
   "cell_type": "code",
   "execution_count": 0,
   "metadata": {
    "colab": {},
    "colab_type": "code",
    "id": "ROthCuBCaNkv"
   },
   "outputs": [],
   "source": [
    "obj2.array.append(\"obj2\")"
   ]
  },
  {
   "cell_type": "code",
   "execution_count": 0,
   "metadata": {
    "colab": {
     "base_uri": "https://localhost:8080/",
     "height": 35
    },
    "colab_type": "code",
    "executionInfo": {
     "elapsed": 4183,
     "status": "ok",
     "timestamp": 1589147048812,
     "user": {
      "displayName": "amirho3ein kh.",
      "photoUrl": "https://lh3.googleusercontent.com/a-/AOh14GjUcl4_Y4WvEimmvcD_mLZQanB0gyAhVNZuJiZGgg=s64",
      "userId": "16927950780918275768"
     },
     "user_tz": 180
    },
    "id": "VzQju8h_aNkw",
    "outputId": "15e57710-e7aa-4ad7-aaa1-55d26838734c"
   },
   "outputs": [
    {
     "data": {
      "text/plain": [
       "['obj1', 'obj2']"
      ]
     },
     "execution_count": 77,
     "metadata": {
      "tags": []
     },
     "output_type": "execute_result"
    }
   ],
   "source": [
    "obj2.array"
   ]
  },
  {
   "cell_type": "code",
   "execution_count": 0,
   "metadata": {
    "colab": {
     "base_uri": "https://localhost:8080/",
     "height": 35
    },
    "colab_type": "code",
    "executionInfo": {
     "elapsed": 4166,
     "status": "ok",
     "timestamp": 1589147048812,
     "user": {
      "displayName": "amirho3ein kh.",
      "photoUrl": "https://lh3.googleusercontent.com/a-/AOh14GjUcl4_Y4WvEimmvcD_mLZQanB0gyAhVNZuJiZGgg=s64",
      "userId": "16927950780918275768"
     },
     "user_tz": 180
    },
    "id": "6OvUfueJaNky",
    "outputId": "97092a9f-56ef-4b11-8155-8dd81db541b2"
   },
   "outputs": [
    {
     "data": {
      "text/plain": [
       "['obj1', 'obj2']"
      ]
     },
     "execution_count": 78,
     "metadata": {
      "tags": []
     },
     "output_type": "execute_result"
    }
   ],
   "source": [
    "obj1.array"
   ]
  },
  {
   "cell_type": "code",
   "execution_count": 0,
   "metadata": {
    "colab": {},
    "colab_type": "code",
    "id": "vsFHzVXMaNky"
   },
   "outputs": [],
   "source": [
    "obj1.temp_var = \"temp\" #Can create attributes on the go!"
   ]
  },
  {
   "cell_type": "code",
   "execution_count": 0,
   "metadata": {
    "colab": {
     "base_uri": "https://localhost:8080/",
     "height": 35
    },
    "colab_type": "code",
    "executionInfo": {
     "elapsed": 4134,
     "status": "ok",
     "timestamp": 1589147048815,
     "user": {
      "displayName": "amirho3ein kh.",
      "photoUrl": "https://lh3.googleusercontent.com/a-/AOh14GjUcl4_Y4WvEimmvcD_mLZQanB0gyAhVNZuJiZGgg=s64",
      "userId": "16927950780918275768"
     },
     "user_tz": 180
    },
    "id": "p4mgq4znaNkz",
    "outputId": "a8b7b657-85b1-4f28-a01b-ca0f0aa5e6f5"
   },
   "outputs": [
    {
     "data": {
      "text/plain": [
       "'temp'"
      ]
     },
     "execution_count": 80,
     "metadata": {
      "tags": []
     },
     "output_type": "execute_result"
    }
   ],
   "source": [
    "obj1.temp_var"
   ]
  },
  {
   "cell_type": "markdown",
   "metadata": {
    "colab_type": "text",
    "id": "ehZNP6_F_PQ8"
   },
   "source": [
    "**Practice 7**\n",
    "\n",
    "\n",
    "*   Define a python class that reverses a sting by word for example \"hello world\" should return \"world hello\"\n",
    "\n"
   ]
  },
  {
   "cell_type": "code",
   "execution_count": 0,
   "metadata": {
    "colab": {},
    "colab_type": "code",
    "id": "qus0rW6M_7mX"
   },
   "outputs": [],
   "source": [
    "string = \"hello world!\""
   ]
  },
  {
   "cell_type": "markdown",
   "metadata": {
    "colab_type": "text",
    "id": "dcHxY_rTaNk0"
   },
   "source": [
    "# How to open a file?"
   ]
  },
  {
   "cell_type": "code",
   "execution_count": 0,
   "metadata": {
    "colab": {},
    "colab_type": "code",
    "id": "cbGBwmKPaNk0"
   },
   "outputs": [],
   "source": [
    "My_file = open(\"test.txt\")    # open file in current directory"
   ]
  },
  {
   "cell_type": "code",
   "execution_count": 0,
   "metadata": {
    "colab": {},
    "colab_type": "code",
    "id": "JACdJzKvlzaq"
   },
   "outputs": [],
   "source": [
    "My_file = open(\"C:/Python33/README.txt\")  # specifying full path"
   ]
  },
  {
   "cell_type": "code",
   "execution_count": 0,
   "metadata": {
    "colab": {},
    "colab_type": "code",
    "id": "oJ_ThyfRaNk1"
   },
   "outputs": [],
   "source": [
    "My_file = open(\"test.txt\",'w')  # write in text mode"
   ]
  },
  {
   "cell_type": "code",
   "execution_count": 0,
   "metadata": {
    "colab": {},
    "colab_type": "code",
    "id": "W7maPV9bl8Em"
   },
   "outputs": [],
   "source": [
    "My_file = open(\"img.bmp\",'r+b') # read and write in binary mode"
   ]
  },
  {
   "cell_type": "code",
   "execution_count": 0,
   "metadata": {
    "colab": {},
    "colab_type": "code",
    "id": "PPqozwn3aNk2"
   },
   "outputs": [],
   "source": [
    "My_file = open(\"test.txt\",encoding = 'utf-8')\n",
    "# perform file operations\n",
    "My_file.close()"
   ]
  },
  {
   "cell_type": "markdown",
   "metadata": {
    "colab_type": "text",
    "id": "UQy8wOhoaNk3"
   },
   "source": [
    "![Image](https://i.ibb.co/JRdstZ1/1.png)\n",
    "![Image](https://i.ibb.co/0QMrrTD/2.png)"
   ]
  },
  {
   "cell_type": "markdown",
   "metadata": {
    "colab_type": "text",
    "id": "HtMl43UgaNk3"
   },
   "source": [
    "# [Numpy](http://www.numpy.org/)\n",
    "- Is a basic Python library for matrix and vector computation.\n",
    "- Designed to bring in MatLab capabilities into python\n",
    "- Makes use of C/C++ subroutines and memory-efficient data structures. (Lots of computation can be efficiently represented as vectors.)\n",
    "- Main data type: [**np.ndarray**](https://docs.scipy.org/doc/numpy-1.15.0/reference/generated/numpy.ndarray.html)\n",
    "- This is the data type that you will use to represent matrix/vector computations.\n",
    "- Note: constructor function is np.array()\n",
    " "
   ]
  },
  {
   "cell_type": "code",
   "execution_count": 0,
   "metadata": {
    "colab": {},
    "colab_type": "code",
    "id": "FA6hjloZaNk4"
   },
   "outputs": [],
   "source": [
    "import numpy as np"
   ]
  },
  {
   "cell_type": "code",
   "execution_count": 0,
   "metadata": {
    "colab": {
     "base_uri": "https://localhost:8080/",
     "height": 35
    },
    "colab_type": "code",
    "executionInfo": {
     "elapsed": 1861,
     "status": "ok",
     "timestamp": 1589154869929,
     "user": {
      "displayName": "amirho3ein kh.",
      "photoUrl": "https://lh3.googleusercontent.com/a-/AOh14GjUcl4_Y4WvEimmvcD_mLZQanB0gyAhVNZuJiZGgg=s64",
      "userId": "16927950780918275768"
     },
     "user_tz": 180
    },
    "id": "Yur0-a7VaNk4",
    "outputId": "cb4f6e49-f57a-4b0e-826b-49b1a7848736"
   },
   "outputs": [
    {
     "name": "stdout",
     "output_type": "stream",
     "text": [
      "[0, 1, 2, 3, 4]\n"
     ]
    }
   ],
   "source": [
    "My_list = [0,1,2,3,4]\n",
    "print(My_list)\n"
   ]
  },
  {
   "cell_type": "markdown",
   "metadata": {
    "colab_type": "text",
    "id": "oQaqMZXrfZ4u"
   },
   "source": [
    "<b>An <a href = \"https://docs.scipy.org/doc/numpy-1.15.0/reference/arrays.ndarray.html\" > ndarray </a> is a (usually fixed-size) multidimensional container of items of the same type and size.</b>\n"
   ]
  },
  {
   "cell_type": "code",
   "execution_count": 0,
   "metadata": {
    "colab": {
     "base_uri": "https://localhost:8080/",
     "height": 53
    },
    "colab_type": "code",
    "executionInfo": {
     "elapsed": 1840,
     "status": "ok",
     "timestamp": 1589154869931,
     "user": {
      "displayName": "amirho3ein kh.",
      "photoUrl": "https://lh3.googleusercontent.com/a-/AOh14GjUcl4_Y4WvEimmvcD_mLZQanB0gyAhVNZuJiZGgg=s64",
      "userId": "16927950780918275768"
     },
     "user_tz": 180
    },
    "id": "Z3daAQtUaNk5",
    "outputId": "2227f51e-4774-4a5f-bcd8-4a1cfebc2025"
   },
   "outputs": [
    {
     "name": "stdout",
     "output_type": "stream",
     "text": [
      "[0 1 2 3 4]\n"
     ]
    },
    {
     "data": {
      "text/plain": [
       "numpy.ndarray"
      ]
     },
     "execution_count": 132,
     "metadata": {
      "tags": []
     },
     "output_type": "execute_result"
    }
   ],
   "source": [
    "arr1d = np.array(My_list) # Convert list to the numpy format\n",
    "print(arr1d)\n",
    "type(arr1d)"
   ]
  },
  {
   "cell_type": "code",
   "execution_count": 0,
   "metadata": {
    "colab": {
     "base_uri": "https://localhost:8080/",
     "height": 53
    },
    "colab_type": "code",
    "executionInfo": {
     "elapsed": 350,
     "status": "ok",
     "timestamp": 1589156840550,
     "user": {
      "displayName": "amirho3ein kh.",
      "photoUrl": "https://lh3.googleusercontent.com/a-/AOh14GjUcl4_Y4WvEimmvcD_mLZQanB0gyAhVNZuJiZGgg=s64",
      "userId": "16927950780918275768"
     },
     "user_tz": 180
    },
    "id": "2K7vp7K0aNk6",
    "outputId": "dc5e3b47-2d19-489d-c6ab-d25250ac397c"
   },
   "outputs": [
    {
     "data": {
      "text/plain": [
       "array([[2.32661600e-316, 5.73116149e-322],\n",
       "       [2.05833592e-312, 0.00000000e+000]])"
      ]
     },
     "execution_count": 156,
     "metadata": {
      "tags": []
     },
     "output_type": "execute_result"
    }
   ],
   "source": [
    "My_ndarray = np.ndarray(shape=(2,2), dtype=float, order='F')\n",
    "My_ndarray"
   ]
  },
  {
   "cell_type": "markdown",
   "metadata": {
    "colab_type": "text",
    "id": "PnzXBP5UaNk7"
   },
   "source": [
    "<b>np.array is just a convenience function to create an ndarray; it is not a class itself.\n",
    "\n",
    "Arrays should be constructed using array, zeros or empty ... \n",
    "\n",
    "The parameters given here refer to a low-level method (ndarray(...)) for instantiating an array.</b>"
   ]
  },
  {
   "cell_type": "code",
   "execution_count": 0,
   "metadata": {
    "colab": {
     "base_uri": "https://localhost:8080/",
     "height": 35
    },
    "colab_type": "code",
    "executionInfo": {
     "elapsed": 1805,
     "status": "ok",
     "timestamp": 1589154869932,
     "user": {
      "displayName": "amirho3ein kh.",
      "photoUrl": "https://lh3.googleusercontent.com/a-/AOh14GjUcl4_Y4WvEimmvcD_mLZQanB0gyAhVNZuJiZGgg=s64",
      "userId": "16927950780918275768"
     },
     "user_tz": 180
    },
    "id": "Z5V02yMHaNk7",
    "outputId": "ee578795-a9d1-491e-d533-c77d2c1bbe22"
   },
   "outputs": [
    {
     "data": {
      "text/plain": [
       "(2, 2)"
      ]
     },
     "execution_count": 134,
     "metadata": {
      "tags": []
     },
     "output_type": "execute_result"
    }
   ],
   "source": [
    "My_ndarray.shape"
   ]
  },
  {
   "cell_type": "code",
   "execution_count": 0,
   "metadata": {
    "colab": {
     "base_uri": "https://localhost:8080/",
     "height": 35
    },
    "colab_type": "code",
    "executionInfo": {
     "elapsed": 1794,
     "status": "ok",
     "timestamp": 1589154869936,
     "user": {
      "displayName": "amirho3ein kh.",
      "photoUrl": "https://lh3.googleusercontent.com/a-/AOh14GjUcl4_Y4WvEimmvcD_mLZQanB0gyAhVNZuJiZGgg=s64",
      "userId": "16927950780918275768"
     },
     "user_tz": 180
    },
    "id": "PKDeBMqEaNk8",
    "outputId": "1079e4b4-2f8c-4c03-baf1-b8fee3b18577"
   },
   "outputs": [
    {
     "data": {
      "text/plain": [
       "2"
      ]
     },
     "execution_count": 135,
     "metadata": {
      "tags": []
     },
     "output_type": "execute_result"
    }
   ],
   "source": [
    "My_ndarray.ndim"
   ]
  },
  {
   "cell_type": "code",
   "execution_count": 0,
   "metadata": {
    "colab": {
     "base_uri": "https://localhost:8080/",
     "height": 35
    },
    "colab_type": "code",
    "executionInfo": {
     "elapsed": 1779,
     "status": "ok",
     "timestamp": 1589154869938,
     "user": {
      "displayName": "amirho3ein kh.",
      "photoUrl": "https://lh3.googleusercontent.com/a-/AOh14GjUcl4_Y4WvEimmvcD_mLZQanB0gyAhVNZuJiZGgg=s64",
      "userId": "16927950780918275768"
     },
     "user_tz": 180
    },
    "id": "2s2Njp2_aNk9",
    "outputId": "8fe112fe-006f-4a3b-c45b-acabb4972172"
   },
   "outputs": [
    {
     "data": {
      "text/plain": [
       "<memory at 0x7f9136230120>"
      ]
     },
     "execution_count": 136,
     "metadata": {
      "tags": []
     },
     "output_type": "execute_result"
    }
   ],
   "source": [
    "My_ndarray.data"
   ]
  },
  {
   "cell_type": "code",
   "execution_count": 0,
   "metadata": {
    "colab": {
     "base_uri": "https://localhost:8080/",
     "height": 35
    },
    "colab_type": "code",
    "executionInfo": {
     "elapsed": 1762,
     "status": "ok",
     "timestamp": 1589154869938,
     "user": {
      "displayName": "amirho3ein kh.",
      "photoUrl": "https://lh3.googleusercontent.com/a-/AOh14GjUcl4_Y4WvEimmvcD_mLZQanB0gyAhVNZuJiZGgg=s64",
      "userId": "16927950780918275768"
     },
     "user_tz": 180
    },
    "id": "JbKsK3ebaNk-",
    "outputId": "c40b8b69-98c8-4c81-ac63-f5add8288872"
   },
   "outputs": [
    {
     "data": {
      "text/plain": [
       "dtype('float64')"
      ]
     },
     "execution_count": 137,
     "metadata": {
      "tags": []
     },
     "output_type": "execute_result"
    }
   ],
   "source": [
    "My_ndarray.dtype"
   ]
  },
  {
   "cell_type": "markdown",
   "metadata": {
    "colab_type": "text",
    "id": "kCJxAw0Wdf6p"
   },
   "source": [
    "**-  List vs ndarray:**\n"
   ]
  },
  {
   "cell_type": "code",
   "execution_count": 0,
   "metadata": {
    "colab": {
     "base_uri": "https://localhost:8080/",
     "height": 169
    },
    "colab_type": "code",
    "executionInfo": {
     "elapsed": 2403,
     "status": "error",
     "timestamp": 1589154870592,
     "user": {
      "displayName": "amirho3ein kh.",
      "photoUrl": "https://lh3.googleusercontent.com/a-/AOh14GjUcl4_Y4WvEimmvcD_mLZQanB0gyAhVNZuJiZGgg=s64",
      "userId": "16927950780918275768"
     },
     "user_tz": 180
    },
    "id": "32mvWpO9aNk_",
    "outputId": "b8933afe-0684-43a5-c999-c0c7de5efe94"
   },
   "outputs": [
    {
     "ename": "TypeError",
     "evalue": "ignored",
     "output_type": "error",
     "traceback": [
      "\u001b[0;31m---------------------------------------------------------------------------\u001b[0m",
      "\u001b[0;31mTypeError\u001b[0m                                 Traceback (most recent call last)",
      "\u001b[0;32m<ipython-input-138-491ff8b4f342>\u001b[0m in \u001b[0;36m<module>\u001b[0;34m()\u001b[0m\n\u001b[0;32m----> 1\u001b[0;31m \u001b[0mMy_list\u001b[0m \u001b[0;34m+\u001b[0m \u001b[0;36m2\u001b[0m \u001b[0;31m# We have error\u001b[0m\u001b[0;34m\u001b[0m\u001b[0;34m\u001b[0m\u001b[0m\n\u001b[0m",
      "\u001b[0;31mTypeError\u001b[0m: can only concatenate list (not \"int\") to list"
     ]
    }
   ],
   "source": [
    "My_list + 2 # We have error"
   ]
  },
  {
   "cell_type": "markdown",
   "metadata": {
    "colab_type": "text",
    "id": "WcLPerjneBaC"
   },
   "source": [
    "**- The following line will add 2 to every element of the array**"
   ]
  },
  {
   "cell_type": "code",
   "execution_count": 0,
   "metadata": {
    "colab": {
     "base_uri": "https://localhost:8080/",
     "height": 35
    },
    "colab_type": "code",
    "executionInfo": {
     "elapsed": 723,
     "status": "ok",
     "timestamp": 1589156861301,
     "user": {
      "displayName": "amirho3ein kh.",
      "photoUrl": "https://lh3.googleusercontent.com/a-/AOh14GjUcl4_Y4WvEimmvcD_mLZQanB0gyAhVNZuJiZGgg=s64",
      "userId": "16927950780918275768"
     },
     "user_tz": 180
    },
    "id": "W2JzNibLaNlA",
    "outputId": "2bcb9dc8-a07b-4a7e-f35d-99d772104ccc"
   },
   "outputs": [
    {
     "data": {
      "text/plain": [
       "array([2, 3, 4, 5, 6])"
      ]
     },
     "execution_count": 157,
     "metadata": {
      "tags": []
     },
     "output_type": "execute_result"
    }
   ],
   "source": [
    "arr1d + 2"
   ]
  },
  {
   "cell_type": "code",
   "execution_count": 0,
   "metadata": {
    "colab": {
     "base_uri": "https://localhost:8080/",
     "height": 35
    },
    "colab_type": "code",
    "executionInfo": {
     "elapsed": 985,
     "status": "ok",
     "timestamp": 1589156861572,
     "user": {
      "displayName": "amirho3ein kh.",
      "photoUrl": "https://lh3.googleusercontent.com/a-/AOh14GjUcl4_Y4WvEimmvcD_mLZQanB0gyAhVNZuJiZGgg=s64",
      "userId": "16927950780918275768"
     },
     "user_tz": 180
    },
    "id": "24YPYfaAaNlB",
    "outputId": "cbf6750d-9cd4-4468-9f34-6bab4a2b1e57"
   },
   "outputs": [
    {
     "data": {
      "text/plain": [
       "array([ 0,  4,  8, 12, 16])"
      ]
     },
     "execution_count": 158,
     "metadata": {
      "tags": []
     },
     "output_type": "execute_result"
    }
   ],
   "source": [
    "arr1d * 4"
   ]
  },
  {
   "cell_type": "code",
   "execution_count": 0,
   "metadata": {
    "colab": {
     "base_uri": "https://localhost:8080/",
     "height": 35
    },
    "colab_type": "code",
    "executionInfo": {
     "elapsed": 978,
     "status": "ok",
     "timestamp": 1589156861573,
     "user": {
      "displayName": "amirho3ein kh.",
      "photoUrl": "https://lh3.googleusercontent.com/a-/AOh14GjUcl4_Y4WvEimmvcD_mLZQanB0gyAhVNZuJiZGgg=s64",
      "userId": "16927950780918275768"
     },
     "user_tz": 180
    },
    "id": "eheTzwIoaNlC",
    "outputId": "f79b5971-54ca-4c35-b524-4fd8083b7c34"
   },
   "outputs": [
    {
     "data": {
      "text/plain": [
       "30"
      ]
     },
     "execution_count": 159,
     "metadata": {
      "tags": []
     },
     "output_type": "execute_result"
    }
   ],
   "source": [
    "arr1d.dot(arr1d) #Claculates the dot product of the elements in the array"
   ]
  },
  {
   "cell_type": "code",
   "execution_count": 0,
   "metadata": {
    "colab": {
     "base_uri": "https://localhost:8080/",
     "height": 35
    },
    "colab_type": "code",
    "executionInfo": {
     "elapsed": 973,
     "status": "ok",
     "timestamp": 1589156861575,
     "user": {
      "displayName": "amirho3ein kh.",
      "photoUrl": "https://lh3.googleusercontent.com/a-/AOh14GjUcl4_Y4WvEimmvcD_mLZQanB0gyAhVNZuJiZGgg=s64",
      "userId": "16927950780918275768"
     },
     "user_tz": 180
    },
    "id": "BM5JiyLZaNlD",
    "outputId": "082d00f2-d457-4267-bee9-291562e27a3e"
   },
   "outputs": [
    {
     "data": {
      "text/plain": [
       "10"
      ]
     },
     "execution_count": 160,
     "metadata": {
      "tags": []
     },
     "output_type": "execute_result"
    }
   ],
   "source": [
    "np.sum(arr1d,axis=0) #calculates sum of the elments in the array"
   ]
  },
  {
   "cell_type": "code",
   "execution_count": 0,
   "metadata": {
    "colab": {
     "base_uri": "https://localhost:8080/",
     "height": 71
    },
    "colab_type": "code",
    "executionInfo": {
     "elapsed": 961,
     "status": "ok",
     "timestamp": 1589156861575,
     "user": {
      "displayName": "amirho3ein kh.",
      "photoUrl": "https://lh3.googleusercontent.com/a-/AOh14GjUcl4_Y4WvEimmvcD_mLZQanB0gyAhVNZuJiZGgg=s64",
      "userId": "16927950780918275768"
     },
     "user_tz": 180
    },
    "id": "o0QeF8AsaNlE",
    "outputId": "efda9ef8-04b2-4fc7-9116-8cfb0969e084"
   },
   "outputs": [
    {
     "data": {
      "text/plain": [
       "array([[ 0.,  1.,  2.,  3.],\n",
       "       [ 4.,  5.,  6.,  7.],\n",
       "       [ 8.,  9., 10., 11.]])"
      ]
     },
     "execution_count": 161,
     "metadata": {
      "tags": []
     },
     "output_type": "execute_result"
    }
   ],
   "source": [
    "# converting a 2 dimensional list into a numpy array\n",
    "list2 = [[0,1,2,3], [4,5,6,7], [8,9,10,11]] \n",
    "arr2d = np.array(list2, dtype = 'float')\n",
    "arr2d"
   ]
  },
  {
   "cell_type": "markdown",
   "metadata": {
    "colab_type": "text",
    "id": "beNeoJKyhxNI"
   },
   "source": [
    "<b><a href = \"https://docs.scipy.org/doc/numpy-1.15.0/reference/generated/numpy.reshape.html#numpy.reshape\" >Reshape</a> gives a new shape to an array without changing its data.</b>"
   ]
  },
  {
   "cell_type": "code",
   "execution_count": 0,
   "metadata": {
    "colab": {
     "base_uri": "https://localhost:8080/",
     "height": 53
    },
    "colab_type": "code",
    "executionInfo": {
     "elapsed": 957,
     "status": "ok",
     "timestamp": 1589156861576,
     "user": {
      "displayName": "amirho3ein kh.",
      "photoUrl": "https://lh3.googleusercontent.com/a-/AOh14GjUcl4_Y4WvEimmvcD_mLZQanB0gyAhVNZuJiZGgg=s64",
      "userId": "16927950780918275768"
     },
     "user_tz": 180
    },
    "id": "E5PL_80ZaNlF",
    "outputId": "62e46707-f90b-41ed-be07-b9e73c76eced"
   },
   "outputs": [
    {
     "data": {
      "text/plain": [
       "array([[ 0.,  1.,  2.,  3.,  4.,  5.],\n",
       "       [ 6.,  7.,  8.,  9., 10., 11.]])"
      ]
     },
     "execution_count": 162,
     "metadata": {
      "tags": []
     },
     "output_type": "execute_result"
    }
   ],
   "source": [
    "arr2d.reshape(2, -1) "
   ]
  },
  {
   "cell_type": "code",
   "execution_count": 0,
   "metadata": {
    "colab": {
     "base_uri": "https://localhost:8080/",
     "height": 35
    },
    "colab_type": "code",
    "executionInfo": {
     "elapsed": 952,
     "status": "ok",
     "timestamp": 1589156861577,
     "user": {
      "displayName": "amirho3ein kh.",
      "photoUrl": "https://lh3.googleusercontent.com/a-/AOh14GjUcl4_Y4WvEimmvcD_mLZQanB0gyAhVNZuJiZGgg=s64",
      "userId": "16927950780918275768"
     },
     "user_tz": 180
    },
    "id": "6zSzpoIRaNlG",
    "outputId": "c7592735-dbcd-4c47-d102-57069dbbb033"
   },
   "outputs": [
    {
     "data": {
      "text/plain": [
       "array([12., 15., 18., 21.])"
      ]
     },
     "execution_count": 163,
     "metadata": {
      "tags": []
     },
     "output_type": "execute_result"
    }
   ],
   "source": [
    "np.sum(arr2d,axis=0)"
   ]
  },
  {
   "cell_type": "code",
   "execution_count": 0,
   "metadata": {
    "colab": {
     "base_uri": "https://localhost:8080/",
     "height": 35
    },
    "colab_type": "code",
    "executionInfo": {
     "elapsed": 615,
     "status": "ok",
     "timestamp": 1589157478289,
     "user": {
      "displayName": "amirho3ein kh.",
      "photoUrl": "https://lh3.googleusercontent.com/a-/AOh14GjUcl4_Y4WvEimmvcD_mLZQanB0gyAhVNZuJiZGgg=s64",
      "userId": "16927950780918275768"
     },
     "user_tz": 180
    },
    "id": "juvlvPMyaNlH",
    "outputId": "d30b5784-4fea-4416-eb19-60047741a515"
   },
   "outputs": [
    {
     "data": {
      "text/plain": [
       "[[0.0, 1.0, 2.0, 3.0], [4.0, 5.0, 6.0, 7.0], [8.0, 9.0, 10.0, 11.0]]"
      ]
     },
     "execution_count": 188,
     "metadata": {
      "tags": []
     },
     "output_type": "execute_result"
    }
   ],
   "source": [
    "# Convert an array back to a list\n",
    "arr2d = arr2d.tolist()\n",
    "arr2d"
   ]
  },
  {
   "cell_type": "code",
   "execution_count": 0,
   "metadata": {
    "colab": {
     "base_uri": "https://localhost:8080/",
     "height": 35
    },
    "colab_type": "code",
    "executionInfo": {
     "elapsed": 577,
     "status": "ok",
     "timestamp": 1589157533168,
     "user": {
      "displayName": "amirho3ein kh.",
      "photoUrl": "https://lh3.googleusercontent.com/a-/AOh14GjUcl4_Y4WvEimmvcD_mLZQanB0gyAhVNZuJiZGgg=s64",
      "userId": "16927950780918275768"
     },
     "user_tz": 180
    },
    "id": "tm-boWSyaNlI",
    "outputId": "020eb35b-1d55-46be-9d9a-a5998de58474"
   },
   "outputs": [
    {
     "name": "stdout",
     "output_type": "stream",
     "text": [
      "12\n"
     ]
    }
   ],
   "source": [
    " arr2d= np.array(arr2d)\n",
    "print(arr2d.size)"
   ]
  },
  {
   "cell_type": "code",
   "execution_count": 0,
   "metadata": {
    "colab": {
     "base_uri": "https://localhost:8080/",
     "height": 35
    },
    "colab_type": "code",
    "executionInfo": {
     "elapsed": 559,
     "status": "ok",
     "timestamp": 1589157537852,
     "user": {
      "displayName": "amirho3ein kh.",
      "photoUrl": "https://lh3.googleusercontent.com/a-/AOh14GjUcl4_Y4WvEimmvcD_mLZQanB0gyAhVNZuJiZGgg=s64",
      "userId": "16927950780918275768"
     },
     "user_tz": 180
    },
    "id": "llCeZd1baNlJ",
    "outputId": "f7129b76-fe6b-4f0b-e2ec-b7da472b6aeb"
   },
   "outputs": [
    {
     "name": "stdout",
     "output_type": "stream",
     "text": [
      "(3, 4)\n"
     ]
    }
   ],
   "source": [
    "print(arr2d.shape)"
   ]
  },
  {
   "cell_type": "code",
   "execution_count": 0,
   "metadata": {
    "colab": {
     "base_uri": "https://localhost:8080/",
     "height": 35
    },
    "colab_type": "code",
    "executionInfo": {
     "elapsed": 560,
     "status": "ok",
     "timestamp": 1589157539804,
     "user": {
      "displayName": "amirho3ein kh.",
      "photoUrl": "https://lh3.googleusercontent.com/a-/AOh14GjUcl4_Y4WvEimmvcD_mLZQanB0gyAhVNZuJiZGgg=s64",
      "userId": "16927950780918275768"
     },
     "user_tz": 180
    },
    "id": "M5b6ywIlaNlJ",
    "outputId": "ead312a1-d4f0-4ac6-de53-53d9c309c536"
   },
   "outputs": [
    {
     "name": "stdout",
     "output_type": "stream",
     "text": [
      "float64\n"
     ]
    }
   ],
   "source": [
    "print(arr2d.dtype)"
   ]
  },
  {
   "cell_type": "code",
   "execution_count": 0,
   "metadata": {
    "colab": {
     "base_uri": "https://localhost:8080/",
     "height": 35
    },
    "colab_type": "code",
    "executionInfo": {
     "elapsed": 6278,
     "status": "ok",
     "timestamp": 1589157548316,
     "user": {
      "displayName": "amirho3ein kh.",
      "photoUrl": "https://lh3.googleusercontent.com/a-/AOh14GjUcl4_Y4WvEimmvcD_mLZQanB0gyAhVNZuJiZGgg=s64",
      "userId": "16927950780918275768"
     },
     "user_tz": 180
    },
    "id": "M1VWF6euaNlK",
    "outputId": "3debca53-43b8-4df9-9b60-87330c6e2c4d"
   },
   "outputs": [
    {
     "name": "stdout",
     "output_type": "stream",
     "text": [
      "2\n"
     ]
    }
   ],
   "source": [
    "print(arr2d.ndim)"
   ]
  },
  {
   "cell_type": "markdown",
   "metadata": {
    "colab_type": "text",
    "id": "4t-1mE0jaNlL"
   },
   "source": [
    "<b>Extract the first 2 rows and columns</b>"
   ]
  },
  {
   "cell_type": "code",
   "execution_count": 0,
   "metadata": {
    "colab": {
     "base_uri": "https://localhost:8080/",
     "height": 53
    },
    "colab_type": "code",
    "executionInfo": {
     "elapsed": 2083,
     "status": "ok",
     "timestamp": 1589156862742,
     "user": {
      "displayName": "amirho3ein kh.",
      "photoUrl": "https://lh3.googleusercontent.com/a-/AOh14GjUcl4_Y4WvEimmvcD_mLZQanB0gyAhVNZuJiZGgg=s64",
      "userId": "16927950780918275768"
     },
     "user_tz": 180
    },
    "id": "CyJHaizraNlL",
    "outputId": "4d1833a8-3984-45b6-c9e5-31d428638f0d"
   },
   "outputs": [
    {
     "data": {
      "text/plain": [
       "array([[0., 1.],\n",
       "       [4., 5.]])"
      ]
     },
     "execution_count": 169,
     "metadata": {
      "tags": []
     },
     "output_type": "execute_result"
    }
   ],
   "source": [
    "arr2d[:2, :2]"
   ]
  },
  {
   "cell_type": "code",
   "execution_count": 0,
   "metadata": {
    "colab": {
     "base_uri": "https://localhost:8080/",
     "height": 71
    },
    "colab_type": "code",
    "executionInfo": {
     "elapsed": 2080,
     "status": "ok",
     "timestamp": 1589156862744,
     "user": {
      "displayName": "amirho3ein kh.",
      "photoUrl": "https://lh3.googleusercontent.com/a-/AOh14GjUcl4_Y4WvEimmvcD_mLZQanB0gyAhVNZuJiZGgg=s64",
      "userId": "16927950780918275768"
     },
     "user_tz": 180
    },
    "id": "RsZC34RIaNlM",
    "outputId": "8f4f6bb5-1063-4cbe-b2e4-79272d2edb90"
   },
   "outputs": [
    {
     "name": "stdout",
     "output_type": "stream",
     "text": [
      "Mean value is:  5.5\n",
      "Max value is:  11.0\n",
      "Min value is:  0.0\n"
     ]
    }
   ],
   "source": [
    "print(\"Mean value is: \", arr2d.mean())\n",
    "print(\"Max value is: \", arr2d.max())\n",
    "print(\"Min value is: \", arr2d.min())"
   ]
  },
  {
   "cell_type": "code",
   "execution_count": 0,
   "metadata": {
    "colab": {
     "base_uri": "https://localhost:8080/",
     "height": 53
    },
    "colab_type": "code",
    "executionInfo": {
     "elapsed": 2077,
     "status": "ok",
     "timestamp": 1589156862745,
     "user": {
      "displayName": "amirho3ein kh.",
      "photoUrl": "https://lh3.googleusercontent.com/a-/AOh14GjUcl4_Y4WvEimmvcD_mLZQanB0gyAhVNZuJiZGgg=s64",
      "userId": "16927950780918275768"
     },
     "user_tz": 180
    },
    "id": "2oVti6ofaNlN",
    "outputId": "c83b6de1-2869-4f24-e611-d645e3379865"
   },
   "outputs": [
    {
     "name": "stdout",
     "output_type": "stream",
     "text": [
      "Column wise minimum:  [0. 1. 2. 3.]\n",
      "Row wise minimum:  [0. 4. 8.]\n"
     ]
    }
   ],
   "source": [
    "print(\"Column wise minimum: \", np.amin(arr2d, axis=0))\n",
    "print(\"Row wise minimum: \", np.amin(arr2d, axis=1))"
   ]
  },
  {
   "cell_type": "code",
   "execution_count": 0,
   "metadata": {
    "colab": {
     "base_uri": "https://localhost:8080/",
     "height": 89
    },
    "colab_type": "code",
    "executionInfo": {
     "elapsed": 2073,
     "status": "ok",
     "timestamp": 1589156862745,
     "user": {
      "displayName": "amirho3ein kh.",
      "photoUrl": "https://lh3.googleusercontent.com/a-/AOh14GjUcl4_Y4WvEimmvcD_mLZQanB0gyAhVNZuJiZGgg=s64",
      "userId": "16927950780918275768"
     },
     "user_tz": 180
    },
    "id": "C7u0XPSQaNlN",
    "outputId": "85f00f4b-7f88-4485-991e-568a9bb6f877"
   },
   "outputs": [
    {
     "data": {
      "text/plain": [
       "array([[ 0.,  1.,  2.],\n",
       "       [ 3.,  4.,  5.],\n",
       "       [ 6.,  7.,  8.],\n",
       "       [ 9., 10., 11.]])"
      ]
     },
     "execution_count": 172,
     "metadata": {
      "tags": []
     },
     "output_type": "execute_result"
    }
   ],
   "source": [
    "arr2d.reshape(4, 3)"
   ]
  },
  {
   "cell_type": "code",
   "execution_count": 0,
   "metadata": {
    "colab": {
     "base_uri": "https://localhost:8080/",
     "height": 35
    },
    "colab_type": "code",
    "executionInfo": {
     "elapsed": 2070,
     "status": "ok",
     "timestamp": 1589156862747,
     "user": {
      "displayName": "amirho3ein kh.",
      "photoUrl": "https://lh3.googleusercontent.com/a-/AOh14GjUcl4_Y4WvEimmvcD_mLZQanB0gyAhVNZuJiZGgg=s64",
      "userId": "16927950780918275768"
     },
     "user_tz": 180
    },
    "id": "J5RRai0yaNlO",
    "outputId": "32d0a3d3-1683-4069-cf92-de66f19af9fa"
   },
   "outputs": [
    {
     "name": "stdout",
     "output_type": "stream",
     "text": [
      "[ 3.  7. 11.]\n"
     ]
    }
   ],
   "source": [
    "print(np.max(arr2d, axis = 1))"
   ]
  },
  {
   "cell_type": "code",
   "execution_count": 0,
   "metadata": {
    "colab": {
     "base_uri": "https://localhost:8080/",
     "height": 89
    },
    "colab_type": "code",
    "executionInfo": {
     "elapsed": 2067,
     "status": "ok",
     "timestamp": 1589156862748,
     "user": {
      "displayName": "amirho3ein kh.",
      "photoUrl": "https://lh3.googleusercontent.com/a-/AOh14GjUcl4_Y4WvEimmvcD_mLZQanB0gyAhVNZuJiZGgg=s64",
      "userId": "16927950780918275768"
     },
     "user_tz": 180
    },
    "id": "lSbapS0GaNlQ",
    "outputId": "92603f26-70ba-4005-bb1f-ffde57983c34"
   },
   "outputs": [
    {
     "name": "stdout",
     "output_type": "stream",
     "text": [
      "[0 1 2 3 4]\n",
      "[0 1 2 3 4 5 6 7 8 9]\n",
      "[0 2 4 6 8]\n",
      "[10  9  8  7  6  5  4  3  2  1]\n"
     ]
    }
   ],
   "source": [
    "# Creates a numpy array based on the range given\n",
    "print(np.arange(5))  \n",
    "\n",
    "print(np.arange(0, 10))  \n",
    "\n",
    "print(np.arange(0, 10, 2))  \n",
    "\n",
    "print(np.arange(10, 0, -1))"
   ]
  },
  {
   "cell_type": "code",
   "execution_count": 0,
   "metadata": {
    "colab": {
     "base_uri": "https://localhost:8080/",
     "height": 53
    },
    "colab_type": "code",
    "executionInfo": {
     "elapsed": 2060,
     "status": "ok",
     "timestamp": 1589156862749,
     "user": {
      "displayName": "amirho3ein kh.",
      "photoUrl": "https://lh3.googleusercontent.com/a-/AOh14GjUcl4_Y4WvEimmvcD_mLZQanB0gyAhVNZuJiZGgg=s64",
      "userId": "16927950780918275768"
     },
     "user_tz": 180
    },
    "id": "cEBpyl_kaNlR",
    "outputId": "cbd5c3b9-3d68-4963-b47a-243fa524017c"
   },
   "outputs": [
    {
     "data": {
      "text/plain": [
       "array([[0., 0.],\n",
       "       [0., 0.]])"
      ]
     },
     "execution_count": 175,
     "metadata": {
      "tags": []
     },
     "output_type": "execute_result"
    }
   ],
   "source": [
    "np.zeros([2,2]) #Creates a numpy array of zeros"
   ]
  },
  {
   "cell_type": "code",
   "execution_count": 0,
   "metadata": {
    "colab": {
     "base_uri": "https://localhost:8080/",
     "height": 53
    },
    "colab_type": "code",
    "executionInfo": {
     "elapsed": 2055,
     "status": "ok",
     "timestamp": 1589156862749,
     "user": {
      "displayName": "amirho3ein kh.",
      "photoUrl": "https://lh3.googleusercontent.com/a-/AOh14GjUcl4_Y4WvEimmvcD_mLZQanB0gyAhVNZuJiZGgg=s64",
      "userId": "16927950780918275768"
     },
     "user_tz": 180
    },
    "id": "H83eRpIlaNlS",
    "outputId": "a79057d6-cbd6-4e08-d03e-4b6bb3e8c6df"
   },
   "outputs": [
    {
     "data": {
      "text/plain": [
       "array([[1., 1.],\n",
       "       [1., 1.]])"
      ]
     },
     "execution_count": 176,
     "metadata": {
      "tags": []
     },
     "output_type": "execute_result"
    }
   ],
   "source": [
    "np.ones([2,2]) #Creates a numpy array of ones"
   ]
  },
  {
   "cell_type": "code",
   "execution_count": 0,
   "metadata": {
    "colab": {
     "base_uri": "https://localhost:8080/",
     "height": 107
    },
    "colab_type": "code",
    "executionInfo": {
     "elapsed": 2049,
     "status": "ok",
     "timestamp": 1589156862749,
     "user": {
      "displayName": "amirho3ein kh.",
      "photoUrl": "https://lh3.googleusercontent.com/a-/AOh14GjUcl4_Y4WvEimmvcD_mLZQanB0gyAhVNZuJiZGgg=s64",
      "userId": "16927950780918275768"
     },
     "user_tz": 180
    },
    "id": "l-BuznkbaNlT",
    "outputId": "13723ab9-05ce-4198-ce6a-8ea9402a2814"
   },
   "outputs": [
    {
     "data": {
      "text/plain": [
       "array([[1., 0., 0., 0., 0.],\n",
       "       [0., 1., 0., 0., 0.],\n",
       "       [0., 0., 1., 0., 0.],\n",
       "       [0., 0., 0., 1., 0.],\n",
       "       [0., 0., 0., 0., 1.]])"
      ]
     },
     "execution_count": 177,
     "metadata": {
      "tags": []
     },
     "output_type": "execute_result"
    }
   ],
   "source": [
    "np.eye(5,5) #Return a 2-D array with ones on the diagonal and zeros elsewhere."
   ]
  },
  {
   "cell_type": "code",
   "execution_count": 0,
   "metadata": {
    "colab": {
     "base_uri": "https://localhost:8080/",
     "height": 71
    },
    "colab_type": "code",
    "executionInfo": {
     "elapsed": 2046,
     "status": "ok",
     "timestamp": 1589156862750,
     "user": {
      "displayName": "amirho3ein kh.",
      "photoUrl": "https://lh3.googleusercontent.com/a-/AOh14GjUcl4_Y4WvEimmvcD_mLZQanB0gyAhVNZuJiZGgg=s64",
      "userId": "16927950780918275768"
     },
     "user_tz": 180
    },
    "id": "2cAnCZIDaNlV",
    "outputId": "0c4f7f53-009d-4535-f495-d1fe95977dca"
   },
   "outputs": [
    {
     "name": "stdout",
     "output_type": "stream",
     "text": [
      "[[0.69615986 0.4705675 ]\n",
      " [0.68832861 0.60634504]\n",
      " [0.95734002 0.34172783]]\n"
     ]
    }
   ],
   "source": [
    "# Random numbers between [0,1) of shape 3 , 2\n",
    "print(np.random.rand(3,2))"
   ]
  },
  {
   "cell_type": "code",
   "execution_count": 0,
   "metadata": {
    "colab": {
     "base_uri": "https://localhost:8080/",
     "height": 35
    },
    "colab_type": "code",
    "executionInfo": {
     "elapsed": 2043,
     "status": "ok",
     "timestamp": 1589156862751,
     "user": {
      "displayName": "amirho3ein kh.",
      "photoUrl": "https://lh3.googleusercontent.com/a-/AOh14GjUcl4_Y4WvEimmvcD_mLZQanB0gyAhVNZuJiZGgg=s64",
      "userId": "16927950780918275768"
     },
     "user_tz": 180
    },
    "id": "YXhsq1jtaNlW",
    "outputId": "7afe00bd-7613-4b4b-9c32-3e7c04432d9a"
   },
   "outputs": [
    {
     "data": {
      "text/plain": [
       "array([1, 2, 3, 4])"
      ]
     },
     "execution_count": 179,
     "metadata": {
      "tags": []
     },
     "output_type": "execute_result"
    }
   ],
   "source": [
    "a = np.array([1,2,3,4,5])\n",
    "b = np.array([5,6,7,8,9])\n",
    "\n",
    "# From 'a' remove all of 'b'\n",
    "np.setdiff1d(a,b)"
   ]
  },
  {
   "cell_type": "code",
   "execution_count": 0,
   "metadata": {
    "colab": {
     "base_uri": "https://localhost:8080/",
     "height": 35
    },
    "colab_type": "code",
    "executionInfo": {
     "elapsed": 2039,
     "status": "ok",
     "timestamp": 1589156862752,
     "user": {
      "displayName": "amirho3ein kh.",
      "photoUrl": "https://lh3.googleusercontent.com/a-/AOh14GjUcl4_Y4WvEimmvcD_mLZQanB0gyAhVNZuJiZGgg=s64",
      "userId": "16927950780918275768"
     },
     "user_tz": 180
    },
    "id": "7ho4kSdwaNlX",
    "outputId": "b531a465-6509-47f8-900a-41f1f20d7737"
   },
   "outputs": [
    {
     "data": {
      "text/plain": [
       "(array([1, 3, 5, 7]),)"
      ]
     },
     "execution_count": 180,
     "metadata": {
      "tags": []
     },
     "output_type": "execute_result"
    }
   ],
   "source": [
    "a = np.array([1,2,3,2,3,4,3,4,5,6])\n",
    "b = np.array([7,2,10,2,7,4,9,4,9,8])\n",
    "\n",
    "np.where(a == b)"
   ]
  },
  {
   "cell_type": "markdown",
   "metadata": {
    "colab_type": "text",
    "id": "RqLqtT_4aNlY"
   },
   "source": [
    "<b>Numpy is so efficient</b>\n",
    "\n",
    "Code for computing sums of all pairs of products, using [code for computing time](https://docs.python.org/3/library/time.html)"
   ]
  },
  {
   "cell_type": "code",
   "execution_count": 0,
   "metadata": {
    "colab": {},
    "colab_type": "code",
    "id": "VhPrNReoaNlZ"
   },
   "outputs": [],
   "source": [
    "def compute(N):\n",
    "    import time\n",
    "    t = time.clock()\n",
    "    sum = 0\n",
    "    for i in range(N):\n",
    "        for j in range(N):\n",
    "            sum += i*j\n",
    "    print(time.perf_counter()-t)\n",
    "    return sum"
   ]
  },
  {
   "cell_type": "code",
   "execution_count": 0,
   "metadata": {
    "colab": {},
    "colab_type": "code",
    "id": "0gTg5oIDaNlZ"
   },
   "outputs": [],
   "source": [
    "def fast_compute(N):\n",
    "    import time\n",
    "    t = time.clock()\n",
    "    x = np.array([range(N)])\n",
    "    s = np.sum(np.dot(x.T,x))\n",
    "    print(time.perf_counter()-t)\n",
    "    return s"
   ]
  },
  {
   "cell_type": "code",
   "execution_count": 0,
   "metadata": {
    "colab": {
     "base_uri": "https://localhost:8080/",
     "height": 53
    },
    "colab_type": "code",
    "executionInfo": {
     "elapsed": 74246,
     "status": "ok",
     "timestamp": 1589156934970,
     "user": {
      "displayName": "amirho3ein kh.",
      "photoUrl": "https://lh3.googleusercontent.com/a-/AOh14GjUcl4_Y4WvEimmvcD_mLZQanB0gyAhVNZuJiZGgg=s64",
      "userId": "16927950780918275768"
     },
     "user_tz": 180
    },
    "id": "SqWZI-c8aNlb",
    "outputId": "2c2dbd9d-c15a-4372-9558-4bb4ea4f5d34"
   },
   "outputs": [
    {
     "name": "stdout",
     "output_type": "stream",
     "text": [
      "10688.072324282\n"
     ]
    },
    {
     "data": {
      "text/plain": [
       "202486500225000000"
      ]
     },
     "execution_count": 183,
     "metadata": {
      "tags": []
     },
     "output_type": "execute_result"
    }
   ],
   "source": [
    "compute(30000)"
   ]
  },
  {
   "cell_type": "code",
   "execution_count": 0,
   "metadata": {
    "colab": {
     "base_uri": "https://localhost:8080/",
     "height": 53
    },
    "colab_type": "code",
    "executionInfo": {
     "elapsed": 82170,
     "status": "ok",
     "timestamp": 1589156942897,
     "user": {
      "displayName": "amirho3ein kh.",
      "photoUrl": "https://lh3.googleusercontent.com/a-/AOh14GjUcl4_Y4WvEimmvcD_mLZQanB0gyAhVNZuJiZGgg=s64",
      "userId": "16927950780918275768"
     },
     "user_tz": 180
    },
    "id": "UxQFJg9aaNlf",
    "outputId": "699c2c25-c676-4800-920e-05ad56e08ee0"
   },
   "outputs": [
    {
     "name": "stdout",
     "output_type": "stream",
     "text": [
      "10623.059313861999\n"
     ]
    },
    {
     "data": {
      "text/plain": [
       "202486500225000000"
      ]
     },
     "execution_count": 184,
     "metadata": {
      "tags": []
     },
     "output_type": "execute_result"
    }
   ],
   "source": [
    "fast_compute(30000)"
   ]
  },
  {
   "cell_type": "markdown",
   "metadata": {
    "colab_type": "text",
    "id": "FVwo5OQiQwYI"
   },
   "source": [
    "**Practice 8**\n",
    "* Following is the provided numPy array. return array of items in the third column from all rows\n",
    "\n"
   ]
  },
  {
   "cell_type": "code",
   "execution_count": 0,
   "metadata": {
    "colab": {},
    "colab_type": "code",
    "id": "zZI0nSvrQ8HJ"
   },
   "outputs": [],
   "source": [
    "sampleArray = np.array([[11 ,22, 33], [44, 55, 66], [77, 88, 99]])"
   ]
  },
  {
   "cell_type": "markdown",
   "metadata": {
    "colab_type": "text",
    "id": "A_7b0TC8aNlg"
   },
   "source": [
    "# [Pandas](https://pandas.pydata.org/)\n",
    "- Data analysis library\n",
    "- Providing high-performance, easy-to-use data structures and data analysis tools."
   ]
  },
  {
   "cell_type": "code",
   "execution_count": 0,
   "metadata": {
    "colab": {},
    "colab_type": "code",
    "id": "Ay0YpgmaaNlg"
   },
   "outputs": [],
   "source": [
    "import pandas as pd"
   ]
  },
  {
   "cell_type": "markdown",
   "metadata": {
    "colab_type": "text",
    "id": "yXRSW4pEaNlh"
   },
   "source": [
    "**Read from CSV file holding data for training and testing machine learning models into a [dataframe](https://pandas.pydata.org/pandas-docs/version/0.23.4/generated/pandas.DataFrame.html) using pandas [read_csv](https://pandas.pydata.org/pandas-docs/stable/generated/pandas.read_csv.html)**"
   ]
  },
  {
   "cell_type": "code",
   "execution_count": 14,
   "metadata": {
    "colab": {
     "base_uri": "https://localhost:8080/",
     "height": 419
    },
    "colab_type": "code",
    "executionInfo": {
     "elapsed": 428,
     "status": "ok",
     "timestamp": 1589400237369,
     "user": {
      "displayName": "amirho3ein kh.",
      "photoUrl": "https://lh3.googleusercontent.com/a-/AOh14GjUcl4_Y4WvEimmvcD_mLZQanB0gyAhVNZuJiZGgg=s64",
      "userId": "16927950780918275768"
     },
     "user_tz": 180
    },
    "id": "IO5S2xMvaNli",
    "outputId": "a18ec28d-d3b5-40e2-f2c5-b30eb54e633c"
   },
   "outputs": [
    {
     "data": {
      "text/html": [
       "<div>\n",
       "<style scoped>\n",
       "    .dataframe tbody tr th:only-of-type {\n",
       "        vertical-align: middle;\n",
       "    }\n",
       "\n",
       "    .dataframe tbody tr th {\n",
       "        vertical-align: top;\n",
       "    }\n",
       "\n",
       "    .dataframe thead th {\n",
       "        text-align: right;\n",
       "    }\n",
       "</style>\n",
       "<table border=\"1\" class=\"dataframe\">\n",
       "  <thead>\n",
       "    <tr style=\"text-align: right;\">\n",
       "      <th></th>\n",
       "      <th>0</th>\n",
       "      <th>1</th>\n",
       "      <th>2</th>\n",
       "      <th>3</th>\n",
       "      <th>4</th>\n",
       "      <th>5</th>\n",
       "      <th>6</th>\n",
       "      <th>7</th>\n",
       "      <th>8</th>\n",
       "    </tr>\n",
       "  </thead>\n",
       "  <tbody>\n",
       "    <tr>\n",
       "      <th>0</th>\n",
       "      <td>6</td>\n",
       "      <td>148</td>\n",
       "      <td>72</td>\n",
       "      <td>35</td>\n",
       "      <td>0</td>\n",
       "      <td>33.6</td>\n",
       "      <td>0.627</td>\n",
       "      <td>50</td>\n",
       "      <td>1</td>\n",
       "    </tr>\n",
       "    <tr>\n",
       "      <th>1</th>\n",
       "      <td>1</td>\n",
       "      <td>85</td>\n",
       "      <td>66</td>\n",
       "      <td>29</td>\n",
       "      <td>0</td>\n",
       "      <td>26.6</td>\n",
       "      <td>0.351</td>\n",
       "      <td>31</td>\n",
       "      <td>0</td>\n",
       "    </tr>\n",
       "    <tr>\n",
       "      <th>2</th>\n",
       "      <td>8</td>\n",
       "      <td>183</td>\n",
       "      <td>64</td>\n",
       "      <td>0</td>\n",
       "      <td>0</td>\n",
       "      <td>23.3</td>\n",
       "      <td>0.672</td>\n",
       "      <td>32</td>\n",
       "      <td>1</td>\n",
       "    </tr>\n",
       "    <tr>\n",
       "      <th>3</th>\n",
       "      <td>1</td>\n",
       "      <td>89</td>\n",
       "      <td>66</td>\n",
       "      <td>23</td>\n",
       "      <td>94</td>\n",
       "      <td>28.1</td>\n",
       "      <td>0.167</td>\n",
       "      <td>21</td>\n",
       "      <td>0</td>\n",
       "    </tr>\n",
       "    <tr>\n",
       "      <th>4</th>\n",
       "      <td>0</td>\n",
       "      <td>137</td>\n",
       "      <td>40</td>\n",
       "      <td>35</td>\n",
       "      <td>168</td>\n",
       "      <td>43.1</td>\n",
       "      <td>2.288</td>\n",
       "      <td>33</td>\n",
       "      <td>1</td>\n",
       "    </tr>\n",
       "    <tr>\n",
       "      <th>...</th>\n",
       "      <td>...</td>\n",
       "      <td>...</td>\n",
       "      <td>...</td>\n",
       "      <td>...</td>\n",
       "      <td>...</td>\n",
       "      <td>...</td>\n",
       "      <td>...</td>\n",
       "      <td>...</td>\n",
       "      <td>...</td>\n",
       "    </tr>\n",
       "    <tr>\n",
       "      <th>763</th>\n",
       "      <td>10</td>\n",
       "      <td>101</td>\n",
       "      <td>76</td>\n",
       "      <td>48</td>\n",
       "      <td>180</td>\n",
       "      <td>32.9</td>\n",
       "      <td>0.171</td>\n",
       "      <td>63</td>\n",
       "      <td>0</td>\n",
       "    </tr>\n",
       "    <tr>\n",
       "      <th>764</th>\n",
       "      <td>2</td>\n",
       "      <td>122</td>\n",
       "      <td>70</td>\n",
       "      <td>27</td>\n",
       "      <td>0</td>\n",
       "      <td>36.8</td>\n",
       "      <td>0.340</td>\n",
       "      <td>27</td>\n",
       "      <td>0</td>\n",
       "    </tr>\n",
       "    <tr>\n",
       "      <th>765</th>\n",
       "      <td>5</td>\n",
       "      <td>121</td>\n",
       "      <td>72</td>\n",
       "      <td>23</td>\n",
       "      <td>112</td>\n",
       "      <td>26.2</td>\n",
       "      <td>0.245</td>\n",
       "      <td>30</td>\n",
       "      <td>0</td>\n",
       "    </tr>\n",
       "    <tr>\n",
       "      <th>766</th>\n",
       "      <td>1</td>\n",
       "      <td>126</td>\n",
       "      <td>60</td>\n",
       "      <td>0</td>\n",
       "      <td>0</td>\n",
       "      <td>30.1</td>\n",
       "      <td>0.349</td>\n",
       "      <td>47</td>\n",
       "      <td>1</td>\n",
       "    </tr>\n",
       "    <tr>\n",
       "      <th>767</th>\n",
       "      <td>1</td>\n",
       "      <td>93</td>\n",
       "      <td>70</td>\n",
       "      <td>31</td>\n",
       "      <td>0</td>\n",
       "      <td>30.4</td>\n",
       "      <td>0.315</td>\n",
       "      <td>23</td>\n",
       "      <td>0</td>\n",
       "    </tr>\n",
       "  </tbody>\n",
       "</table>\n",
       "<p>768 rows × 9 columns</p>\n",
       "</div>"
      ],
      "text/plain": [
       "      0    1   2   3    4     5      6   7  8\n",
       "0     6  148  72  35    0  33.6  0.627  50  1\n",
       "1     1   85  66  29    0  26.6  0.351  31  0\n",
       "2     8  183  64   0    0  23.3  0.672  32  1\n",
       "3     1   89  66  23   94  28.1  0.167  21  0\n",
       "4     0  137  40  35  168  43.1  2.288  33  1\n",
       "..   ..  ...  ..  ..  ...   ...    ...  .. ..\n",
       "763  10  101  76  48  180  32.9  0.171  63  0\n",
       "764   2  122  70  27    0  36.8  0.340  27  0\n",
       "765   5  121  72  23  112  26.2  0.245  30  0\n",
       "766   1  126  60   0    0  30.1  0.349  47  1\n",
       "767   1   93  70  31    0  30.4  0.315  23  0\n",
       "\n",
       "[768 rows x 9 columns]"
      ]
     },
     "execution_count": 14,
     "metadata": {
      "tags": []
     },
     "output_type": "execute_result"
    }
   ],
   "source": [
    "file_name = \"https://raw.githubusercontent.com/jbrownlee/Datasets/master/pima-indians-diabetes.data.csv\"\n",
    "df = pd.read_csv(file_name,header=None)\n",
    "df"
   ]
  },
  {
   "cell_type": "markdown",
   "metadata": {
    "colab_type": "text",
    "id": "GDuLE0YNaNlj"
   },
   "source": [
    "**Read Iris dataset using [loadtxt](https://docs.scipy.org/doc/numpy-1.15.0/reference/generated/numpy.loadtxt.html)**"
   ]
  },
  {
   "cell_type": "code",
   "execution_count": 0,
   "metadata": {
    "colab": {
     "base_uri": "https://localhost:8080/",
     "height": 35
    },
    "colab_type": "code",
    "executionInfo": {
     "elapsed": 572,
     "status": "ok",
     "timestamp": 1589159300002,
     "user": {
      "displayName": "amirho3ein kh.",
      "photoUrl": "https://lh3.googleusercontent.com/a-/AOh14GjUcl4_Y4WvEimmvcD_mLZQanB0gyAhVNZuJiZGgg=s64",
      "userId": "16927950780918275768"
     },
     "user_tz": 180
    },
    "id": "mrM8X6sRaNlj",
    "outputId": "df0a22f1-3b89-426d-bfaf-dc1424b8d0fd"
   },
   "outputs": [
    {
     "name": "stdout",
     "output_type": "stream",
     "text": [
      "(384, 8)\n"
     ]
    }
   ],
   "source": [
    "data = np.loadtxt('/content/pima-indians-diabetes.csv',delimiter = ',') # reading from local file pima-indians-diabetes.csv\n",
    "#extract attribute values of a training set into an array\n",
    "X_train = data[0:-1:2,0:8] \n",
    "#extract target values of the same training set into a different array\n",
    "y_train = np.int32(data[0:-1:2,8]) \n",
    "\n",
    "#extract test data\n",
    "X_test = data[1:-1:2,0:8]\n",
    "y_test = np.int32(data[1:-1:2,8])\n",
    "\n",
    "print(X_train.shape)"
   ]
  },
  {
   "cell_type": "code",
   "execution_count": 0,
   "metadata": {
    "colab": {
     "base_uri": "https://localhost:8080/",
     "height": 233
    },
    "colab_type": "code",
    "executionInfo": {
     "elapsed": 551,
     "status": "ok",
     "timestamp": 1589159300003,
     "user": {
      "displayName": "amirho3ein kh.",
      "photoUrl": "https://lh3.googleusercontent.com/a-/AOh14GjUcl4_Y4WvEimmvcD_mLZQanB0gyAhVNZuJiZGgg=s64",
      "userId": "16927950780918275768"
     },
     "user_tz": 180
    },
    "id": "_DqQMJkCaNlk",
    "outputId": "b67e48b2-a36d-4d49-bdbb-050c7ec55aec"
   },
   "outputs": [
    {
     "name": "stdout",
     "output_type": "stream",
     "text": [
      "(384,)\n",
      "[1 1 1 1 1 0 0 1 1 0 0 1 1 1 0 0 0 0 0 1 0 0 0 0 1 0 0 0 1 0 0 0 1 1 0 1 1\n",
      " 0 0 1 0 0 1 0 1 0 0 0 0 0 1 0 0 0 0 1 0 1 1 0 1 0 1 0 1 1 1 0 0 0 0 0 0 0\n",
      " 0 0 1 1 0 0 0 0 1 0 0 1 0 0 0 0 0 0 0 1 1 0 1 0 0 1 0 0 0 1 0 0 0 1 1 1 1\n",
      " 0 0 0 0 1 0 0 1 1 0 1 0 0 0 0 0 1 0 0 0 0 1 1 0 1 0 0 1 0 1 0 1 0 0 0 1 0\n",
      " 1 1 1 0 0 1 1 0 1 1 0 0 0 1 0 1 1 0 1 0 0 1 0 0 0 0 0 0 0 0 1 0 1 0 0 1 0\n",
      " 1 0 0 0 1 0 0 0 1 1 0 0 1 0 0 1 1 1 1 1 0 0 1 0 0 0 0 1 0 0 0 0 0 0 0 1 0\n",
      " 1 0 1 0 0 0 0 1 0 0 0 0 1 0 0 0 1 0 1 0 1 0 0 0 0 0 0 1 0 1 0 1 0 1 0 0 1\n",
      " 0 0 0 0 0 0 0 0 0 0 0 1 1 0 1 0 0 0 0 0 0 1 0 0 0 0 0 0 0 0 0 1 0 1 1 1 1\n",
      " 1 0 0 1 0 0 1 1 0 0 1 1 0 1 0 0 0 0 0 1 0 0 0 1 0 1 0 1 1 0 0 0 0 0 0 1 1\n",
      " 1 0 0 0 0 1 1 0 0 0 0 0 0 0 0 1 0 0 1 0 1 1 0 1 0 1 0 0 1 0 0 0 1 1 0 0 0\n",
      " 1 0 0 1 1 1 0 1 0 0 0 0 0 1]\n"
     ]
    }
   ],
   "source": [
    "print(y_train.shape)\n",
    "print(y_train)"
   ]
  },
  {
   "cell_type": "markdown",
   "metadata": {
    "colab_type": "text",
    "id": "J5pIvLUBaNll"
   },
   "source": [
    "**Read [Iris dataset](https://scikit-learn.org/stable/modules/generated/sklearn.datasets.load_iris.html) from built-in sklearn datasets using [Pandas Dataframe](https://pandas.pydata.org/pandas-docs/version/0.23.4/generated/pandas.DataFrame.html)**"
   ]
  },
  {
   "cell_type": "code",
   "execution_count": 0,
   "metadata": {
    "colab": {
     "base_uri": "https://localhost:8080/",
     "height": 204
    },
    "colab_type": "code",
    "executionInfo": {
     "elapsed": 1524,
     "status": "ok",
     "timestamp": 1589159300987,
     "user": {
      "displayName": "amirho3ein kh.",
      "photoUrl": "https://lh3.googleusercontent.com/a-/AOh14GjUcl4_Y4WvEimmvcD_mLZQanB0gyAhVNZuJiZGgg=s64",
      "userId": "16927950780918275768"
     },
     "user_tz": 180
    },
    "id": "j22vnLWfaNll",
    "outputId": "0b6113f4-9218-4f8a-da96-58d2c77e1388"
   },
   "outputs": [
    {
     "data": {
      "text/html": [
       "<div>\n",
       "<style scoped>\n",
       "    .dataframe tbody tr th:only-of-type {\n",
       "        vertical-align: middle;\n",
       "    }\n",
       "\n",
       "    .dataframe tbody tr th {\n",
       "        vertical-align: top;\n",
       "    }\n",
       "\n",
       "    .dataframe thead th {\n",
       "        text-align: right;\n",
       "    }\n",
       "</style>\n",
       "<table border=\"1\" class=\"dataframe\">\n",
       "  <thead>\n",
       "    <tr style=\"text-align: right;\">\n",
       "      <th></th>\n",
       "      <th>0</th>\n",
       "      <th>1</th>\n",
       "      <th>2</th>\n",
       "      <th>3</th>\n",
       "    </tr>\n",
       "  </thead>\n",
       "  <tbody>\n",
       "    <tr>\n",
       "      <th>0</th>\n",
       "      <td>5.1</td>\n",
       "      <td>3.5</td>\n",
       "      <td>1.4</td>\n",
       "      <td>0.2</td>\n",
       "    </tr>\n",
       "    <tr>\n",
       "      <th>1</th>\n",
       "      <td>4.9</td>\n",
       "      <td>3.0</td>\n",
       "      <td>1.4</td>\n",
       "      <td>0.2</td>\n",
       "    </tr>\n",
       "    <tr>\n",
       "      <th>2</th>\n",
       "      <td>4.7</td>\n",
       "      <td>3.2</td>\n",
       "      <td>1.3</td>\n",
       "      <td>0.2</td>\n",
       "    </tr>\n",
       "    <tr>\n",
       "      <th>3</th>\n",
       "      <td>4.6</td>\n",
       "      <td>3.1</td>\n",
       "      <td>1.5</td>\n",
       "      <td>0.2</td>\n",
       "    </tr>\n",
       "    <tr>\n",
       "      <th>4</th>\n",
       "      <td>5.0</td>\n",
       "      <td>3.6</td>\n",
       "      <td>1.4</td>\n",
       "      <td>0.2</td>\n",
       "    </tr>\n",
       "  </tbody>\n",
       "</table>\n",
       "</div>"
      ],
      "text/plain": [
       "     0    1    2    3\n",
       "0  5.1  3.5  1.4  0.2\n",
       "1  4.9  3.0  1.4  0.2\n",
       "2  4.7  3.2  1.3  0.2\n",
       "3  4.6  3.1  1.5  0.2\n",
       "4  5.0  3.6  1.4  0.2"
      ]
     },
     "execution_count": 202,
     "metadata": {
      "tags": []
     },
     "output_type": "execute_result"
    }
   ],
   "source": [
    "from sklearn.datasets import load_iris\n",
    "iris = load_iris()\n",
    "ir = pd.DataFrame(iris.data)\n",
    "ir.head()"
   ]
  },
  {
   "cell_type": "code",
   "execution_count": 0,
   "metadata": {
    "colab": {
     "base_uri": "https://localhost:8080/",
     "height": 235
    },
    "colab_type": "code",
    "executionInfo": {
     "elapsed": 1514,
     "status": "ok",
     "timestamp": 1589159300988,
     "user": {
      "displayName": "amirho3ein kh.",
      "photoUrl": "https://lh3.googleusercontent.com/a-/AOh14GjUcl4_Y4WvEimmvcD_mLZQanB0gyAhVNZuJiZGgg=s64",
      "userId": "16927950780918275768"
     },
     "user_tz": 180
    },
    "id": "TJO5_vYhaNlm",
    "outputId": "3867e3aa-aad6-4ce4-8627-d082398b6f46"
   },
   "outputs": [
    {
     "data": {
      "text/html": [
       "<div>\n",
       "<style scoped>\n",
       "    .dataframe tbody tr th:only-of-type {\n",
       "        vertical-align: middle;\n",
       "    }\n",
       "\n",
       "    .dataframe tbody tr th {\n",
       "        vertical-align: top;\n",
       "    }\n",
       "\n",
       "    .dataframe thead th {\n",
       "        text-align: right;\n",
       "    }\n",
       "</style>\n",
       "<table border=\"1\" class=\"dataframe\">\n",
       "  <thead>\n",
       "    <tr style=\"text-align: right;\">\n",
       "      <th></th>\n",
       "      <th>0</th>\n",
       "      <th>1</th>\n",
       "      <th>2</th>\n",
       "      <th>3</th>\n",
       "    </tr>\n",
       "  </thead>\n",
       "  <tbody>\n",
       "    <tr>\n",
       "      <th>0</th>\n",
       "      <td>1.217223</td>\n",
       "      <td>-1.414889</td>\n",
       "      <td>0.246955</td>\n",
       "      <td>-1.986162</td>\n",
       "    </tr>\n",
       "    <tr>\n",
       "      <th>1</th>\n",
       "      <td>1.224091</td>\n",
       "      <td>0.880161</td>\n",
       "      <td>1.314811</td>\n",
       "      <td>-0.717226</td>\n",
       "    </tr>\n",
       "    <tr>\n",
       "      <th>2</th>\n",
       "      <td>-0.650971</td>\n",
       "      <td>-0.115109</td>\n",
       "      <td>1.917556</td>\n",
       "      <td>0.749081</td>\n",
       "    </tr>\n",
       "    <tr>\n",
       "      <th>3</th>\n",
       "      <td>1.176334</td>\n",
       "      <td>-0.473024</td>\n",
       "      <td>-0.069457</td>\n",
       "      <td>-0.001130</td>\n",
       "    </tr>\n",
       "    <tr>\n",
       "      <th>4</th>\n",
       "      <td>-0.462420</td>\n",
       "      <td>-0.498276</td>\n",
       "      <td>-0.135070</td>\n",
       "      <td>2.271781</td>\n",
       "    </tr>\n",
       "    <tr>\n",
       "      <th>5</th>\n",
       "      <td>1.362764</td>\n",
       "      <td>-0.378112</td>\n",
       "      <td>0.282892</td>\n",
       "      <td>-0.904021</td>\n",
       "    </tr>\n",
       "  </tbody>\n",
       "</table>\n",
       "</div>"
      ],
      "text/plain": [
       "          0         1         2         3\n",
       "0  1.217223 -1.414889  0.246955 -1.986162\n",
       "1  1.224091  0.880161  1.314811 -0.717226\n",
       "2 -0.650971 -0.115109  1.917556  0.749081\n",
       "3  1.176334 -0.473024 -0.069457 -0.001130\n",
       "4 -0.462420 -0.498276 -0.135070  2.271781\n",
       "5  1.362764 -0.378112  0.282892 -0.904021"
      ]
     },
     "execution_count": 203,
     "metadata": {
      "tags": []
     },
     "output_type": "execute_result"
    }
   ],
   "source": [
    "#random initialization of a data frame\n",
    "df = pd.DataFrame(np.random.randn(6,4))\n",
    "df"
   ]
  },
  {
   "cell_type": "code",
   "execution_count": 0,
   "metadata": {
    "colab": {
     "base_uri": "https://localhost:8080/",
     "height": 142
    },
    "colab_type": "code",
    "executionInfo": {
     "elapsed": 1508,
     "status": "ok",
     "timestamp": 1589159300992,
     "user": {
      "displayName": "amirho3ein kh.",
      "photoUrl": "https://lh3.googleusercontent.com/a-/AOh14GjUcl4_Y4WvEimmvcD_mLZQanB0gyAhVNZuJiZGgg=s64",
      "userId": "16927950780918275768"
     },
     "user_tz": 180
    },
    "id": "Fymgx4xfaNln",
    "outputId": "a63bb6e1-5740-4b25-9232-993ff767b1a1"
   },
   "outputs": [
    {
     "data": {
      "text/html": [
       "<div>\n",
       "<style scoped>\n",
       "    .dataframe tbody tr th:only-of-type {\n",
       "        vertical-align: middle;\n",
       "    }\n",
       "\n",
       "    .dataframe tbody tr th {\n",
       "        vertical-align: top;\n",
       "    }\n",
       "\n",
       "    .dataframe thead th {\n",
       "        text-align: right;\n",
       "    }\n",
       "</style>\n",
       "<table border=\"1\" class=\"dataframe\">\n",
       "  <thead>\n",
       "    <tr style=\"text-align: right;\">\n",
       "      <th></th>\n",
       "      <th>0</th>\n",
       "      <th>1</th>\n",
       "      <th>2</th>\n",
       "      <th>3</th>\n",
       "    </tr>\n",
       "  </thead>\n",
       "  <tbody>\n",
       "    <tr>\n",
       "      <th>0</th>\n",
       "      <td>1.217223</td>\n",
       "      <td>-1.414889</td>\n",
       "      <td>0.246955</td>\n",
       "      <td>-1.986162</td>\n",
       "    </tr>\n",
       "    <tr>\n",
       "      <th>1</th>\n",
       "      <td>1.224091</td>\n",
       "      <td>0.880161</td>\n",
       "      <td>1.314811</td>\n",
       "      <td>-0.717226</td>\n",
       "    </tr>\n",
       "    <tr>\n",
       "      <th>2</th>\n",
       "      <td>-0.650971</td>\n",
       "      <td>-0.115109</td>\n",
       "      <td>1.917556</td>\n",
       "      <td>0.749081</td>\n",
       "    </tr>\n",
       "  </tbody>\n",
       "</table>\n",
       "</div>"
      ],
      "text/plain": [
       "          0         1         2         3\n",
       "0  1.217223 -1.414889  0.246955 -1.986162\n",
       "1  1.224091  0.880161  1.314811 -0.717226\n",
       "2 -0.650971 -0.115109  1.917556  0.749081"
      ]
     },
     "execution_count": 204,
     "metadata": {
      "tags": []
     },
     "output_type": "execute_result"
    }
   ],
   "source": [
    "df[:3] # returns the data for 3 firt rows "
   ]
  },
  {
   "cell_type": "code",
   "execution_count": 0,
   "metadata": {
    "colab": {
     "base_uri": "https://localhost:8080/",
     "height": 111
    },
    "colab_type": "code",
    "executionInfo": {
     "elapsed": 1498,
     "status": "ok",
     "timestamp": 1589159300994,
     "user": {
      "displayName": "amirho3ein kh.",
      "photoUrl": "https://lh3.googleusercontent.com/a-/AOh14GjUcl4_Y4WvEimmvcD_mLZQanB0gyAhVNZuJiZGgg=s64",
      "userId": "16927950780918275768"
     },
     "user_tz": 180
    },
    "id": "wEOAC3ebaNlo",
    "outputId": "e2fd045c-eb50-419f-a203-17b753fe1fcd"
   },
   "outputs": [
    {
     "data": {
      "text/html": [
       "<div>\n",
       "<style scoped>\n",
       "    .dataframe tbody tr th:only-of-type {\n",
       "        vertical-align: middle;\n",
       "    }\n",
       "\n",
       "    .dataframe tbody tr th {\n",
       "        vertical-align: top;\n",
       "    }\n",
       "\n",
       "    .dataframe thead th {\n",
       "        text-align: right;\n",
       "    }\n",
       "</style>\n",
       "<table border=\"1\" class=\"dataframe\">\n",
       "  <thead>\n",
       "    <tr style=\"text-align: right;\">\n",
       "      <th></th>\n",
       "      <th>1</th>\n",
       "      <th>2</th>\n",
       "      <th>3</th>\n",
       "    </tr>\n",
       "  </thead>\n",
       "  <tbody>\n",
       "    <tr>\n",
       "      <th>0</th>\n",
       "      <td>-1.414889</td>\n",
       "      <td>0.246955</td>\n",
       "      <td>-1.986162</td>\n",
       "    </tr>\n",
       "    <tr>\n",
       "      <th>1</th>\n",
       "      <td>0.880161</td>\n",
       "      <td>1.314811</td>\n",
       "      <td>-0.717226</td>\n",
       "    </tr>\n",
       "  </tbody>\n",
       "</table>\n",
       "</div>"
      ],
      "text/plain": [
       "          1         2         3\n",
       "0 -1.414889  0.246955 -1.986162\n",
       "1  0.880161  1.314811 -0.717226"
      ]
     },
     "execution_count": 205,
     "metadata": {
      "tags": []
     },
     "output_type": "execute_result"
    }
   ],
   "source": [
    "df.iloc[:2,1:4] # returns data from first 2 for a range of columns"
   ]
  },
  {
   "cell_type": "markdown",
   "metadata": {
    "colab_type": "text",
    "id": "mdR7caw2zN8k"
   },
   "source": [
    "**Initializing a dataframe through a [Pandas series](https://pandas.pydata.org/pandas-docs/version/0.23.4/generated/pandas.Series.html)**"
   ]
  },
  {
   "cell_type": "code",
   "execution_count": 0,
   "metadata": {
    "colab": {
     "base_uri": "https://localhost:8080/",
     "height": 266
    },
    "colab_type": "code",
    "executionInfo": {
     "elapsed": 1484,
     "status": "ok",
     "timestamp": 1589159300994,
     "user": {
      "displayName": "amirho3ein kh.",
      "photoUrl": "https://lh3.googleusercontent.com/a-/AOh14GjUcl4_Y4WvEimmvcD_mLZQanB0gyAhVNZuJiZGgg=s64",
      "userId": "16927950780918275768"
     },
     "user_tz": 180
    },
    "id": "VIta0WZkaNlp",
    "outputId": "5e1c1b3b-e303-465f-8d21-cd62542dd479"
   },
   "outputs": [
    {
     "data": {
      "text/html": [
       "<div>\n",
       "<style scoped>\n",
       "    .dataframe tbody tr th:only-of-type {\n",
       "        vertical-align: middle;\n",
       "    }\n",
       "\n",
       "    .dataframe tbody tr th {\n",
       "        vertical-align: top;\n",
       "    }\n",
       "\n",
       "    .dataframe thead th {\n",
       "        text-align: right;\n",
       "    }\n",
       "</style>\n",
       "<table border=\"1\" class=\"dataframe\">\n",
       "  <thead>\n",
       "    <tr style=\"text-align: right;\">\n",
       "      <th></th>\n",
       "      <th>0</th>\n",
       "      <th>1</th>\n",
       "      <th>2</th>\n",
       "      <th>3</th>\n",
       "      <th>4</th>\n",
       "    </tr>\n",
       "  </thead>\n",
       "  <tbody>\n",
       "    <tr>\n",
       "      <th>0</th>\n",
       "      <td>9</td>\n",
       "      <td>9</td>\n",
       "      <td>9</td>\n",
       "      <td>8</td>\n",
       "      <td>3</td>\n",
       "    </tr>\n",
       "    <tr>\n",
       "      <th>1</th>\n",
       "      <td>2</td>\n",
       "      <td>8</td>\n",
       "      <td>4</td>\n",
       "      <td>5</td>\n",
       "      <td>9</td>\n",
       "    </tr>\n",
       "    <tr>\n",
       "      <th>2</th>\n",
       "      <td>1</td>\n",
       "      <td>2</td>\n",
       "      <td>4</td>\n",
       "      <td>3</td>\n",
       "      <td>3</td>\n",
       "    </tr>\n",
       "    <tr>\n",
       "      <th>3</th>\n",
       "      <td>8</td>\n",
       "      <td>4</td>\n",
       "      <td>2</td>\n",
       "      <td>8</td>\n",
       "      <td>2</td>\n",
       "    </tr>\n",
       "    <tr>\n",
       "      <th>4</th>\n",
       "      <td>7</td>\n",
       "      <td>7</td>\n",
       "      <td>8</td>\n",
       "      <td>4</td>\n",
       "      <td>4</td>\n",
       "    </tr>\n",
       "    <tr>\n",
       "      <th>5</th>\n",
       "      <td>8</td>\n",
       "      <td>5</td>\n",
       "      <td>8</td>\n",
       "      <td>4</td>\n",
       "      <td>3</td>\n",
       "    </tr>\n",
       "    <tr>\n",
       "      <th>6</th>\n",
       "      <td>6</td>\n",
       "      <td>7</td>\n",
       "      <td>9</td>\n",
       "      <td>5</td>\n",
       "      <td>6</td>\n",
       "    </tr>\n",
       "  </tbody>\n",
       "</table>\n",
       "</div>"
      ],
      "text/plain": [
       "   0  1  2  3  4\n",
       "0  9  9  9  8  3\n",
       "1  2  8  4  5  9\n",
       "2  1  2  4  3  3\n",
       "3  8  4  2  8  2\n",
       "4  7  7  8  4  4\n",
       "5  8  5  8  4  3\n",
       "6  6  7  9  5  6"
      ]
     },
     "execution_count": 206,
     "metadata": {
      "tags": []
     },
     "output_type": "execute_result"
    }
   ],
   "source": [
    "ser = pd.Series(np.random.randint(1, 10, 35))# Creates a series of length 35 with numbers ranged from 1 to 9\n",
    "df = pd.DataFrame(ser.values.resshape(7,5))\n",
    "df"
   ]
  },
  {
   "cell_type": "code",
   "execution_count": 0,
   "metadata": {
    "colab": {
     "base_uri": "https://localhost:8080/",
     "height": 665
    },
    "colab_type": "code",
    "executionInfo": {
     "elapsed": 553,
     "status": "ok",
     "timestamp": 1589159561575,
     "user": {
      "displayName": "amirho3ein kh.",
      "photoUrl": "https://lh3.googleusercontent.com/a-/AOh14GjUcl4_Y4WvEimmvcD_mLZQanB0gyAhVNZuJiZGgg=s64",
      "userId": "16927950780918275768"
     },
     "user_tz": 180
    },
    "id": "diJiBaZQSnNl",
    "outputId": "982bd90d-9a61-4302-ff4f-4c6a3a262313"
   },
   "outputs": [
    {
     "data": {
      "text/plain": [
       "0     9\n",
       "1     9\n",
       "2     9\n",
       "3     8\n",
       "4     3\n",
       "5     2\n",
       "6     8\n",
       "7     4\n",
       "8     5\n",
       "9     9\n",
       "10    1\n",
       "11    2\n",
       "12    4\n",
       "13    3\n",
       "14    3\n",
       "15    8\n",
       "16    4\n",
       "17    2\n",
       "18    8\n",
       "19    2\n",
       "20    7\n",
       "21    7\n",
       "22    8\n",
       "23    4\n",
       "24    4\n",
       "25    8\n",
       "26    5\n",
       "27    8\n",
       "28    4\n",
       "29    3\n",
       "30    6\n",
       "31    7\n",
       "32    9\n",
       "33    5\n",
       "34    6\n",
       "dtype: int64"
      ]
     },
     "execution_count": 208,
     "metadata": {
      "tags": []
     },
     "output_type": "execute_result"
    }
   ],
   "source": [
    "ser"
   ]
  },
  {
   "cell_type": "markdown",
   "metadata": {
    "colab_type": "text",
    "id": "NoeP2xQgaNlq"
   },
   "source": [
    "**Initializing a dataframe by assigning to a NumPy array:**"
   ]
  },
  {
   "cell_type": "code",
   "execution_count": 0,
   "metadata": {
    "colab": {
     "base_uri": "https://localhost:8080/",
     "height": 266
    },
    "colab_type": "code",
    "executionInfo": {
     "elapsed": 1475,
     "status": "ok",
     "timestamp": 1589159300995,
     "user": {
      "displayName": "amirho3ein kh.",
      "photoUrl": "https://lh3.googleusercontent.com/a-/AOh14GjUcl4_Y4WvEimmvcD_mLZQanB0gyAhVNZuJiZGgg=s64",
      "userId": "16927950780918275768"
     },
     "user_tz": 180
    },
    "id": "sc_W9cnpaNlq",
    "outputId": "54c91a0d-c2ea-4844-ef90-dbb7033abf28"
   },
   "outputs": [
    {
     "data": {
      "text/html": [
       "<div>\n",
       "<style scoped>\n",
       "    .dataframe tbody tr th:only-of-type {\n",
       "        vertical-align: middle;\n",
       "    }\n",
       "\n",
       "    .dataframe tbody tr th {\n",
       "        vertical-align: top;\n",
       "    }\n",
       "\n",
       "    .dataframe thead th {\n",
       "        text-align: right;\n",
       "    }\n",
       "</style>\n",
       "<table border=\"1\" class=\"dataframe\">\n",
       "  <thead>\n",
       "    <tr style=\"text-align: right;\">\n",
       "      <th></th>\n",
       "      <th>0</th>\n",
       "      <th>1</th>\n",
       "      <th>2</th>\n",
       "      <th>3</th>\n",
       "      <th>4</th>\n",
       "      <th>New_Column</th>\n",
       "    </tr>\n",
       "  </thead>\n",
       "  <tbody>\n",
       "    <tr>\n",
       "      <th>0</th>\n",
       "      <td>9</td>\n",
       "      <td>9</td>\n",
       "      <td>9</td>\n",
       "      <td>8</td>\n",
       "      <td>3</td>\n",
       "      <td>5</td>\n",
       "    </tr>\n",
       "    <tr>\n",
       "      <th>1</th>\n",
       "      <td>2</td>\n",
       "      <td>8</td>\n",
       "      <td>4</td>\n",
       "      <td>5</td>\n",
       "      <td>9</td>\n",
       "      <td>5</td>\n",
       "    </tr>\n",
       "    <tr>\n",
       "      <th>2</th>\n",
       "      <td>1</td>\n",
       "      <td>2</td>\n",
       "      <td>4</td>\n",
       "      <td>3</td>\n",
       "      <td>3</td>\n",
       "      <td>5</td>\n",
       "    </tr>\n",
       "    <tr>\n",
       "      <th>3</th>\n",
       "      <td>8</td>\n",
       "      <td>4</td>\n",
       "      <td>2</td>\n",
       "      <td>8</td>\n",
       "      <td>2</td>\n",
       "      <td>5</td>\n",
       "    </tr>\n",
       "    <tr>\n",
       "      <th>4</th>\n",
       "      <td>7</td>\n",
       "      <td>7</td>\n",
       "      <td>8</td>\n",
       "      <td>4</td>\n",
       "      <td>4</td>\n",
       "      <td>5</td>\n",
       "    </tr>\n",
       "    <tr>\n",
       "      <th>5</th>\n",
       "      <td>8</td>\n",
       "      <td>5</td>\n",
       "      <td>8</td>\n",
       "      <td>4</td>\n",
       "      <td>3</td>\n",
       "      <td>5</td>\n",
       "    </tr>\n",
       "    <tr>\n",
       "      <th>6</th>\n",
       "      <td>6</td>\n",
       "      <td>7</td>\n",
       "      <td>9</td>\n",
       "      <td>5</td>\n",
       "      <td>6</td>\n",
       "      <td>5</td>\n",
       "    </tr>\n",
       "  </tbody>\n",
       "</table>\n",
       "</div>"
      ],
      "text/plain": [
       "   0  1  2  3  4  New_Column\n",
       "0  9  9  9  8  3           5\n",
       "1  2  8  4  5  9           5\n",
       "2  1  2  4  3  3           5\n",
       "3  8  4  2  8  2           5\n",
       "4  7  7  8  4  4           5\n",
       "5  8  5  8  4  3           5\n",
       "6  6  7  9  5  6           5"
      ]
     },
     "execution_count": 207,
     "metadata": {
      "tags": []
     },
     "output_type": "execute_result"
    }
   ],
   "source": [
    "df.loc[:,'New_Column'] = np.array([5] * len(df))\n",
    "df"
   ]
  },
  {
   "cell_type": "markdown",
   "metadata": {
    "colab_type": "text",
    "id": "rTOrE3XPzN8m"
   },
   "source": [
    "**Converting dataframe content into numpy arrays using [dataframe values](https://pandas.pydata.org/pandas-docs/stable/generated/pandas.DataFrame.values.html)**"
   ]
  },
  {
   "cell_type": "markdown",
   "metadata": {
    "colab_type": "text",
    "id": "iXWmXMYwT-9o"
   },
   "source": [
    "**Practice 9**\n",
    "* Create a Dataframe with a 5x5 containing random numbers in range (1,100) and print the elments of the row with the highest sume of values"
   ]
  },
  {
   "cell_type": "code",
   "execution_count": 0,
   "metadata": {
    "colab": {},
    "colab_type": "code",
    "id": "xu7Z0skkT31o"
   },
   "outputs": [],
   "source": []
  },
  {
   "cell_type": "markdown",
   "metadata": {
    "colab_type": "text",
    "id": "w5MzdalYT4IQ"
   },
   "source": [
    "# It's Done"
   ]
  },
  {
   "cell_type": "markdown",
   "metadata": {
    "colab_type": "text",
    "id": "rKCQtPJq63Cw"
   },
   "source": [
    "![alt text](https://media.giphy.com/media/3oKIPf3C7HqqYBVcCk/giphy.gif)"
   ]
  }
 ],
 "metadata": {
  "colab": {
   "name": "Tutorial_1_Python+NumPy+Pandas.ipynb",
   "provenance": [],
   "toc_visible": true
  },
  "kernelspec": {
   "display_name": "Python 3",
   "language": "python",
   "name": "python3"
  },
  "language_info": {
   "codemirror_mode": {
    "name": "ipython",
    "version": 3
   },
   "file_extension": ".py",
   "mimetype": "text/x-python",
   "name": "python",
   "nbconvert_exporter": "python",
   "pygments_lexer": "ipython3",
   "version": "3.7.6"
  }
 },
 "nbformat": 4,
 "nbformat_minor": 1
}
