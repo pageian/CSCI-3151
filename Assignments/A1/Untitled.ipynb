{
 "cells": [
  {
   "cell_type": "markdown",
   "metadata": {},
   "source": [
    "# 1a)"
   ]
  },
  {
   "cell_type": "code",
   "execution_count": 6,
   "metadata": {},
   "outputs": [
    {
     "ename": "ModuleNotFoundError",
     "evalue": "No module named 'pandas'",
     "output_type": "error",
     "traceback": [
      "\u001b[0;31m---------------------------------------------------------------------------\u001b[0m",
      "\u001b[0;31mModuleNotFoundError\u001b[0m                       Traceback (most recent call last)",
      "\u001b[0;32m<ipython-input-6-955eff070883>\u001b[0m in \u001b[0;36m<module>\u001b[0;34m\u001b[0m\n\u001b[1;32m      1\u001b[0m \u001b[0;32mimport\u001b[0m \u001b[0msys\u001b[0m\u001b[0;34m\u001b[0m\u001b[0;34m\u001b[0m\u001b[0m\n\u001b[0;32m----> 2\u001b[0;31m \u001b[0;32mimport\u001b[0m \u001b[0mpandas\u001b[0m \u001b[0;32mas\u001b[0m \u001b[0mpd\u001b[0m\u001b[0;34m\u001b[0m\u001b[0;34m\u001b[0m\u001b[0m\n\u001b[0m\u001b[1;32m      3\u001b[0m \u001b[0;32mimport\u001b[0m \u001b[0mnumpy\u001b[0m \u001b[0;32mas\u001b[0m \u001b[0mnp\u001b[0m\u001b[0;34m\u001b[0m\u001b[0;34m\u001b[0m\u001b[0m\n\u001b[1;32m      4\u001b[0m \u001b[0;34m\u001b[0m\u001b[0m\n\u001b[1;32m      5\u001b[0m \u001b[0;32mdef\u001b[0m \u001b[0mTestModel\u001b[0m\u001b[0;34m(\u001b[0m\u001b[0mx1\u001b[0m\u001b[0;34m,\u001b[0m \u001b[0mx2\u001b[0m\u001b[0;34m,\u001b[0m \u001b[0mb\u001b[0m\u001b[0;34m)\u001b[0m\u001b[0;34m:\u001b[0m\u001b[0;34m\u001b[0m\u001b[0;34m\u001b[0m\u001b[0m\n",
      "\u001b[0;31mModuleNotFoundError\u001b[0m: No module named 'pandas'"
     ]
    }
   ],
   "source": [
    "import sys\n",
    "import pandas as pd\n",
    "import numpy as np\n",
    "\n",
    "def TestModel(x1, x2, b):\n",
    "\n",
    "    print(\"\\n### Testing Model ###\\n\")\n",
    "\n",
    "    data_file = pd.read_csv(\"housing-prices-dataset/test.csv\", usecols=[43,44])\n",
    "    data = data_file.iloc[:,:2]\n",
    "\n",
    "    for i in range(100):\n",
    "        prediction = data.iloc[i,0] * x1 + data.iloc[i,1] * x2 + b\n",
    "        print(\"Sale Price: \" + str(prediction))\n",
    "\n",
    "def LRGradDesc(data, target, init_x1=0, init_x2=0, init_b=0,\n",
    "    learning_rate_w=0.001, learning_rate_b=0.1, max_iter=10000):\n",
    "    \n",
    "    print(\"\\n### Training Model ###\\n\")\n",
    "\n",
    "    init_cost = 0\n",
    "    N = len(data.iloc[:, 0])\n",
    "    current_x1 = init_x1\n",
    "    current_x2 = init_x2\n",
    "    current_b = init_b\n",
    "    for i in range(max_iter):\n",
    "        prediction = np.dot(data.iloc[:,0], current_x1) + np.dot(data.iloc[:,1], current_x2) + current_b\n",
    "\n",
    "        diff = np.divide(prediction - target, target)\n",
    "        cost = np.sum(diff ** 2) / (2. * N)\n",
    "        if i == 0:\n",
    "            init_cost = cost\n",
    "\n",
    "        x1_grad = np.dot((learning_rate_w/N), np.sum(np.dot(data.iloc[:,0], diff)))\n",
    "        x2_grad = np.dot((learning_rate_w/N), np.sum(np.dot(data.iloc[:,1], diff)))\n",
    "        b_grad = np.dot((learning_rate_b/N), np.sum(diff))\n",
    "    \n",
    "        current_x1 = current_x1 - x1_grad\n",
    "        current_x2 = current_x2 - x2_grad\n",
    "        current_b = current_b - b_grad\n",
    "\n",
    "        if i % 1000 == 0:\n",
    "            print(\"[Iteration \" + str(i) + \"] x1: \" + str(current_x1) + \" x2: \" + str(current_x2) + \" b: \" + str(current_b) + \" cost: \" + str(cost))\n",
    "\n",
    "        if i == max_iter - 1:\n",
    "            print(\"\\n### Final Results ###\\n\")\n",
    "            print(\"Cost Improvement: %.2f%%\" % ((1 - (cost / init_cost)) * 100))\n",
    "            print(\"[Iteration \" + str(i) + \"] x1: \" + str(current_x1) + \" x2: \" + str(current_x2) + \" b: \" + str(current_b) + \" cost: \" + str(cost))\n",
    "    \n",
    "    return current_x1, current_x2, current_b\n",
    "\n",
    "if __name__ == \"__main__\":\n",
    "    data_file = pd.read_csv(\"housing-prices-dataset/train.csv\", usecols=[43,44,80])\n",
    "    x1, x2, b = LRGradDesc(data_file.iloc[:,:2], data_file.iloc[:,2])\n",
    "    TestModel(x1, x2, b)"
   ]
  },
  {
   "cell_type": "markdown",
   "metadata": {},
   "source": [
    "# 1b)"
   ]
  },
  {
   "cell_type": "markdown",
   "metadata": {},
   "source": [
    "# 1c)"
   ]
  },
  {
   "cell_type": "markdown",
   "metadata": {},
   "source": [
    "# 2a)"
   ]
  },
  {
   "cell_type": "markdown",
   "metadata": {},
   "source": [
    "# 2b)"
   ]
  },
  {
   "cell_type": "markdown",
   "metadata": {},
   "source": [
    "# 2c)"
   ]
  },
  {
   "cell_type": "markdown",
   "metadata": {},
   "source": [
    "# 3)"
   ]
  },
  {
   "cell_type": "markdown",
   "metadata": {},
   "source": [
    "# 4a)"
   ]
  },
  {
   "cell_type": "markdown",
   "metadata": {},
   "source": [
    "# 4b)"
   ]
  },
  {
   "cell_type": "markdown",
   "metadata": {},
   "source": [
    "# 4c)"
   ]
  }
 ],
 "metadata": {
  "kernelspec": {
   "display_name": "Python 3",
   "language": "python",
   "name": "python3"
  },
  "language_info": {
   "codemirror_mode": {
    "name": "ipython",
    "version": 3
   },
   "file_extension": ".py",
   "mimetype": "text/x-python",
   "name": "python",
   "nbconvert_exporter": "python",
   "pygments_lexer": "ipython3",
   "version": "3.7.6"
  }
 },
 "nbformat": 4,
 "nbformat_minor": 4
}
