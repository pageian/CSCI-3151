{
 "cells": [
  {
   "cell_type": "markdown",
   "metadata": {},
   "source": [
    "ab)"
   ]
  },
  {
   "cell_type": "code",
   "execution_count": 1,
   "metadata": {},
   "outputs": [
    {
     "name": "stdout",
     "output_type": "stream",
     "text": [
      "### Training Model ###\n",
      "[Iteration 0] : 2120.0278295252197, 6130.027829525217, 0.6669109741989911\n",
      "[Iteration 200] : 609.4619093417251, 390.53875795064766, 0.6591567320441177\n",
      "[Iteration 400] : 614.6075192376546, 379.91956885144003, 0.6573641029650371\n",
      "[Iteration 600] : 615.2862953610611, 378.37573590067984, 0.6570906131848265\n",
      "[Iteration 800] : 615.314007916711, 378.2465776575738, 0.6570625206337277\n",
      "[Iteration 1000] : 615.2269907039868, 378.3695369829348, 0.657078460204647\n",
      "[Iteration 1200] : 615.1190089417089, 378.5384852938102, 0.6571024416272828\n",
      "[Iteration 1400] : 615.0071255026636, 378.71587138509113, 0.6571278973471012\n",
      "[Iteration 1600] : 614.8944668986771, 378.8948242112849, 0.657153625010403\n",
      "[Iteration 1800] : 614.7816067446224, 379.07408602485225, 0.6571794044422418\n"
     ]
    },
    {
     "data": {
      "image/png": "[encoded data removed]",
      "text/plain": [
       "<Figure size 432x288 with 1 Axes>"
      ]
     },
     "metadata": {
      "needs_background": "light"
     },
     "output_type": "display_data"
    }
   ],
   "source": [
    "import pandas as pd\n",
    "import numpy as np\n",
    "import math\n",
    "from scipy.stats import pearsonr\n",
    "import matplotlib.pyplot as plt\n",
    "\n",
    "def validate(data, target, weight, bias):\n",
    "    z = np.dot(data.iloc[:,0], weight[0]) + np.dot(data.iloc[:,1], weight[1]) + bias\n",
    "    pred = sigmoid(z)\n",
    "\n",
    "    accuracy = 1 - (np.sum(abs(pred - target)) / len(data.iloc[:,0]))\n",
    "    return accuracy\n",
    "\n",
    "def cross_entropy(prediction, target):\n",
    "    return np.subtract(np.dot(-target, np.log(prediction)), np.dot(np.subtract(1, target), np.log(np.subtract(1, prediction))))\n",
    "\n",
    "def log_cross_entropy(z, target):\n",
    "    return np.dot(target, np.log(1 + math.e ** (-z))) + np.dot(1 - target, np.log(1 + math.e ** (-z)))\n",
    "\n",
    "def sigmoid(z):\n",
    "    return 1 / (1 + np.exp(-z))\n",
    "\n",
    "def net_input(theta, x):\n",
    "    return np.dot(x, theta)\n",
    "\n",
    "def probability(theta, x):\n",
    "    return sigmoid(net_input(theta, x))\n",
    "\n",
    "def graph(data, target):\n",
    "    for i in range(len(target)):\n",
    "        if(target.iloc[i] == 0):\n",
    "            plt.scatter(data.iloc[i,0], data.iloc[i,1], color='red')\n",
    "        else:\n",
    "            plt.scatter(data.iloc[i,0], data.iloc[i,1], color='blue')\n",
    "    plt.show()\n",
    "\n",
    "def graph_result(data, target, weight, bias):\n",
    "    for i in range(len(target)):\n",
    "        if(target.iloc[i] == 0):\n",
    "            plt.scatter(data.iloc[i,0], data.iloc[i,1], color='red')\n",
    "        else:\n",
    "            plt.scatter(data.iloc[i,0], data.iloc[i,1], color='blue')\n",
    "    #plt.scatter(range(len(data.iloc[:,0])), target, color='red')\n",
    "    y = - (bias + np.dot(weight[0], data.iloc[:,0])) / weight[1]\n",
    "    plt.plot(data.iloc[:,0], y, color='green')\n",
    "    plt.show()\n",
    "    \n",
    "'''\n",
    "    log regr gradient trainer\n",
    "    returns final input weights\n",
    "'''\n",
    "def LRGradDesc(data, target, data_test, target_test, weight_init, bias_init, learning_rate, max_iter):\n",
    "    \n",
    "    print(\"### Training Model ###\")\n",
    "    N = len(data.iloc[:,0])\n",
    "    current_weight = [weight_init, weight_init]\n",
    "    current_bias = bias_init\n",
    "    theta = np.zeros((data.shape[1], 1))\n",
    "\n",
    "    for i in range(max_iter):\n",
    "        z = np.dot(data.iloc[:,0], current_weight[0]) + np.dot(data.iloc[:,1], current_weight[1]) + current_bias\n",
    "        pred = sigmoid(z)\n",
    "        diff = pred - target\n",
    "        #TODO: use correct cost function\n",
    "        cost = cross_entropy(pred, target)\n",
    "        log_cost = log_cross_entropy(z, target)\n",
    "        current_weight[0] = current_weight[0] - ((learning_rate/N) * np.sum(data.iloc[:,0] * diff))\n",
    "        current_weight[1] = current_weight[1] - ((learning_rate/N) * np.sum(data.iloc[:,1] * diff))\n",
    "        current_bias = current_bias - ((learning_rate/N) * np.sum(diff))\n",
    "\n",
    "        train_accuracy = 1 - (np.sum(abs(diff)) / N)\n",
    "        test_accuracy = validate(data_test, target_test, current_weight, current_bias)\n",
    "\n",
    "        if i % 200 == 0:\n",
    "           print(\"[Iteration \" + str(i) + \"] : \" + str(cost) + \", \" + str(log_cost) + \", \" + str(test_accuracy))\n",
    " \n",
    "    return current_weight, current_bias\n",
    "\n",
    "'''\n",
    "    pearson coeff feature selection\n",
    "    returns top 2 feature indices\n",
    "'''\n",
    "def feature_selection(data, target):\n",
    "    correlations = []\n",
    "    for i in range(0, len(data.iloc[1,:])):\n",
    "        correlations.append(pearsonr(data.iloc[:,i], target)[0])\n",
    "    \n",
    "    sorted_correl = sorted(correlations, reverse=True)\n",
    "    return correlations.index(sorted_correl[0]), correlations.index(sorted_correl[1])\n",
    "\n",
    "if __name__ == \"__main__\":\n",
    "\n",
    "    # get file data\n",
    "    data_file = pd.read_csv(\"data-sets/diabetes.csv\")\n",
    "    X = data_file.iloc[1:,:8] # Features\n",
    "    y = data_file.iloc[1:,8] # Target variable\n",
    "\n",
    "    # TODO: must be a randomized selection\n",
    "    # spltting train and test data\n",
    "    split_index = int(math.floor(len(y) * 0.8))\n",
    "    X_train, X_test = X.iloc[:split_index], X.iloc[split_index:]\n",
    "    y_train, y_test = y.iloc[:split_index], y.iloc[split_index:]\n",
    "    \n",
    "    # get optimal pearson features\n",
    "    key_features = feature_selection(X_train, y_train)\n",
    "\n",
    "    # train model\n",
    "    weight, bias = LRGradDesc(X_train.iloc[:, [key_features[0], key_features[1]]], y_train, X_test.iloc[:, [key_features[0], key_features[1]]], y_test, 0, -10, 0.001, 2000)\n",
    "    graph_result(X_test, y_test, weight, bias)"
   ]
  },
  {
   "cell_type": "markdown",
   "metadata": {},
   "source": [
    "c)"
   ]
  },
  {
   "cell_type": "code",
   "execution_count": null,
   "metadata": {},
   "outputs": [],
   "source": []
  },
  {
   "cell_type": "markdown",
   "metadata": {},
   "source": [
    "d)"
   ]
  },
  {
   "cell_type": "code",
   "execution_count": 3,
   "metadata": {},
   "outputs": [
    {
     "name": "stdout",
     "output_type": "stream",
     "text": [
      "Final Weights: [-7.50855399], [[0.03461369 0.07757532]]\n",
      "Final Accuracy: 0.7727272727272727\n"
     ]
    },
    {
     "data": {
      "image/png": "[encoded data removed]",
      "text/plain": [
       "<Figure size 432x288 with 1 Axes>"
      ]
     },
     "metadata": {
      "needs_background": "light"
     },
     "output_type": "display_data"
    }
   ],
   "source": [
    "'''\n",
    "    Logistic Regression Gradient Descent using sklearn\n",
    "'''\n",
    "import pandas as pd\n",
    "import numpy as np\n",
    "import math\n",
    "from scipy.stats import pearsonr\n",
    "from sklearn.linear_model import LogisticRegression\n",
    "from sklearn.metrics import accuracy_score\n",
    "import matplotlib.pyplot as plt\n",
    "\n",
    "def sigmoid(x):\n",
    "  return 1 / (1 + math.exp(-x))\n",
    "\n",
    "def graph_result(data, target, model):\n",
    "    for i in range(len(target)):\n",
    "        if(target.iloc[i] == 0):\n",
    "            plt.scatter(data.iloc[i,0], data.iloc[i,1], color='red')\n",
    "        else:\n",
    "            plt.scatter(data.iloc[i,0], data.iloc[i,1], color='blue')\n",
    "    \n",
    "    y = - (model.intercept_[0] + np.dot(model.coef_[0][0], data.iloc[:,0])) / model.coef_[0][1]\n",
    "    plt.plot(data.iloc[:,0], y, color='green')\n",
    "    plt.xlabel(data.columns.values[0])\n",
    "    plt.ylabel(data.columns.values[1])\n",
    "    plt.show()\n",
    "\n",
    "'''\n",
    "    pearson coeff feature selection\n",
    "    returns top 2 feature indices\n",
    "'''\n",
    "def feature_selection(data, target):\n",
    "    correlations = []\n",
    "    for i in range(0, len(data.iloc[1,:])):\n",
    "        correlations.append(pearsonr(data.iloc[:,i], target)[0])\n",
    "    \n",
    "    sorted_correl = sorted(correlations, reverse=True)\n",
    "    return correlations.index(sorted_correl[0]), correlations.index(sorted_correl[1])\n",
    "\n",
    "if __name__ == \"__main__\":\n",
    "\n",
    "    # get file data\n",
    "    data_file = pd.read_csv(\"data-sets/diabetes.csv\")\n",
    "    shuffled_data = data_file.sample(frac=1)\n",
    "    X = shuffled_data.iloc[1:,:8] # Features\n",
    "    y = shuffled_data.iloc[1:,8] # Target variable\n",
    "\n",
    "    # spltting train and test data\n",
    "    split_index = int(math.floor(len(y) * 0.8))\n",
    "    X_train, X_test = X.iloc[:split_index], X.iloc[split_index:]\n",
    "    y_train, y_test = y.iloc[:split_index], y.iloc[split_index:]\n",
    "\n",
    "    # get optimal pearson features\n",
    "    key_features = feature_selection(X_train, y_train)\n",
    "\n",
    "    # train model\n",
    "    model = LogisticRegression()\n",
    "    model.fit(X_train.iloc[:, [key_features[0], key_features[1]]], y_train)\n",
    "    \n",
    "    # make predictions\n",
    "    pred = model.predict(X_test.iloc[:, [key_features[0], key_features[1]]])\n",
    "    accuracy = accuracy_score(pred, y_test)\n",
    "    weights = model.coef_\n",
    "    print(\"Final Weights: \" + str(model.intercept_) + \", \" + str(weights))\n",
    "    print(\"Final Accuracy: \" + str(accuracy))\n",
    "\n",
    "    graph_result(X_test.iloc[:, [key_features[0], key_features[1]]], y_test, model)"
   ]
  },
  {
   "cell_type": "markdown",
   "metadata": {},
   "source": [
    "e)"
   ]
  },
  {
   "cell_type": "code",
   "execution_count": null,
   "metadata": {},
   "outputs": [],
   "source": []
  }
 ],
 "metadata": {
  "kernelspec": {
   "display_name": "Python 3",
   "language": "python",
   "name": "python3"
  },
  "language_info": {
   "codemirror_mode": {
    "name": "ipython",
    "version": 3
   },
   "file_extension": ".py",
   "mimetype": "text/x-python",
   "name": "python",
   "nbconvert_exporter": "python",
   "pygments_lexer": "ipython3",
   "version": "3.6.9"
  }
 },
 "nbformat": 4,
 "nbformat_minor": 4
}
