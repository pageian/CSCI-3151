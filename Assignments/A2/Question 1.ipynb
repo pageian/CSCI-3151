{
 "cells": [
  {
   "cell_type": "markdown",
   "metadata": {},
   "source": [
    "ab)"
   ]
  },
  {
   "cell_type": "code",
   "execution_count": 10,
   "metadata": {},
   "outputs": [
    {
     "name": "stdout",
     "output_type": "stream",
     "text": [
      "### Training Model ###\n",
      "[Iteration 0] : 2140.0278295252197, 0.650883525928695, 0.6874718773747147\n",
      "[Iteration 1000] : 644.9069852490148, 0.5686440938370512, 0.6721531036624581\n",
      "[Iteration 2000] : 644.4893543711225, 0.5689162757248191, 0.6723032999955221\n",
      "[Iteration 3000] : 644.0618861127256, 0.5691941331464101, 0.6724571019496235\n",
      "[Iteration 4000] : 643.6318167341165, 0.5694718509815275, 0.6726111539308415\n",
      "[Iteration 5000] : 643.1991948922348, 0.5697494189084176, 0.6727654433487589\n",
      "[Iteration 6000] : 642.7640664959163, 0.5700268288358421, 0.6729199589158297\n",
      "[Iteration 7000] : 642.3264775347101, 0.5703040726408766, 0.6730746893459346\n",
      "[Iteration 8000] : 641.8864740695786, 0.5705811421700063, 0.6732296233580026\n",
      "[Iteration 9000] : 641.4441022225379, 0.570858029241111, 0.6733847496800811\n",
      "Final weights: -10.161930364897694, 0.0772103097231015, 0.0759385563308825\n"
     ]
    },
    {
     "data": {
      "image/png": "[encoded data removed]",
      "text/plain": [
       "<Figure size 432x288 with 1 Axes>"
      ]
     },
     "metadata": {
      "needs_background": "light"
     },
     "output_type": "display_data"
    }
   ],
   "source": [
    "'''\n",
    "    Logistic Regression Gradient Descent\n",
    "'''\n",
    "import pandas as pd\n",
    "import numpy as np\n",
    "import math\n",
    "from scipy.stats import pearsonr\n",
    "import matplotlib.pyplot as plt\n",
    "\n",
    "def validate(data, target, weight, bias):\n",
    "    z = np.dot(data.iloc[:,0], weight[0]) + np.dot(data.iloc[:,1], weight[1]) + bias\n",
    "    pred = sigmoid(z)\n",
    "    accuracy = 1 - (np.sum(abs(pred - target)) / len(data.iloc[:,0]))\n",
    "    return accuracy\n",
    "\n",
    "def cross_entropy(prediction, target):\n",
    "    return np.dot(-target, np.log(prediction)) - np.dot(1 - target, np.log(1 - prediction))\n",
    "\n",
    "def sigmoid(z):\n",
    "    return 1 / (1 + np.exp(-z))\n",
    "\n",
    "def graph(data, target):\n",
    "    for i in range(len(target)):\n",
    "        if(target.iloc[i] == 0):\n",
    "            plt.scatter(data.iloc[i,0], data.iloc[i,1], color='red')\n",
    "        else:\n",
    "            plt.scatter(data.iloc[i,0], data.iloc[i,1], color='blue')\n",
    "    plt.show()\n",
    "\n",
    "def graph_result(data, target, weight, bias):\n",
    "    for i in range(len(target)):\n",
    "        if(target.iloc[i] == 0):\n",
    "            plt.scatter(data.iloc[i,0], data.iloc[i,1], color='red')\n",
    "        else:\n",
    "            plt.scatter(data.iloc[i,0], data.iloc[i,1], color='blue')\n",
    "\n",
    "    y = - (bias + np.dot(weight[0], data.iloc[:,0])) / weight[1]\n",
    "    plt.plot(data.iloc[:,0], y, color='green')\n",
    "    plt.xlabel(data.columns.values[0])\n",
    "    plt.ylabel(data.columns.values[1])\n",
    "    plt.show()\n",
    "    \n",
    "'''\n",
    "    log regr gradient trainer\n",
    "    returns final input weights\n",
    "'''\n",
    "def LRGradDesc(data, target, data_test, target_test, weight_init, bias_init, learning_rate, max_iter):\n",
    "    \n",
    "    print(\"### Training Model ###\")\n",
    "    N = len(data.iloc[:,0])\n",
    "    current_weight = [weight_init, weight_init]\n",
    "    current_bias = bias_init\n",
    "    theta = np.zeros((data.shape[1], 1))\n",
    "\n",
    "    for i in range(max_iter):\n",
    "        z = np.dot(data.iloc[:,0], current_weight[0]) + np.dot(data.iloc[:,1], current_weight[1]) + current_bias\n",
    "        pred = sigmoid(z)\n",
    "        diff = pred - target\n",
    "        \n",
    "        cost = cross_entropy(pred, target)\n",
    "        current_weight[0] = current_weight[0] - ((learning_rate/N) * np.sum(data.iloc[:,0] * diff))\n",
    "        current_weight[1] = current_weight[1] - ((learning_rate/N) * np.sum(data.iloc[:,1] * diff))\n",
    "        current_bias = current_bias - ((learning_rate/N) * np.sum(diff))\n",
    "\n",
    "        train_acc = 1 - (np.sum(abs(diff)) / N)\n",
    "        val_acc = validate(data_test, target_test, current_weight, current_bias)\n",
    "\n",
    "        if i % 1000 == 0:\n",
    "           print(\"[Iteration \" + str(i) + \"] : \" + str(cost) + \", \" + str(train_acc) + \", \" + str(val_acc))\n",
    " \n",
    "    return current_weight, current_bias\n",
    "\n",
    "'''\n",
    "    pearson coeff feature selection\n",
    "    returns top 2 feature indices\n",
    "'''\n",
    "def feature_selection(data, target):\n",
    "    correlations = []\n",
    "    for i in range(0, len(data.iloc[1,:])):\n",
    "        correlations.append(pearsonr(data.iloc[:,i], target)[0])\n",
    "    \n",
    "    sorted_correl = sorted(correlations, reverse=True)\n",
    "    return correlations.index(sorted_correl[0]), correlations.index(sorted_correl[1])\n",
    "\n",
    "if __name__ == \"__main__\":\n",
    "\n",
    "    # get file data\n",
    "    data_file = pd.read_csv(\"data-sets/diabetes.csv\")\n",
    "    shuffled_data = data_file.sample(frac=1)\n",
    "    X = shuffled_data.iloc[1:,:8] # Features\n",
    "    y = shuffled_data.iloc[1:,8] # Target variable\n",
    "\n",
    "    # spltting train and test data\n",
    "    split_index = int(math.floor(len(y) * 0.8))\n",
    "    X_train, X_test = X.iloc[:split_index], X.iloc[split_index:]\n",
    "    y_train, y_test = y.iloc[:split_index], y.iloc[split_index:]\n",
    "    \n",
    "    # get optimal pearson features\n",
    "    key_features = feature_selection(X_train, y_train)\n",
    "\n",
    "    # train model\n",
    "    weight, bias = LRGradDesc(X_train.iloc[:, [key_features[0], key_features[1]]], y_train, X_test.iloc[:, [key_features[0], key_features[1]]], y_test, 0, -10, 0.001, 10000)\n",
    "    print(\"Final weights: \" + str(bias) + \", \" + str(weight[0]) + \", \" + str(weight[1]))\n",
    "    graph_result(X_test.iloc[:, [key_features[0], key_features[1]]], y_test, weight, bias)"
   ]
  },
  {
   "cell_type": "markdown",
   "metadata": {},
   "source": [
    "c)"
   ]
  },
  {
   "cell_type": "markdown",
   "metadata": {},
   "source": [
    "I found a larger learning rate such as 0.1 - 0.01 to have quite poor accuracy, where very small learning rates such as < 0.0001 to have very little ability for weight adjustment. I found the learning rate 0.001 to be the best balance for this application."
   ]
  },
  {
   "cell_type": "markdown",
   "metadata": {},
   "source": [
    "d)"
   ]
  },
  {
   "cell_type": "code",
   "execution_count": 9,
   "metadata": {},
   "outputs": [
    {
     "name": "stdout",
     "output_type": "stream",
     "text": [
      "Final Weights: [-7.39716665], [[0.03532297 0.07223148]]\n",
      "Final Accuracy: 0.7467532467532467\n"
     ]
    },
    {
     "data": {
      "image/png": "[encoded data removed]",
      "text/plain": [
       "<Figure size 432x288 with 1 Axes>"
      ]
     },
     "metadata": {
      "needs_background": "light"
     },
     "output_type": "display_data"
    }
   ],
   "source": [
    "'''\n",
    "    Logistic Regression Gradient Descent using sklearn\n",
    "'''\n",
    "import pandas as pd\n",
    "import numpy as np\n",
    "import math\n",
    "from scipy.stats import pearsonr\n",
    "from sklearn.linear_model import LogisticRegression\n",
    "from sklearn.metrics import accuracy_score\n",
    "import matplotlib.pyplot as plt\n",
    "\n",
    "def sigmoid(x):\n",
    "  return 1 / (1 + math.exp(-x))\n",
    "\n",
    "def graph_result(data, target, model):\n",
    "    for i in range(len(target)):\n",
    "        if(target.iloc[i] == 0):\n",
    "            plt.scatter(data.iloc[i,0], data.iloc[i,1], color='red')\n",
    "        else:\n",
    "            plt.scatter(data.iloc[i,0], data.iloc[i,1], color='blue')\n",
    "    \n",
    "    y = - (model.intercept_[0] + np.dot(model.coef_[0][0], data.iloc[:,0])) / model.coef_[0][1]\n",
    "    plt.plot(data.iloc[:,0], y, color='green')\n",
    "    plt.xlabel(data.columns.values[0])\n",
    "    plt.ylabel(data.columns.values[1])\n",
    "    plt.show()\n",
    "\n",
    "'''\n",
    "    pearson coeff feature selection\n",
    "    returns top 2 feature indices\n",
    "'''\n",
    "def feature_selection(data, target):\n",
    "    correlations = []\n",
    "    for i in range(0, len(data.iloc[1,:])):\n",
    "        correlations.append(pearsonr(data.iloc[:,i], target)[0])\n",
    "    \n",
    "    sorted_correl = sorted(correlations, reverse=True)\n",
    "    return correlations.index(sorted_correl[0]), correlations.index(sorted_correl[1])\n",
    "\n",
    "if __name__ == \"__main__\":\n",
    "\n",
    "    # get file data\n",
    "    data_file = pd.read_csv(\"data-sets/diabetes.csv\")\n",
    "    shuffled_data = data_file.sample(frac=1)\n",
    "    X = shuffled_data.iloc[1:,:8] # Features\n",
    "    y = shuffled_data.iloc[1:,8] # Target variable\n",
    "\n",
    "    # spltting train and test data\n",
    "    split_index = int(math.floor(len(y) * 0.8))\n",
    "    X_train, X_test = X.iloc[:split_index], X.iloc[split_index:]\n",
    "    y_train, y_test = y.iloc[:split_index], y.iloc[split_index:]\n",
    "\n",
    "    # get optimal pearson features\n",
    "    key_features = feature_selection(X_train, y_train)\n",
    "\n",
    "    # train model\n",
    "    model = LogisticRegression()\n",
    "    model.fit(X_train.iloc[:, [key_features[0], key_features[1]]], y_train)\n",
    "    \n",
    "    # make predictions\n",
    "    pred = model.predict(X_test.iloc[:, [key_features[0], key_features[1]]])\n",
    "    accuracy = accuracy_score(pred, y_test)\n",
    "    weights = model.coef_\n",
    "    print(\"Final Weights: \" + str(model.intercept_) + \", \" + str(weights))\n",
    "    print(\"Final Accuracy: \" + str(accuracy))\n",
    "\n",
    "    graph_result(X_test.iloc[:, [key_features[0], key_features[1]]], y_test, model)"
   ]
  },
  {
   "cell_type": "markdown",
   "metadata": {},
   "source": [
    "e)"
   ]
  },
  {
   "cell_type": "markdown",
   "metadata": {},
   "source": [
    "Using Glucose, BMI, and Diabetes Predigree Function as parameters"
   ]
  },
  {
   "cell_type": "code",
   "execution_count": 11,
   "metadata": {},
   "outputs": [
    {
     "data": {
      "image/png": "[encoded data removed]",
      "text/plain": [
       "<Figure size 432x288 with 1 Axes>"
      ]
     },
     "metadata": {
      "needs_background": "light"
     },
     "output_type": "display_data"
    },
    {
     "data": {
      "image/png": "[encoded data removed]",
      "text/plain": [
       "<Figure size 432x288 with 1 Axes>"
      ]
     },
     "metadata": {
      "needs_background": "light"
     },
     "output_type": "display_data"
    }
   ],
   "source": [
    "'''\n",
    "    Logistic Regression Gradient Descent w/ ROC curve\n",
    "'''\n",
    "import pandas as pd\n",
    "import numpy as np\n",
    "import math\n",
    "from scipy.stats import pearsonr\n",
    "import matplotlib.pyplot as plt\n",
    "from sklearn.metrics import roc_curve \n",
    "from sklearn.linear_model import LogisticRegression\n",
    "\n",
    "def validate(data, target, weight, bias):\n",
    "    z = np.dot(data.iloc[:,0], weight[0]) + np.dot(data.iloc[:,1], weight[1]) + bias\n",
    "    pred = sigmoid(z)\n",
    "    accuracy = 1 - (np.sum(abs(pred - target)) / len(data.iloc[:,0]))\n",
    "    return accuracy\n",
    "\n",
    "def cross_entropy(prediction, target):\n",
    "    return np.dot(-target, np.log(prediction)) - np.dot(1 - target, np.log(1 - prediction))\n",
    "\n",
    "def sigmoid(z):\n",
    "    return 1 / (1 + np.exp(-z))\n",
    "\n",
    "def predict(X, weight, bias):\n",
    "    z = np.dot(X.iloc[:,0], weight[0]) + np.dot(X.iloc[:,1], weight[1]) + np.dot(X.iloc[:,2], weight[2]) + bias\n",
    "    return sigmoid(z)\n",
    "\n",
    "def probability(pred):\n",
    "    reg_odds = np.exp(pred)\n",
    "    return reg_odds / (1 + reg_odds)\n",
    "    \n",
    "'''\n",
    "    log regr gradient trainer\n",
    "    returns final input weights\n",
    "'''\n",
    "def LRGradDesc(data, target, data_test, target_test, weight_init, bias_init, learning_rate, max_iter):\n",
    "    \n",
    "    N = len(data.iloc[:,0])\n",
    "    current_weight = [weight_init, weight_init, weight_init]\n",
    "    current_bias = bias_init\n",
    "    theta = np.zeros((data.shape[1], 1))\n",
    "\n",
    "    for i in range(max_iter):\n",
    "        z = np.dot(data.iloc[:,0], current_weight[0]) + np.dot(data.iloc[:,1], current_weight[1]) + np.dot(data.iloc[:,2], current_weight[2]) + current_bias\n",
    "        pred = sigmoid(z)\n",
    "        diff = pred - target\n",
    "        \n",
    "        cost = cross_entropy(pred, target)\n",
    "        current_weight[0] = current_weight[0] - ((learning_rate/N) * np.sum(data.iloc[:,0] * diff))\n",
    "        current_weight[1] = current_weight[1] - ((learning_rate/N) * np.sum(data.iloc[:,1] * diff))\n",
    "        current_weight[2] = current_weight[2] - ((learning_rate/N) * np.sum(data.iloc[:,2] * diff))\n",
    "        current_bias = current_bias - ((learning_rate/N) * np.sum(diff))\n",
    "\n",
    "        train_acc = 1 - (np.sum(abs(diff)) / N)\n",
    "        val_acc = validate(data_test, target_test, current_weight, current_bias)\n",
    " \n",
    "    return current_weight, current_bias\n",
    "\n",
    "if __name__ == \"__main__\":\n",
    "\n",
    "    # get file data\n",
    "    data_file = pd.read_csv(\"data-sets/diabetes.csv\")\n",
    "    shuffled_data = data_file.sample(frac=1)\n",
    "    X = shuffled_data.iloc[1:,:8] # Features\n",
    "    y = shuffled_data.iloc[1:,8] # Target variable\n",
    "\n",
    "    # spltting train and test data\n",
    "    split_index = int(math.floor(len(y) * 0.8))\n",
    "    X_train, X_test = X.iloc[:split_index], X.iloc[split_index:]\n",
    "    y_train, y_test = y.iloc[:split_index], y.iloc[split_index:]\n",
    "    key_features = [1, 5, 6]\n",
    "\n",
    "    # train models\n",
    "    weight, bias = LRGradDesc(X_train.iloc[:, [key_features[0], key_features[1], key_features[2]]],\n",
    "        y_train, X_test.iloc[:, [key_features[0], key_features[1], key_features[2]]], y_test, 0, -10, 0.001, 2000)\n",
    "\n",
    "    model = LogisticRegression()\n",
    "    model.fit(X_train.iloc[:, [key_features[0], key_features[1], key_features[2]]], y_train)\n",
    "   \n",
    "    ns_probs = [0 for _ in range(len(y_test))]\n",
    "    probs = probability(predict(X_test.iloc[:, [key_features[0], key_features[1], key_features[2]]], weight, bias))\n",
    "    probs_canned = model.predict_proba(X_test.iloc[:, [key_features[0], key_features[1], key_features[2]]])\n",
    "    probs_canned = probs_canned[:, 1]\n",
    "\n",
    "    # calculate roc curves\n",
    "    ns_fpr, ns_tpr, _ = roc_curve(y_test, ns_probs)\n",
    "    lr_fpr, lr_tpr, _ = roc_curve(y_test, probs)\n",
    "    # plot the roc curve for the model\n",
    "    plt.plot(ns_fpr, ns_tpr, linestyle='--', label='No Skill')\n",
    "    plt.plot(lr_fpr, lr_tpr, marker='.', label='Logistic')\n",
    "    # axis labels\n",
    "    plt.xlabel('False Positive Rate')\n",
    "    plt.ylabel('True Positive Rate')\n",
    "    plt.title('Scratch LR Model')\n",
    "    # show the legend\n",
    "    plt.legend()\n",
    "    # show the plot\n",
    "    plt.show()\n",
    "\n",
    "    plt.clf()\n",
    "    # calculate roc curves\n",
    "    ns_fpr1, ns_tpr1, _ = roc_curve(y_test, ns_probs)\n",
    "    lr_fpr1, lr_tpr1, _ = roc_curve(y_test, probs_canned)\n",
    "    # plot the roc curve for the model\n",
    "    plt.plot(ns_fpr1, ns_tpr1, linestyle='--', label='No Skill')\n",
    "    plt.plot(lr_fpr1, lr_tpr1, marker='.', label='Logistic')\n",
    "    # axis labels\n",
    "    plt.xlabel('False Positive Rate')\n",
    "    plt.ylabel('True Positive Rate')\n",
    "    plt.title('SKLearn LR Model')\n",
    "    # show the legend\n",
    "    plt.legend()\n",
    "    # show the plot\n",
    "    plt.show()"
   ]
  }
 ],
 "metadata": {
  "kernelspec": {
   "display_name": "Python 3",
   "language": "python",
   "name": "python3"
  },
  "language_info": {
   "codemirror_mode": {
    "name": "ipython",
    "version": 3
   },
   "file_extension": ".py",
   "mimetype": "text/x-python",
   "name": "python",
   "nbconvert_exporter": "python",
   "pygments_lexer": "ipython3",
   "version": "3.6.9"
  }
 },
 "nbformat": 4,
 "nbformat_minor": 4
}
