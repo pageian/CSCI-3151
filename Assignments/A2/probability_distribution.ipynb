{
  "nbformat": 4,
  "nbformat_minor": 0,
  "metadata": {
    "colab": {
      "name": "probability distribution.ipynb",
      "provenance": [],
      "collapsed_sections": []
    },
    "kernelspec": {
      "name": "python3",
      "display_name": "Python 3"
    }
  },
  "cells": [
    {
      "cell_type": "markdown",
      "metadata": {
        "id": "WJ5kNfPB2UDK",
        "colab_type": "text"
      },
      "source": [
        "# CSCI3151 : Probability Distribution in Python\n",
        "Author: Mahtab Sarvmaili, mahtab.sarvmaili@dal.ca .\n",
        "This is a fundamental tutorial on Basic Probability Distribution in Python . This tutorial focuses on implementing common machine learning Probability Distributions in Python\n",
        "\n",
        "This notes is just a starting point. You are encouraged to find out more. The ideal use of this notebook would be as a reference which you keep updating as you learn new things. You can reach me for further questions.\n"
      ]
    },
    {
      "cell_type": "markdown",
      "metadata": {
        "id": "wNNdoLY58O7L",
        "colab_type": "text"
      },
      "source": [
        "![alt text](https://online.stanford.edu/sites/default/files/styles/figure_default/public/2018-08/introduction-to-probability-and-statistics-for-epidemiology_HRP259.jpg?itok=hu6PM2ZF)"
      ]
    },
    {
      "cell_type": "markdown",
      "metadata": {
        "id": "_8ldfSRQD-ml",
        "colab_type": "text"
      },
      "source": [
        "Recommend you to watch **Introduction to linear algebra course** presented by Gilbert Strang "
      ]
    },
    {
      "cell_type": "markdown",
      "metadata": {
        "id": "grQJVLe09UVk",
        "colab_type": "text"
      },
      "source": [
        "A **random variable** is a variable whose possible values are **numerical** outcomes of a random phenomenon. There are two types of random variables, **discrete** and **continuous**.\n",
        "\n",
        "A discrete random variable is one which may take on only a countable number of distinct values and thus can be quantified.\n",
        "\n",
        "The probability distribution of a discrete random variable is a list of probabilities associated with each of its possible values. It is also sometimes called the probability function or the probability mass function."
      ]
    },
    {
      "cell_type": "code",
      "metadata": {
        "id": "Ex33TdoFlEdj",
        "colab_type": "code",
        "colab": {
          "base_uri": "https://localhost:8080/",
          "height": 292
        },
        "outputId": "d8e0feb7-af9f-461b-f093-212aa203497d"
      },
      "source": [
        "#1\n",
        "!pip install numpy\n",
        "!pip install matplotlib\n",
        "!pip install scipy\n",
        "!pip install sklearn"
      ],
      "execution_count": null,
      "outputs": [
        {
          "output_type": "stream",
          "text": [
            "Requirement already satisfied: numpy in /usr/local/lib/python3.6/dist-packages (1.18.5)\n",
            "Requirement already satisfied: matplotlib in /usr/local/lib/python3.6/dist-packages (3.2.1)\n",
            "Requirement already satisfied: cycler>=0.10 in /usr/local/lib/python3.6/dist-packages (from matplotlib) (0.10.0)\n",
            "Requirement already satisfied: pyparsing!=2.0.4,!=2.1.2,!=2.1.6,>=2.0.1 in /usr/local/lib/python3.6/dist-packages (from matplotlib) (2.4.7)\n",
            "Requirement already satisfied: numpy>=1.11 in /usr/local/lib/python3.6/dist-packages (from matplotlib) (1.18.5)\n",
            "Requirement already satisfied: python-dateutil>=2.1 in /usr/local/lib/python3.6/dist-packages (from matplotlib) (2.8.1)\n",
            "Requirement already satisfied: kiwisolver>=1.0.1 in /usr/local/lib/python3.6/dist-packages (from matplotlib) (1.2.0)\n",
            "Requirement already satisfied: six in /usr/local/lib/python3.6/dist-packages (from cycler>=0.10->matplotlib) (1.12.0)\n",
            "Requirement already satisfied: scipy in /usr/local/lib/python3.6/dist-packages (1.4.1)\n",
            "Requirement already satisfied: numpy>=1.13.3 in /usr/local/lib/python3.6/dist-packages (from scipy) (1.18.5)\n",
            "Requirement already satisfied: sklearn in /usr/local/lib/python3.6/dist-packages (0.0)\n",
            "Requirement already satisfied: scikit-learn in /usr/local/lib/python3.6/dist-packages (from sklearn) (0.22.2.post1)\n",
            "Requirement already satisfied: numpy>=1.11.0 in /usr/local/lib/python3.6/dist-packages (from scikit-learn->sklearn) (1.18.5)\n",
            "Requirement already satisfied: scipy>=0.17.0 in /usr/local/lib/python3.6/dist-packages (from scikit-learn->sklearn) (1.4.1)\n",
            "Requirement already satisfied: joblib>=0.11 in /usr/local/lib/python3.6/dist-packages (from scikit-learn->sklearn) (0.15.1)\n"
          ],
          "name": "stdout"
        }
      ]
    },
    {
      "cell_type": "code",
      "metadata": {
        "id": "6_PhdvjoRMU6",
        "colab_type": "code",
        "colab": {
          "base_uri": "https://localhost:8080/",
          "height": 71
        },
        "outputId": "b61431ed-b03b-4bc1-f023-ae1f341d8605"
      },
      "source": [
        "#2\n",
        "import random\n",
        "import numpy as np\n",
        "import matplotlib.pyplot as plt\n",
        "import seaborn as sns"
      ],
      "execution_count": null,
      "outputs": [
        {
          "output_type": "stream",
          "text": [
            "/usr/local/lib/python3.6/dist-packages/statsmodels/tools/_testing.py:19: FutureWarning: pandas.util.testing is deprecated. Use the functions in the public API at pandas.testing instead.\n",
            "  import pandas.util.testing as tm\n"
          ],
          "name": "stderr"
        }
      ]
    },
    {
      "cell_type": "markdown",
      "metadata": {
        "id": "QA3n0HSYdhr-",
        "colab_type": "text"
      },
      "source": [
        "Having some fun with random libarary :)"
      ]
    },
    {
      "cell_type": "code",
      "metadata": {
        "id": "774ilnN3oGge",
        "colab_type": "code",
        "colab": {
          "base_uri": "https://localhost:8080/",
          "height": 34
        },
        "outputId": "8d955ae1-c451-4bfb-acd8-7b5face52f95"
      },
      "source": [
        "#3\n",
        "random.sample(list(range(1000)), k=10) \n",
        "#Returns a given sample of a sequence\n"
      ],
      "execution_count": null,
      "outputs": [
        {
          "output_type": "execute_result",
          "data": {
            "text/plain": [
              "[841, 335, 319, 562, 283, 742, 104, 400, 911, 481]"
            ]
          },
          "metadata": {
            "tags": []
          },
          "execution_count": 28
        }
      ]
    },
    {
      "cell_type": "code",
      "metadata": {
        "id": "EeUQmh4g2aeO",
        "colab_type": "code",
        "colab": {
          "base_uri": "https://localhost:8080/",
          "height": 34
        },
        "outputId": "611f64fd-66ae-4340-d8b4-f8546a2e60fb"
      },
      "source": [
        "#4\n",
        "random.randrange(100,150)\n",
        "# Returns a random number between the given range"
      ],
      "execution_count": null,
      "outputs": [
        {
          "output_type": "execute_result",
          "data": {
            "text/plain": [
              "147"
            ]
          },
          "metadata": {
            "tags": []
          },
          "execution_count": 29
        }
      ]
    },
    {
      "cell_type": "code",
      "metadata": {
        "id": "BggWDvZgmXIE",
        "colab_type": "code",
        "colab": {
          "base_uri": "https://localhost:8080/",
          "height": 68
        },
        "outputId": "1ba2ad80-3eff-4122-fb62-4bb05de27590"
      },
      "source": [
        "#5\n",
        "variables = ['apple','orange','blueberry','blackberry','strawberry']\n",
        "#create an array of 5 fruits :)\n",
        "probability = [0.1, 0.1, 0.2, 0.4, 0.2]\n",
        "# creating an array of probabilities. These values represent the probability \n",
        "#that we want to select each element from previous array  \n",
        "np.random.choice(variables, size=10, p=probability)\n",
        "#Returns a list with a random selection from the given sequence"
      ],
      "execution_count": null,
      "outputs": [
        {
          "output_type": "execute_result",
          "data": {
            "text/plain": [
              "array(['blueberry', 'blueberry', 'strawberry', 'apple', 'blackberry',\n",
              "       'blackberry', 'strawberry', 'blackberry', 'strawberry',\n",
              "       'strawberry'], dtype='<U10')"
            ]
          },
          "metadata": {
            "tags": []
          },
          "execution_count": 30
        }
      ]
    },
    {
      "cell_type": "markdown",
      "metadata": {
        "id": "sPe2JEC0nfeA",
        "colab_type": "text"
      },
      "source": [
        "### **Some simple experiments \\:**\n",
        " \n",
        "1. Create a 3x3 matrix with values ranging from 0 to 8\n",
        "2. Create a random vector of size 30 and find the mean and median value"
      ]
    },
    {
      "cell_type": "code",
      "metadata": {
        "id": "txb1EJGToHtz",
        "colab_type": "code",
        "colab": {}
      },
      "source": [
        "#6\n"
      ],
      "execution_count": null,
      "outputs": []
    },
    {
      "cell_type": "markdown",
      "metadata": {
        "id": "HdQm4FRNOT6J",
        "colab_type": "text"
      },
      "source": [
        "# 1. **Uniform Distribution**"
      ]
    },
    {
      "cell_type": "markdown",
      "metadata": {
        "id": "U3VefB15Ogvr",
        "colab_type": "text"
      },
      "source": [
        "Perhaps one of the simplest and useful distribution is the uniform distribution. The probability distribution function of the continuous uniform distribution is: \n",
        "\n",
        "![alt text](https://res.cloudinary.com/dyd911kmh/image/upload/f_auto,q_auto:best/v1539784816/output_5_0_f453qp.png)\n",
        "\n",
        "\n",
        "Since any interval of numbers of equal width has an equal probability of being observed, the curve describing the distribution is a rectangle, with constant height across the interval and 0 height elsewhere. Since the area under the curve must be equal to 1, the length of the interval determines the height of the curve\n",
        "\n",
        "[link to the \"numpy.random.uniform\" library](https://numpy.org/doc/stable/reference/random/generated/numpy.random.uniform.html)\n"
      ]
    },
    {
      "cell_type": "code",
      "metadata": {
        "id": "PLU74FfUQzB6",
        "colab_type": "code",
        "colab": {}
      },
      "source": [
        "# 7\n",
        "# this function draw 100 samples from the uniform distibution\n",
        "s = np.random.uniform(-1,0,100)\n"
      ],
      "execution_count": null,
      "outputs": []
    },
    {
      "cell_type": "code",
      "metadata": {
        "id": "16VDxHjXRR2z",
        "colab_type": "code",
        "colab": {
          "base_uri": "https://localhost:8080/",
          "height": 34
        },
        "outputId": "a5e571b5-6103-436b-de4d-585b89afa945"
      },
      "source": [
        "#8 \n",
        "# need to make sure that all of the samples are greater equal than -1\n",
        "np.all(s>=-1)"
      ],
      "execution_count": null,
      "outputs": [
        {
          "output_type": "execute_result",
          "data": {
            "text/plain": [
              "True"
            ]
          },
          "metadata": {
            "tags": []
          },
          "execution_count": 54
        }
      ]
    },
    {
      "cell_type": "code",
      "metadata": {
        "id": "qItSFrvYRH1r",
        "colab_type": "code",
        "colab": {
          "base_uri": "https://localhost:8080/",
          "height": 34
        },
        "outputId": "5a64ceec-1e69-4e91-9cd3-164345be9156"
      },
      "source": [
        "#9\n",
        "# need to make sure that all of the samples are less than 0 \n",
        "np.all(s<0)"
      ],
      "execution_count": null,
      "outputs": [
        {
          "output_type": "execute_result",
          "data": {
            "text/plain": [
              "True"
            ]
          },
          "metadata": {
            "tags": []
          },
          "execution_count": 57
        }
      ]
    },
    {
      "cell_type": "markdown",
      "metadata": {
        "id": "T7r8uctARfFx",
        "colab_type": "text"
      },
      "source": [
        "\n",
        "\n"
      ]
    },
    {
      "cell_type": "code",
      "metadata": {
        "id": "McNPV_zjRgMz",
        "colab_type": "code",
        "colab": {
          "base_uri": "https://localhost:8080/",
          "height": 265
        },
        "outputId": "090b939a-4c0c-4560-9136-93903f525e8d"
      },
      "source": [
        "#10\n",
        "# Display the histogram of the samples, \n",
        "# along with the probability density function:\n",
        "\n",
        "\n",
        "count, bins, ignored = plt.hist(s, 15, density=True)\n",
        "plt.plot(bins, np.ones_like(bins), linewidth=2, color='r')\n",
        "plt.show()"
      ],
      "execution_count": null,
      "outputs": [
        {
          "output_type": "display_data",
          "data": {
            "image/png": "[encoded data removed]",
            "text/plain": [
              "<Figure size 432x288 with 1 Axes>"
            ]
          },
          "metadata": {
            "tags": [],
            "needs_background": "light"
          }
        }
      ]
    },
    {
      "cell_type": "markdown",
      "metadata": {
        "id": "55EIggoiRzcm",
        "colab_type": "text"
      },
      "source": [
        "# 2. Normal Distribution"
      ]
    },
    {
      "cell_type": "markdown",
      "metadata": {
        "id": "_nJPADrgR8J2",
        "colab_type": "text"
      },
      "source": [
        "![alt text](https://thumbs.gfycat.com/AliveIncredibleElectriceel-size_restricted.gif)\n",
        "\n",
        "\n",
        "Normal Distribution, also known as Gaussian distribution, is ubiquitous in Data Science. You will encounter it at many places especially in topics of statistical inference. It is one of the assumptions of many data science algorithms too.\n",
        "\n",
        "The equation for this distribution is : \n",
        "\n",
        "![alt text](https://res.cloudinary.com/dyd911kmh/image/upload/f_auto,q_auto:best/v1539784816/output_15_0_jv4dw1.png)\n",
        "\n",
        "Below is the figure describing what the distribution looks like:\n",
        "\n",
        "\n",
        "![alt text](https://res.cloudinary.com/dyd911kmh/image/upload/f_auto,q_auto:best/v1539784816/output_17_0_rlgbfo.png)\n",
        "\n",
        "[link to the \"numpy.random.normal\" library](https://numpy.org/doc/stable/reference/random/generated/numpy.random.normal.html)"
      ]
    },
    {
      "cell_type": "code",
      "metadata": {
        "id": "E5BP6tuSR3VC",
        "colab_type": "code",
        "colab": {}
      },
      "source": [
        "#11\n",
        "#mean and standard deviations\n",
        "mu, sigma = 0, 2\n",
        "s = np.random.normal(mu, sigma, 100)"
      ],
      "execution_count": null,
      "outputs": []
    },
    {
      "cell_type": "code",
      "metadata": {
        "id": "ACCgLgK1sXdD",
        "colab_type": "code",
        "colab": {
          "base_uri": "https://localhost:8080/",
          "height": 265
        },
        "outputId": "ce908d60-3576-419a-ec41-0d38e4753b72"
      },
      "source": [
        "#12\n",
        "# Create the bins and histogram\n",
        "count, bins, ignored = plt.hist(s, 20, density=True)\n",
        "# Plot the distribution curve\n",
        "plt.plot(bins, 1/(sigma * np.sqrt(2 * np.pi)) *\n",
        "    np.exp( - (bins - mu)**2 / (2 * sigma**2) ),       linewidth=3, color='y')\n",
        "plt.show()"
      ],
      "execution_count": null,
      "outputs": [
        {
          "output_type": "display_data",
          "data": {
            "image/png": "[encoded data removed]",
            "text/plain": [
              "<Figure size 432x288 with 1 Axes>"
            ]
          },
          "metadata": {
            "tags": [],
            "needs_background": "light"
          }
        }
      ]
    },
    {
      "cell_type": "markdown",
      "metadata": {
        "id": "Z6hX-DU4ub4u",
        "colab_type": "text"
      },
      "source": [
        "# 3. Binomial Distribution"
      ]
    },
    {
      "cell_type": "markdown",
      "metadata": {
        "id": "EcT6vwpaukfo",
        "colab_type": "text"
      },
      "source": [
        "The binomial distribution is the probability distribution of a sequence of experiments where each experiment produces a binary outcome and where each of the outcomes is independent of all the others.\n",
        "\n",
        "![alt text](https://media1.giphy.com/media/a8TIlyVS7JixO/200.gif)\n",
        "\n",
        "The binomial distribution model deals with finding the probability of success of an event which has *only* **two** possible outcomes in a series of experiments. For example, tossing of a coin always gives a head or a tail. The probability of finding exactly 3 heads in tossing a coin repeatedly for 10 times is estimated during the binomial distribution.\n",
        "\n",
        "We use the seaborn python library which has in-built functions to create such probability distribution graphs. Also, the scipy package helps is creating the binomial distribution.\n"
      ]
    },
    {
      "cell_type": "code",
      "metadata": {
        "id": "8sVX7tDPsYJY",
        "colab_type": "code",
        "colab": {
          "base_uri": "https://localhost:8080/",
          "height": 441
        },
        "outputId": "3c4212d6-9a7b-4cb7-8695-76f834b22140"
      },
      "source": [
        "#13\n",
        "# Input variables\n",
        "# Number of trials\n",
        "trials = 1000\n",
        "# Number of independent experiments in each trial\n",
        "n = 10\n",
        "# Probability of success for each experiment\n",
        "p = 0.5\n",
        "# Function that runs our coin toss trials\n",
        "# heads is a list of the number of successes from each trial of n experiments\n",
        "def run_binom(trials, n, p):\n",
        "    heads = []\n",
        "    for i in range(trials):\n",
        "        tosses = [np.random.random() for i in range(n)]\n",
        "        heads.append(len([i for i in tosses if i>=0.50]))\n",
        "    return heads\n",
        "# Run the function\n",
        "heads = run_binom(trials, n, p)\n",
        "# Plot the results as a histogram\n",
        "fig, ax = plt.subplots(figsize=(14,7))\n",
        "ax = sns.distplot(heads, bins=11, label='simulation results')\n",
        "ax.set_xlabel(\"Number of Heads\",fontsize=16)\n",
        "ax.set_ylabel(\"Frequency\",fontsize=16)"
      ],
      "execution_count": null,
      "outputs": [
        {
          "output_type": "execute_result",
          "data": {
            "text/plain": [
              "Text(0, 0.5, 'Frequency')"
            ]
          },
          "metadata": {
            "tags": []
          },
          "execution_count": 72
        },
        {
          "output_type": "display_data",
          "data": {
            "image/png": "[encoded data removed]",
            "text/plain": [
              "<Figure size 1008x504 with 1 Axes>"
            ]
          },
          "metadata": {
            "tags": [],
            "needs_background": "light"
          }
        }
      ]
    },
    {
      "cell_type": "markdown",
      "metadata": {
        "id": "pLFvnQk-AQNF",
        "colab_type": "text"
      },
      "source": [
        "### **Some Experiments**\n",
        "\n",
        "Follow the same approach to generate bionomial distribution with \n",
        "```\n",
        "numpy.random.binomial\n",
        "```\n",
        "and compare your results with the generated distribution. \n",
        "\n"
      ]
    },
    {
      "cell_type": "code",
      "metadata": {
        "id": "TuYc6NTHCWyk",
        "colab_type": "code",
        "colab": {}
      },
      "source": [
        "#14"
      ],
      "execution_count": null,
      "outputs": []
    },
    {
      "cell_type": "markdown",
      "metadata": {
        "id": "fAI6VWRrwh2L",
        "colab_type": "text"
      },
      "source": [
        "# **Conditional Probability**\n",
        "\n"
      ]
    },
    {
      "cell_type": "markdown",
      "metadata": {
        "id": "OsFst_BsJD3L",
        "colab_type": "text"
      },
      "source": [
        "In Probability Theory, conditional probability is a measure of the probability of an event occurring given that one more another event occurred. To be more specific, P(B|A) implies the probability of B when A has occurred.\n",
        "\n",
        "\n",
        "![alt text](https://miro.medium.com/max/604/1*AjqF_Z63Kw5fNiKfjOH8pA.png)\n",
        "![alt text](https://miro.medium.com/max/1400/1*u39ZOo7FIBOQRZduALNiEA.png)"
      ]
    },
    {
      "cell_type": "markdown",
      "metadata": {
        "id": "V5LXa5KriaiV",
        "colab_type": "text"
      },
      "source": [
        "It is used to estimate an unknown decision. For all given data, the class of which class is more likely is selected among all hypotheses.\n",
        "\n",
        "![alt text](https://miro.medium.com/max/1400/1*F-z4uCMo6eGsenjTIGclnA.png)\n",
        "\n",
        "If you didn’t understand why the denominator is ignored in the formula don’t worry the following example will clear your mind.\n",
        "\n",
        "Ex:\n",
        "\n",
        ">we have two hypothesis: \n",
        "*   the patient has cancer\n",
        "*   the patient is healthy\n",
        "\n",
        "**now we want to use the above formula to calculate the probability of having cancer or being healthy**\n",
        "\n",
        "1. The probability of a patient who diagnosed as cancer, and test result is also cancer(+) : P(class=+|cancer)=0.98\n",
        "\n",
        "2. The probability of a patient who diagnosed as not cancer, and test result is also not cancer( — ) : P(class= — |_cancer_)=0.97 \n",
        "\n",
        "3. The rate of patient who is diagnosed as cancer: P(cancer) = 0.008 \n",
        "\n",
        "\n",
        "*According to the given constraints, does a patient whose test result is positive, belongs to cancer class or not cancer(_cancer_) class?*\n",
        "\n",
        "> we can translate this question to: how much is the probability of having cancer given data and how much is the probability of being healthy\n",
        "\n",
        "Now we need to calculate the probability of each one of the above elements:\n",
        "\n",
        "![alt text](https://miro.medium.com/max/1400/1*80VOtHryVI39yyO8Wy7BeA.png)\n",
        "\n",
        "P(_cancer_) = 1- P(cancer)\n",
        "so;\n",
        "P(_cancer_) = 1–0.008 = 0.992\n",
        "\n",
        "P(cancer|class=+) =(0.98*0.008)/P(class=+) = 0.008/P(class=+)\n",
        "\n",
        "P(_cancer_|class =+) = 0.03*0.992/P(class=+)=0.02976/P(class=+)\n",
        "Since 0.02976 greater than 0.008, P(?|class=+)=_cancer_\n",
        "\n",
        "\n",
        "We ignored P(class=+) because it is common constant for both of the situation. Even if we include the P(class=+) into calculation, the result won’t change."
      ]
    },
    {
      "cell_type": "markdown",
      "metadata": {
        "id": "jGRv8iA_Gosi",
        "colab_type": "text"
      },
      "source": [
        "So, how we can use this sound mathematical theorem for classification problem? \n",
        "\n",
        "**The answer is Naive Bayes Classifier**\n"
      ]
    },
    {
      "cell_type": "markdown",
      "metadata": {
        "id": "wuLLtQMQG-A4",
        "colab_type": "text"
      },
      "source": [
        "## **Naive Bayes Classifier**\n"
      ]
    },
    {
      "cell_type": "markdown",
      "metadata": {
        "id": "k2GY6OyEHFeF",
        "colab_type": "text"
      },
      "source": [
        "Now that we have our data X, we can find the class label y using the bayes theorem ![alt text](https://miro.medium.com/max/968/1*Gb2Ifjn1olE5ML6mqY5WNQ.png)\n",
        "\n",
        "The variable y is the class variable and Variable X represent the parameters/features. X is given as, *X = (X1, X2, ..., Xn)*\n",
        "Here x_1,x_2….x_n represent the features of our data for example for Iris dataset X_1 is the sepal length in cm, X_2 is the sepal width in cm and so on...\n",
        "\n",
        "By substituting for X and expanding using the chain rule we get\n",
        "![alt text](https://miro.medium.com/max/1400/1*y1pZM0oYjQfMJt0rDX-REA.png)\n",
        "\n",
        "Now, you can obtain the values for each by looking at the dataset and substitute them into the equation. For all entries in the dataset, the denominator does not change, it remain static. Therefore, the denominator can be removed and a proportionality can be introduced.\n",
        "\n",
        "![alt text](https://miro.medium.com/max/1400/1*h31gli0qTasplUm6tJJ7ig.png)\n",
        "\n",
        "By calculating the Probability of each class label for the data, we will choose the class label with highest probability. \n",
        "\n"
      ]
    },
    {
      "cell_type": "markdown",
      "metadata": {
        "id": "McLy9IzLK_CQ",
        "colab_type": "text"
      },
      "source": [
        "**Here is an example of Naive bayes classifier using SKlearn.**"
      ]
    },
    {
      "cell_type": "code",
      "metadata": {
        "id": "c1mYdakNHzX9",
        "colab_type": "code",
        "colab": {}
      },
      "source": [
        "from sklearn.datasets import load_iris\n",
        "# importing iris dataset\n",
        "from sklearn.model_selection import train_test_split\n",
        "from sklearn.naive_bayes import GaussianNB\n",
        "# importing gaussian naive bayes classifier....>"
      ],
      "execution_count": 3,
      "outputs": []
    },
    {
      "cell_type": "markdown",
      "metadata": {
        "id": "wXJYTpfdLXbu",
        "colab_type": "text"
      },
      "source": [
        "what is Gaussian Naive Bayes classifier?\n",
        "\n",
        "When the predictors take up a continuous value and are not discrete, we assume that these values are sampled from a gaussian distribution.\n",
        "Since the way the values are present in the dataset changes, the formula for conditional probability changes to,\n",
        "\n",
        "![alt text](https://miro.medium.com/max/1400/1*0If5Mey7FnW_RktMM5BkaQ.png)"
      ]
    },
    {
      "cell_type": "code",
      "metadata": {
        "id": "fQXQ1_eVLl-s",
        "colab_type": "code",
        "colab": {
          "base_uri": "https://localhost:8080/",
          "height": 34
        },
        "outputId": "60ca1aaf-e969-4054-c6bf-6b1bdf231760"
      },
      "source": [
        "X, y = load_iris(return_X_y=True)\n",
        "X_train, X_test, y_train, y_test = train_test_split(X, y, test_size=0.5, random_state=0)\n",
        "gnb = GaussianNB()\n",
        "y_pred = gnb.fit(X_train, y_train).predict(X_test)\n",
        "print(\"Number of mislabeled points out of a total %d points : %d\"\n",
        "      % (X_test.shape[0], (y_test != y_pred).sum()))"
      ],
      "execution_count": 4,
      "outputs": [
        {
          "output_type": "stream",
          "text": [
            "Number of mislabeled points out of a total 75 points : 4\n"
          ],
          "name": "stdout"
        }
      ]
    },
    {
      "cell_type": "code",
      "metadata": {
        "id": "EUEQc-xuLq7q",
        "colab_type": "code",
        "colab": {
          "base_uri": "https://localhost:8080/",
          "height": 85
        },
        "outputId": "20ff7974-0e8e-404d-94e0-d53cb62f53d4"
      },
      "source": [
        "y_pred\n"
      ],
      "execution_count": 5,
      "outputs": [
        {
          "output_type": "execute_result",
          "data": {
            "text/plain": [
              "array([2, 1, 0, 2, 0, 2, 0, 1, 1, 1, 1, 1, 1, 1, 1, 0, 1, 1, 0, 0, 2, 1,\n",
              "       0, 0, 2, 0, 0, 1, 1, 0, 2, 1, 0, 2, 2, 1, 0, 1, 1, 1, 2, 0, 2, 0,\n",
              "       0, 1, 2, 2, 1, 2, 1, 2, 1, 1, 2, 1, 1, 2, 1, 2, 1, 0, 2, 1, 1, 1,\n",
              "       1, 2, 0, 0, 2, 1, 0, 0, 1])"
            ]
          },
          "metadata": {
            "tags": []
          },
          "execution_count": 5
        }
      ]
    },
    {
      "cell_type": "code",
      "metadata": {
        "id": "6ZG64FakL9It",
        "colab_type": "code",
        "colab": {
          "base_uri": "https://localhost:8080/",
          "height": 85
        },
        "outputId": "bb6addda-3f5b-42c4-d198-14f7083e28b4"
      },
      "source": [
        "y_test\n"
      ],
      "execution_count": 6,
      "outputs": [
        {
          "output_type": "execute_result",
          "data": {
            "text/plain": [
              "array([2, 1, 0, 2, 0, 2, 0, 1, 1, 1, 2, 1, 1, 1, 1, 0, 1, 1, 0, 0, 2, 1,\n",
              "       0, 0, 2, 0, 0, 1, 1, 0, 2, 1, 0, 2, 2, 1, 0, 1, 1, 1, 2, 0, 2, 0,\n",
              "       0, 1, 2, 2, 2, 2, 1, 2, 1, 1, 2, 2, 2, 2, 1, 2, 1, 0, 2, 1, 1, 1,\n",
              "       1, 2, 0, 0, 2, 1, 0, 0, 1])"
            ]
          },
          "metadata": {
            "tags": []
          },
          "execution_count": 6
        }
      ]
    },
    {
      "cell_type": "code",
      "metadata": {
        "id": "1VB9PYQfL_bp",
        "colab_type": "code",
        "colab": {}
      },
      "source": [
        ""
      ],
      "execution_count": null,
      "outputs": []
    }
  ]
}