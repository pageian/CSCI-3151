{
 "cells": [
  {
   "cell_type": "code",
   "execution_count": 2,
   "metadata": {},
   "outputs": [
    {
     "name": "stdout",
     "output_type": "stream",
     "text": [
      "P(Not Spam): 0.7611875136433093\n",
      "P(Spam): 0.23881248635669067\n",
      "\n",
      "P(Word | Not Spam): 1.748486173951294e+82\n",
      "P(Word | Spam): 3.7295051177264593e+68\n",
      "\n",
      "P(Not Spam | Word): 304.9490967517828\n",
      "P(Spam | Word): 2.040712059299076e-12\n"
     ]
    }
   ],
   "source": [
    "'''\n",
    "    Naive Bayes Classifier for spam filtering\n",
    "'''\n",
    "import pandas as pd\n",
    "import numpy as np\n",
    "import matplotlib.pyplot as plt\n",
    "from sklearn.model_selection import train_test_split\n",
    "from sklearn.naive_bayes import GaussianNB\n",
    "from sklearn.feature_extraction.text import CountVectorizer\n",
    "\n",
    "\n",
    "if __name__ == \"__main__\":\n",
    "\n",
    "    # get file data\n",
    "    data_file = pd.read_csv(\"data-sets/emails.csv\")\n",
    "    shuffled_data = data_file.sample(frac=1)\n",
    "    X = shuffled_data.iloc[1:,0] # Features\n",
    "    y = shuffled_data.iloc[1:,1] # Target variable\n",
    "\n",
    "    # vectorize and split data\n",
    "    vectorizer = CountVectorizer()\n",
    "    X = vectorizer.fit_transform(X)\n",
    "    feature_names = vectorizer.get_feature_names()\n",
    "    X_train, X_test, y_train, y_test = train_test_split(X.toarray(), y, test_size=0.2, random_state=0)\n",
    "    tot_train = np.append(X_train, y_train[:,None], axis=1)\n",
    "\n",
    "    # train model\n",
    "    gnb = GaussianNB()\n",
    "    gnb.fit(X_train, y_train)\n",
    "    y_pred = gnb.predict(X_test)\n",
    "   \n",
    "    print(\"P(Not Spam): \" + str(gnb.class_prior_[0]))\n",
    "    print(\"P(Spam): \" + str(gnb.class_prior_[1]) + \"\\n\")\n",
    "\n",
    "    # separating spam and non-spam instances\n",
    "    not_spam = tot_train[np.where(tot_train[:, -1] == 0), :-1][0]\n",
    "    spam = tot_train[np.where(tot_train[:, -1] == 1), :-1][0]\n",
    "\n",
    "    # smoothing probs\n",
    "    not_spam = not_spam + 1\n",
    "    spam = spam + 1\n",
    "    X_train_smooth = X_train + 1\n",
    "\n",
    "    # calculating conditional prob elems\n",
    "    feature_prob = (X_train_smooth.sum(axis=0)) / len(X_train[:,1])\n",
    "    feature_prob_spam = (spam.sum(axis=0) / len(spam[:,1]))\n",
    "    feature_prob_not_spam = (not_spam.sum(axis=0) / len(not_spam[:,1]))\n",
    "\n",
    "    # printing results\n",
    "    print(\"P(Word | Not Spam): \" + str(np.prod(feature_prob_not_spam)))\n",
    "    print(\"P(Word | Spam): \" + str(np.prod(feature_prob_spam)) + \"\\n\")\n",
    "    print(\"P(Not Spam | Word): \" + str((np.prod(feature_prob_not_spam) * gnb.class_prior_[0]) / np.prod(feature_prob)))\n",
    "    print(\"P(Spam | Word): \" + str((np.prod(feature_prob_spam) * gnb.class_prior_[1]) / np.prod(feature_prob)))"
   ]
  },
  {
   "cell_type": "code",
   "execution_count": null,
   "metadata": {},
   "outputs": [],
   "source": []
  }
 ],
 "metadata": {
  "kernelspec": {
   "display_name": "Python 3",
   "language": "python",
   "name": "python3"
  },
  "language_info": {
   "codemirror_mode": {
    "name": "ipython",
    "version": 3
   },
   "file_extension": ".py",
   "mimetype": "text/x-python",
   "name": "python",
   "nbconvert_exporter": "python",
   "pygments_lexer": "ipython3",
   "version": "3.7.2"
  }
 },
 "nbformat": 4,
 "nbformat_minor": 4
}
