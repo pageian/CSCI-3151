{
 "cells": [
  {
   "cell_type": "code",
   "execution_count": 1,
   "metadata": {},
   "outputs": [
    {
     "data": {
      "image/png": "[encoded data removed]",
      "text/plain": [
       "<Figure size 432x288 with 1 Axes>"
      ]
     },
     "metadata": {
      "needs_background": "light"
     },
     "output_type": "display_data"
    }
   ],
   "source": [
    "'''\n",
    "    Gaussian Mixture Model for red blood cell counts in sample\n",
    "    \n",
    "    Males:\n",
    "        Mean - 5.3m cells/uL\n",
    "        STD  - 0.35m cells/uL\n",
    "\n",
    "    Females:\n",
    "        Mean - 4.6m cells/uL\n",
    "        STD  - 0.2m cells/uL\n",
    "\n",
    "    Only 40% of donations made by men\n",
    "    Generate pop of 10,000\n",
    "'''\n",
    "\n",
    "import numpy as np\n",
    "import matplotlib.pyplot as plt\n",
    "\n",
    "# Variable Definitions\n",
    "male_mu    = 5.3\n",
    "male_std   = 0.35\n",
    "female_mu  = 4.6\n",
    "female_std = 0.2\n",
    "\n",
    "male_ratio = 0.4\n",
    "pop_count = 10000\n",
    "\n",
    "# Generate Data\n",
    "male_pop = np.random.normal(male_mu, male_std, int(male_ratio * pop_count))\n",
    "female_pop = np.random.normal(female_mu, female_std, int(pop_count - (male_ratio * pop_count)))\n",
    "\n",
    "# Plot Data\n",
    "plt.hist(male_pop, density=False, color='b', alpha = 0.35, label='Male')\n",
    "plt.hist(female_pop, density=False, color='r', alpha = 0.35, label='Female')\n",
    "plt.legend()\n",
    "plt.xlabel('Million Cells / uL')\n",
    "plt.ylabel('Counts of Indiviuals')\n",
    "\n",
    "plt.show()"
   ]
  },
  {
   "cell_type": "code",
   "execution_count": null,
   "metadata": {},
   "outputs": [],
   "source": []
  }
 ],
 "metadata": {
  "kernelspec": {
   "display_name": "Python 3",
   "language": "python",
   "name": "python3"
  },
  "language_info": {
   "codemirror_mode": {
    "name": "ipython",
    "version": 3
   },
   "file_extension": ".py",
   "mimetype": "text/x-python",
   "name": "python",
   "nbconvert_exporter": "python",
   "pygments_lexer": "ipython3",
   "version": "3.7.2"
  }
 },
 "nbformat": 4,
 "nbformat_minor": 4
}
