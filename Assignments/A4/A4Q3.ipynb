{
 "cells": [
  {
   "cell_type": "code",
   "execution_count": 2,
   "metadata": {
    "colab": {
     "base_uri": "https://localhost:8080/",
     "height": 265
    },
    "colab_type": "code",
    "id": "1-ZlzMFHB0Qk",
    "outputId": "5d914935-29f4-48c1-b1a1-22bc88ccd615"
   },
   "outputs": [
    {
     "data": {
      "image/png": "[encoded data removed]",
      "text/plain": [
       "<Figure size 432x288 with 1 Axes>"
      ]
     },
     "metadata": {
      "needs_background": "light"
     },
     "output_type": "display_data"
    }
   ],
   "source": [
    "from tensorflow.keras.models import Sequential\n",
    "from tensorflow.keras.layers import Dense, SimpleRNN\n",
    "import pandas as pd\n",
    "import numpy as np\n",
    "import matplotlib.pyplot as plt\n",
    "\n",
    "def putAsMatrix(data, length):\n",
    " X, Y =[], []\n",
    " for i in range(len(data)-length):\n",
    "  d=i+length  \n",
    "  X.append(data[i:d,])\n",
    "  Y.append(data[d,])\n",
    " return np.array(X), np.array(Y)\n",
    "\n",
    "length = 4\n",
    "N = 5000    \n",
    "Tp = 800    \n",
    "\n",
    "t=np.arange(0,N)\n",
    "x=(np.sin(0.02*t)+2*np.random.rand(N))*(t/N)\n",
    "df = pd.DataFrame(x)\n",
    "df.head()\n",
    "\n",
    "plt.plot(df)\n",
    "plt.show()\n",
    "\n",
    "values=df.values\n",
    "train,test = values[0:Tp,:], values[Tp:N,:]\n",
    "\n",
    "# add length elements into train and test\n",
    "test = np.append(test,np.repeat(test[-1,],length))\n",
    "train = np.append(train,np.repeat(train[-1,],length))\n",
    " \n",
    "trainX,trainY =putAsMatrix(train,length)\n",
    "testX,testY =putAsMatrix(test,length)\n",
    "trainX = np.reshape(trainX, (trainX.shape[0], 1, trainX.shape[1]))\n",
    "testX = np.reshape(testX, (testX.shape[0], 1, testX.shape[1]))\n",
    "\n"
   ]
  },
  {
   "cell_type": "code",
   "execution_count": 5,
   "metadata": {
    "colab": {},
    "colab_type": "code",
    "id": "XF5N87_aB7Ud"
   },
   "outputs": [
    {
     "name": "stdout",
     "output_type": "stream",
     "text": [
      "Epoch 1/50\n",
      "800/800 [==============================] - 1s 2ms/sample - loss: 0.0172\n",
      "Epoch 2/50\n",
      "800/800 [==============================] - 0s 106us/sample - loss: 0.0172\n",
      "Epoch 3/50\n",
      "800/800 [==============================] - 0s 101us/sample - loss: 0.0172\n",
      "Epoch 4/50\n",
      "800/800 [==============================] - 0s 103us/sample - loss: 0.0172\n",
      "Epoch 5/50\n",
      "800/800 [==============================] - 0s 104us/sample - loss: 0.0172\n",
      "Epoch 6/50\n",
      "800/800 [==============================] - 0s 98us/sample - loss: 0.0172\n",
      "Epoch 7/50\n",
      "800/800 [==============================] - 0s 98us/sample - loss: 0.0172\n",
      "Epoch 8/50\n",
      "800/800 [==============================] - 0s 100us/sample - loss: 0.0172\n",
      "Epoch 9/50\n",
      "800/800 [==============================] - 0s 102us/sample - loss: 0.0172\n",
      "Epoch 10/50\n",
      "800/800 [==============================] - 0s 95us/sample - loss: 0.0172\n",
      "Epoch 11/50\n",
      "800/800 [==============================] - 0s 102us/sample - loss: 0.0172\n",
      "Epoch 12/50\n",
      "800/800 [==============================] - 0s 97us/sample - loss: 0.0172\n",
      "Epoch 13/50\n",
      "800/800 [==============================] - 0s 96us/sample - loss: 0.0172\n",
      "Epoch 14/50\n",
      "800/800 [==============================] - 0s 99us/sample - loss: 0.0172\n",
      "Epoch 15/50\n",
      "800/800 [==============================] - 0s 100us/sample - loss: 0.0172\n",
      "Epoch 16/50\n",
      "800/800 [==============================] - 0s 94us/sample - loss: 0.0172\n",
      "Epoch 17/50\n",
      "800/800 [==============================] - 0s 100us/sample - loss: 0.0172\n",
      "Epoch 18/50\n",
      "800/800 [==============================] - 0s 97us/sample - loss: 0.0172\n",
      "Epoch 19/50\n",
      "800/800 [==============================] - 0s 99us/sample - loss: 0.0172\n",
      "Epoch 20/50\n",
      "800/800 [==============================] - 0s 97us/sample - loss: 0.0172\n",
      "Epoch 21/50\n",
      "800/800 [==============================] - 0s 95us/sample - loss: 0.0172\n",
      "Epoch 22/50\n",
      "800/800 [==============================] - 0s 101us/sample - loss: 0.0172\n",
      "Epoch 23/50\n",
      "800/800 [==============================] - 0s 98us/sample - loss: 0.0172\n",
      "Epoch 24/50\n",
      "800/800 [==============================] - 0s 98us/sample - loss: 0.0172\n",
      "Epoch 25/50\n",
      "800/800 [==============================] - 0s 100us/sample - loss: 0.0172\n",
      "Epoch 26/50\n",
      "800/800 [==============================] - 0s 102us/sample - loss: 0.0172\n",
      "Epoch 27/50\n",
      "800/800 [==============================] - 0s 102us/sample - loss: 0.0172\n",
      "Epoch 28/50\n",
      "800/800 [==============================] - 0s 93us/sample - loss: 0.0172\n",
      "Epoch 29/50\n",
      "800/800 [==============================] - 0s 99us/sample - loss: 0.0172\n",
      "Epoch 30/50\n",
      "800/800 [==============================] - 0s 101us/sample - loss: 0.0172\n",
      "Epoch 31/50\n",
      "800/800 [==============================] - 0s 97us/sample - loss: 0.0172\n",
      "Epoch 32/50\n",
      "800/800 [==============================] - 0s 100us/sample - loss: 0.0172\n",
      "Epoch 33/50\n",
      "800/800 [==============================] - 0s 98us/sample - loss: 0.0172\n",
      "Epoch 34/50\n",
      "800/800 [==============================] - 0s 104us/sample - loss: 0.0172\n",
      "Epoch 35/50\n",
      "800/800 [==============================] - 0s 101us/sample - loss: 0.0172\n",
      "Epoch 36/50\n",
      "800/800 [==============================] - 0s 98us/sample - loss: 0.0172\n",
      "Epoch 37/50\n",
      "800/800 [==============================] - 0s 101us/sample - loss: 0.0172\n",
      "Epoch 38/50\n",
      "800/800 [==============================] - 0s 103us/sample - loss: 0.0172\n",
      "Epoch 39/50\n",
      "800/800 [==============================] - 0s 98us/sample - loss: 0.0172\n",
      "Epoch 40/50\n",
      "800/800 [==============================] - 0s 96us/sample - loss: 0.0172\n",
      "Epoch 41/50\n",
      "800/800 [==============================] - 0s 104us/sample - loss: 0.0172\n",
      "Epoch 42/50\n",
      "800/800 [==============================] - 0s 103us/sample - loss: 0.0172\n",
      "Epoch 43/50\n",
      "800/800 [==============================] - 0s 111us/sample - loss: 0.0172\n",
      "Epoch 44/50\n",
      "800/800 [==============================] - 0s 109us/sample - loss: 0.0172\n",
      "Epoch 45/50\n",
      "800/800 [==============================] - 0s 108us/sample - loss: 0.0172\n",
      "Epoch 46/50\n",
      "800/800 [==============================] - 0s 103us/sample - loss: 0.0172\n",
      "Epoch 47/50\n",
      "800/800 [==============================] - 0s 107us/sample - loss: 0.0172\n",
      "Epoch 48/50\n",
      "800/800 [==============================] - 0s 106us/sample - loss: 0.0172\n",
      "Epoch 49/50\n",
      "800/800 [==============================] - 0s 111us/sample - loss: 0.0172\n",
      "Epoch 50/50\n",
      "800/800 [==============================] - 0s 108us/sample - loss: 0.0172\n",
      "Model: \"sequential_2\"\n",
      "_________________________________________________________________\n",
      "Layer (type)                 Output Shape              Param #   \n",
      "=================================================================\n",
      "dense_3 (Dense)              multiple                  2500      \n",
      "_________________________________________________________________\n",
      "dense_4 (Dense)              multiple                  100200    \n",
      "_________________________________________________________________\n",
      "dense_5 (Dense)              multiple                  20100     \n",
      "=================================================================\n",
      "Total params: 122,800\n",
      "Trainable params: 122,800\n",
      "Non-trainable params: 0\n",
      "_________________________________________________________________\n",
      "0.017183418575732502\n"
     ]
    },
    {
     "ename": "ValueError",
     "evalue": "x and y can be no greater than 2-D, but have shapes (5000,) and (5000, 1, 100)",
     "output_type": "error",
     "traceback": [
      "\u001b[0;31m---------------------------------------------------------------------------\u001b[0m",
      "\u001b[0;31mValueError\u001b[0m                                Traceback (most recent call last)",
      "\u001b[0;32m<ipython-input-5-bf18ce40996e>\u001b[0m in \u001b[0;36m<module>\u001b[0;34m\u001b[0m\n\u001b[1;32m     23\u001b[0m \u001b[0mindex\u001b[0m \u001b[0;34m=\u001b[0m \u001b[0mdf\u001b[0m\u001b[0;34m.\u001b[0m\u001b[0mindex\u001b[0m\u001b[0;34m.\u001b[0m\u001b[0mvalues\u001b[0m\u001b[0;34m\u001b[0m\u001b[0;34m\u001b[0m\u001b[0m\n\u001b[1;32m     24\u001b[0m \u001b[0mplt\u001b[0m\u001b[0;34m.\u001b[0m\u001b[0mplot\u001b[0m\u001b[0;34m(\u001b[0m\u001b[0mindex\u001b[0m\u001b[0;34m,\u001b[0m\u001b[0mdf\u001b[0m\u001b[0;34m)\u001b[0m\u001b[0;34m\u001b[0m\u001b[0;34m\u001b[0m\u001b[0m\n\u001b[0;32m---> 25\u001b[0;31m \u001b[0mplt\u001b[0m\u001b[0;34m.\u001b[0m\u001b[0mplot\u001b[0m\u001b[0;34m(\u001b[0m\u001b[0mindex\u001b[0m\u001b[0;34m,\u001b[0m\u001b[0mpredicted\u001b[0m\u001b[0;34m)\u001b[0m\u001b[0;34m\u001b[0m\u001b[0;34m\u001b[0m\u001b[0m\n\u001b[0m\u001b[1;32m     26\u001b[0m \u001b[0mplt\u001b[0m\u001b[0;34m.\u001b[0m\u001b[0maxvline\u001b[0m\u001b[0;34m(\u001b[0m\u001b[0mdf\u001b[0m\u001b[0;34m.\u001b[0m\u001b[0mindex\u001b[0m\u001b[0;34m[\u001b[0m\u001b[0mTp\u001b[0m\u001b[0;34m]\u001b[0m\u001b[0;34m,\u001b[0m \u001b[0mc\u001b[0m\u001b[0;34m=\u001b[0m\u001b[0;34m\"r\"\u001b[0m\u001b[0;34m)\u001b[0m\u001b[0;34m\u001b[0m\u001b[0;34m\u001b[0m\u001b[0m\n\u001b[1;32m     27\u001b[0m \u001b[0mplt\u001b[0m\u001b[0;34m.\u001b[0m\u001b[0mshow\u001b[0m\u001b[0;34m(\u001b[0m\u001b[0;34m)\u001b[0m\u001b[0;34m\u001b[0m\u001b[0;34m\u001b[0m\u001b[0m\n",
      "\u001b[0;32m~/.local/lib/python3.6/site-packages/matplotlib/pyplot.py\u001b[0m in \u001b[0;36mplot\u001b[0;34m(scalex, scaley, data, *args, **kwargs)\u001b[0m\n\u001b[1;32m   2761\u001b[0m     return gca().plot(\n\u001b[1;32m   2762\u001b[0m         *args, scalex=scalex, scaley=scaley, **({\"data\": data} if data\n\u001b[0;32m-> 2763\u001b[0;31m         is not None else {}), **kwargs)\n\u001b[0m\u001b[1;32m   2764\u001b[0m \u001b[0;34m\u001b[0m\u001b[0m\n\u001b[1;32m   2765\u001b[0m \u001b[0;34m\u001b[0m\u001b[0m\n",
      "\u001b[0;32m~/.local/lib/python3.6/site-packages/matplotlib/axes/_axes.py\u001b[0m in \u001b[0;36mplot\u001b[0;34m(self, scalex, scaley, data, *args, **kwargs)\u001b[0m\n\u001b[1;32m   1644\u001b[0m         \"\"\"\n\u001b[1;32m   1645\u001b[0m         \u001b[0mkwargs\u001b[0m \u001b[0;34m=\u001b[0m \u001b[0mcbook\u001b[0m\u001b[0;34m.\u001b[0m\u001b[0mnormalize_kwargs\u001b[0m\u001b[0;34m(\u001b[0m\u001b[0mkwargs\u001b[0m\u001b[0;34m,\u001b[0m \u001b[0mmlines\u001b[0m\u001b[0;34m.\u001b[0m\u001b[0mLine2D\u001b[0m\u001b[0;34m)\u001b[0m\u001b[0;34m\u001b[0m\u001b[0;34m\u001b[0m\u001b[0m\n\u001b[0;32m-> 1646\u001b[0;31m         \u001b[0mlines\u001b[0m \u001b[0;34m=\u001b[0m \u001b[0;34m[\u001b[0m\u001b[0;34m*\u001b[0m\u001b[0mself\u001b[0m\u001b[0;34m.\u001b[0m\u001b[0m_get_lines\u001b[0m\u001b[0;34m(\u001b[0m\u001b[0;34m*\u001b[0m\u001b[0margs\u001b[0m\u001b[0;34m,\u001b[0m \u001b[0mdata\u001b[0m\u001b[0;34m=\u001b[0m\u001b[0mdata\u001b[0m\u001b[0;34m,\u001b[0m \u001b[0;34m**\u001b[0m\u001b[0mkwargs\u001b[0m\u001b[0;34m)\u001b[0m\u001b[0;34m]\u001b[0m\u001b[0;34m\u001b[0m\u001b[0;34m\u001b[0m\u001b[0m\n\u001b[0m\u001b[1;32m   1647\u001b[0m         \u001b[0;32mfor\u001b[0m \u001b[0mline\u001b[0m \u001b[0;32min\u001b[0m \u001b[0mlines\u001b[0m\u001b[0;34m:\u001b[0m\u001b[0;34m\u001b[0m\u001b[0;34m\u001b[0m\u001b[0m\n\u001b[1;32m   1648\u001b[0m             \u001b[0mself\u001b[0m\u001b[0;34m.\u001b[0m\u001b[0madd_line\u001b[0m\u001b[0;34m(\u001b[0m\u001b[0mline\u001b[0m\u001b[0;34m)\u001b[0m\u001b[0;34m\u001b[0m\u001b[0;34m\u001b[0m\u001b[0m\n",
      "\u001b[0;32m~/.local/lib/python3.6/site-packages/matplotlib/axes/_base.py\u001b[0m in \u001b[0;36m__call__\u001b[0;34m(self, *args, **kwargs)\u001b[0m\n\u001b[1;32m    214\u001b[0m                 \u001b[0mthis\u001b[0m \u001b[0;34m+=\u001b[0m \u001b[0margs\u001b[0m\u001b[0;34m[\u001b[0m\u001b[0;36m0\u001b[0m\u001b[0;34m]\u001b[0m\u001b[0;34m,\u001b[0m\u001b[0;34m\u001b[0m\u001b[0;34m\u001b[0m\u001b[0m\n\u001b[1;32m    215\u001b[0m                 \u001b[0margs\u001b[0m \u001b[0;34m=\u001b[0m \u001b[0margs\u001b[0m\u001b[0;34m[\u001b[0m\u001b[0;36m1\u001b[0m\u001b[0;34m:\u001b[0m\u001b[0;34m]\u001b[0m\u001b[0;34m\u001b[0m\u001b[0;34m\u001b[0m\u001b[0m\n\u001b[0;32m--> 216\u001b[0;31m             \u001b[0;32myield\u001b[0m \u001b[0;32mfrom\u001b[0m \u001b[0mself\u001b[0m\u001b[0;34m.\u001b[0m\u001b[0m_plot_args\u001b[0m\u001b[0;34m(\u001b[0m\u001b[0mthis\u001b[0m\u001b[0;34m,\u001b[0m \u001b[0mkwargs\u001b[0m\u001b[0;34m)\u001b[0m\u001b[0;34m\u001b[0m\u001b[0;34m\u001b[0m\u001b[0m\n\u001b[0m\u001b[1;32m    217\u001b[0m \u001b[0;34m\u001b[0m\u001b[0m\n\u001b[1;32m    218\u001b[0m     \u001b[0;32mdef\u001b[0m \u001b[0mget_next_color\u001b[0m\u001b[0;34m(\u001b[0m\u001b[0mself\u001b[0m\u001b[0;34m)\u001b[0m\u001b[0;34m:\u001b[0m\u001b[0;34m\u001b[0m\u001b[0;34m\u001b[0m\u001b[0m\n",
      "\u001b[0;32m~/.local/lib/python3.6/site-packages/matplotlib/axes/_base.py\u001b[0m in \u001b[0;36m_plot_args\u001b[0;34m(self, tup, kwargs)\u001b[0m\n\u001b[1;32m    343\u001b[0m                              f\"have shapes {x.shape} and {y.shape}\")\n\u001b[1;32m    344\u001b[0m         \u001b[0;32mif\u001b[0m \u001b[0mx\u001b[0m\u001b[0;34m.\u001b[0m\u001b[0mndim\u001b[0m \u001b[0;34m>\u001b[0m \u001b[0;36m2\u001b[0m \u001b[0;32mor\u001b[0m \u001b[0my\u001b[0m\u001b[0;34m.\u001b[0m\u001b[0mndim\u001b[0m \u001b[0;34m>\u001b[0m \u001b[0;36m2\u001b[0m\u001b[0;34m:\u001b[0m\u001b[0;34m\u001b[0m\u001b[0;34m\u001b[0m\u001b[0m\n\u001b[0;32m--> 345\u001b[0;31m             raise ValueError(f\"x and y can be no greater than 2-D, but have \"\n\u001b[0m\u001b[1;32m    346\u001b[0m                              f\"shapes {x.shape} and {y.shape}\")\n\u001b[1;32m    347\u001b[0m         \u001b[0;32mif\u001b[0m \u001b[0mx\u001b[0m\u001b[0;34m.\u001b[0m\u001b[0mndim\u001b[0m \u001b[0;34m==\u001b[0m \u001b[0;36m1\u001b[0m\u001b[0;34m:\u001b[0m\u001b[0;34m\u001b[0m\u001b[0;34m\u001b[0m\u001b[0m\n",
      "\u001b[0;31mValueError\u001b[0m: x and y can be no greater than 2-D, but have shapes (5000,) and (5000, 1, 100)"
     ]
    },
    {
     "data": {
      "image/png": "[encoded data removed]",
      "text/plain": [
       "<Figure size 432x288 with 1 Axes>"
      ]
     },
     "metadata": {
      "needs_background": "light"
     },
     "output_type": "display_data"
    }
   ],
   "source": [
    "model = Sequential()\n",
    "#Include here the specification of your network\n",
    "#**********************************************\n",
    "#model.add(...)\n",
    "#...\n",
    "#**********************************************\n",
    "model.add(Dense(500, activation='relu'))\n",
    "model.add(Dense(200, activation='relu'))\n",
    "model.add(Dense(100, activation='softmax'))\n",
    "\n",
    "model.compile(loss='mean_squared_error', optimizer='rmsprop')\n",
    "model.fit(trainX,trainY, epochs=50, batch_size=16)\n",
    "model.summary()\n",
    "\n",
    "trainPredict = model.predict(trainX)\n",
    "testPredict= model.predict(testX)\n",
    "predicted=np.concatenate((trainPredict,testPredict),axis=0)\n",
    "\n",
    "trainScore = model.evaluate(trainX, trainY, verbose=0)\n",
    "print(trainScore)\n",
    "\n",
    "#the vertical red line shows the point where testing data starts\n",
    "index = df.index.values\n",
    "plt.plot(index,df)\n",
    "plt.plot(index,predicted)\n",
    "plt.axvline(df.index[Tp], c=\"r\")\n",
    "plt.show()"
   ]
  },
  {
   "cell_type": "code",
   "execution_count": null,
   "metadata": {},
   "outputs": [],
   "source": []
  }
 ],
 "metadata": {
  "colab": {
   "collapsed_sections": [],
   "name": "A4Q3.ipynb",
   "provenance": []
  },
  "kernelspec": {
   "display_name": "Python 3",
   "language": "python",
   "name": "python3"
  },
  "language_info": {
   "codemirror_mode": {
    "name": "ipython",
    "version": 3
   },
   "file_extension": ".py",
   "mimetype": "text/x-python",
   "name": "python",
   "nbconvert_exporter": "python",
   "pygments_lexer": "ipython3",
   "version": "3.6.9"
  }
 },
 "nbformat": 4,
 "nbformat_minor": 1
}
