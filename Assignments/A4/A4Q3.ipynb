{
 "cells": [
  {
   "cell_type": "code",
   "execution_count": 2,
   "metadata": {
    "colab": {
     "base_uri": "https://localhost:8080/",
     "height": 265
    },
    "colab_type": "code",
    "id": "1-ZlzMFHB0Qk",
    "outputId": "5d914935-29f4-48c1-b1a1-22bc88ccd615"
   },
   "outputs": [
    {
     "data": {
      "image/png": "[encoded data removed]",
      "text/plain": [
       "<Figure size 432x288 with 1 Axes>"
      ]
     },
     "metadata": {
      "needs_background": "light"
     },
     "output_type": "display_data"
    }
   ],
   "source": [
    "from tensorflow.keras.models import Sequential\n",
    "from tensorflow.keras.layers import Dense, SimpleRNN\n",
    "import pandas as pd\n",
    "import numpy as np\n",
    "import matplotlib.pyplot as plt\n",
    "\n",
    "def putAsMatrix(data, length):\n",
    " X, Y =[], []\n",
    " for i in range(len(data)-length):\n",
    "  d=i+length  \n",
    "  X.append(data[i:d,])\n",
    "  Y.append(data[d,])\n",
    " return np.array(X), np.array(Y)\n",
    "\n",
    "length = 4\n",
    "N = 5000    \n",
    "Tp = 800    \n",
    "\n",
    "t=np.arange(0,N)\n",
    "x=(np.sin(0.02*t)+2*np.random.rand(N))*(t/N)\n",
    "df = pd.DataFrame(x)\n",
    "df.head()\n",
    "\n",
    "plt.plot(df)\n",
    "plt.show()\n",
    "\n",
    "values=df.values\n",
    "train,test = values[0:Tp,:], values[Tp:N,:]\n",
    "\n",
    "# add length elements into train and test\n",
    "test = np.append(test,np.repeat(test[-1,],length))\n",
    "train = np.append(train,np.repeat(train[-1,],length))\n",
    " \n",
    "trainX,trainY =putAsMatrix(train,length)\n",
    "testX,testY =putAsMatrix(test,length)\n",
    "trainX = np.reshape(trainX, (trainX.shape[0], 1, trainX.shape[1]))\n",
    "testX = np.reshape(testX, (testX.shape[0], 1, testX.shape[1]))\n",
    "\n"
   ]
  },
  {
   "cell_type": "code",
   "execution_count": 6,
   "metadata": {
    "colab": {},
    "colab_type": "code",
    "id": "XF5N87_aB7Ud"
   },
   "outputs": [
    {
     "name": "stdout",
     "output_type": "stream",
     "text": [
      "Epoch 1/50\n",
      "800/800 [==============================] - 0s 254us/sample - loss: 0.0172\n",
      "Epoch 2/50\n",
      "800/800 [==============================] - 0s 107us/sample - loss: 0.0172\n",
      "Epoch 3/50\n",
      "800/800 [==============================] - 0s 103us/sample - loss: 0.0172\n",
      "Epoch 4/50\n",
      "800/800 [==============================] - 0s 104us/sample - loss: 0.0172\n",
      "Epoch 5/50\n",
      "800/800 [==============================] - 0s 100us/sample - loss: 0.0172\n",
      "Epoch 6/50\n",
      "800/800 [==============================] - 0s 104us/sample - loss: 0.0172\n",
      "Epoch 7/50\n",
      "800/800 [==============================] - 0s 101us/sample - loss: 0.0172\n",
      "Epoch 8/50\n",
      "800/800 [==============================] - 0s 105us/sample - loss: 0.0172\n",
      "Epoch 9/50\n",
      "800/800 [==============================] - 0s 102us/sample - loss: 0.0172\n",
      "Epoch 10/50\n",
      "800/800 [==============================] - 0s 105us/sample - loss: 0.0172\n",
      "Epoch 11/50\n",
      "800/800 [==============================] - 0s 103us/sample - loss: 0.0172\n",
      "Epoch 12/50\n",
      "800/800 [==============================] - 0s 100us/sample - loss: 0.0172\n",
      "Epoch 13/50\n",
      "800/800 [==============================] - 0s 105us/sample - loss: 0.0172\n",
      "Epoch 14/50\n",
      "800/800 [==============================] - 0s 103us/sample - loss: 0.0172\n",
      "Epoch 15/50\n",
      "800/800 [==============================] - 0s 103us/sample - loss: 0.0172\n",
      "Epoch 16/50\n",
      "800/800 [==============================] - 0s 107us/sample - loss: 0.0172\n",
      "Epoch 17/50\n",
      "800/800 [==============================] - 0s 97us/sample - loss: 0.0172\n",
      "Epoch 18/50\n",
      "800/800 [==============================] - 0s 106us/sample - loss: 0.0172\n",
      "Epoch 19/50\n",
      "800/800 [==============================] - 0s 105us/sample - loss: 0.0172\n",
      "Epoch 20/50\n",
      "800/800 [==============================] - 0s 108us/sample - loss: 0.0172\n",
      "Epoch 21/50\n",
      "800/800 [==============================] - 0s 113us/sample - loss: 0.0172\n",
      "Epoch 22/50\n",
      "800/800 [==============================] - 0s 109us/sample - loss: 0.0172\n",
      "Epoch 23/50\n",
      "800/800 [==============================] - 0s 111us/sample - loss: 0.0172\n",
      "Epoch 24/50\n",
      "800/800 [==============================] - 0s 110us/sample - loss: 0.0172\n",
      "Epoch 25/50\n",
      "800/800 [==============================] - 0s 114us/sample - loss: 0.0172\n",
      "Epoch 26/50\n",
      "800/800 [==============================] - 0s 108us/sample - loss: 0.0172\n",
      "Epoch 27/50\n",
      "800/800 [==============================] - 0s 106us/sample - loss: 0.0172\n",
      "Epoch 28/50\n",
      "800/800 [==============================] - 0s 103us/sample - loss: 0.0172\n",
      "Epoch 29/50\n",
      "800/800 [==============================] - 0s 103us/sample - loss: 0.0172\n",
      "Epoch 30/50\n",
      "800/800 [==============================] - 0s 104us/sample - loss: 0.0172\n",
      "Epoch 31/50\n",
      "800/800 [==============================] - 0s 100us/sample - loss: 0.0172\n",
      "Epoch 32/50\n",
      "800/800 [==============================] - 0s 103us/sample - loss: 0.0172\n",
      "Epoch 33/50\n",
      "800/800 [==============================] - 0s 108us/sample - loss: 0.0172\n",
      "Epoch 34/50\n",
      "800/800 [==============================] - 0s 106us/sample - loss: 0.0172\n",
      "Epoch 35/50\n",
      "800/800 [==============================] - 0s 103us/sample - loss: 0.0172\n",
      "Epoch 36/50\n",
      "800/800 [==============================] - 0s 107us/sample - loss: 0.0172\n",
      "Epoch 37/50\n",
      "800/800 [==============================] - 0s 106us/sample - loss: 0.0172\n",
      "Epoch 38/50\n",
      "800/800 [==============================] - 0s 106us/sample - loss: 0.0172\n",
      "Epoch 39/50\n",
      "800/800 [==============================] - 0s 108us/sample - loss: 0.0172\n",
      "Epoch 40/50\n",
      "800/800 [==============================] - 0s 101us/sample - loss: 0.0172\n",
      "Epoch 41/50\n",
      "800/800 [==============================] - 0s 97us/sample - loss: 0.0172\n",
      "Epoch 42/50\n",
      "800/800 [==============================] - 0s 109us/sample - loss: 0.0172\n",
      "Epoch 43/50\n",
      "800/800 [==============================] - 0s 114us/sample - loss: 0.0172\n",
      "Epoch 44/50\n",
      "800/800 [==============================] - 0s 106us/sample - loss: 0.0172\n",
      "Epoch 45/50\n",
      "800/800 [==============================] - 0s 99us/sample - loss: 0.0172\n",
      "Epoch 46/50\n",
      "800/800 [==============================] - 0s 106us/sample - loss: 0.0172\n",
      "Epoch 47/50\n",
      "800/800 [==============================] - 0s 102us/sample - loss: 0.0172\n",
      "Epoch 48/50\n",
      "800/800 [==============================] - 0s 101us/sample - loss: 0.0172\n",
      "Epoch 49/50\n",
      "800/800 [==============================] - 0s 109us/sample - loss: 0.0172\n",
      "Epoch 50/50\n",
      "800/800 [==============================] - 0s 108us/sample - loss: 0.0172\n",
      "Model: \"sequential_3\"\n",
      "_________________________________________________________________\n",
      "Layer (type)                 Output Shape              Param #   \n",
      "=================================================================\n",
      "dense_6 (Dense)              multiple                  2500      \n",
      "_________________________________________________________________\n",
      "dense_7 (Dense)              multiple                  100200    \n",
      "_________________________________________________________________\n",
      "dense_8 (Dense)              multiple                  20100     \n",
      "=================================================================\n",
      "Total params: 122,800\n",
      "Trainable params: 122,800\n",
      "Non-trainable params: 0\n",
      "_________________________________________________________________\n",
      "0.0171834186342312\n"
     ]
    },
    {
     "data": {
      "image/png": "[encoded data removed]",
      "text/plain": [
       "<Figure size 432x288 with 1 Axes>"
      ]
     },
     "metadata": {
      "needs_background": "light"
     },
     "output_type": "display_data"
    }
   ],
   "source": [
    "model = Sequential()\n",
    "#Include here the specification of your network\n",
    "#**********************************************\n",
    "#model.add(...)\n",
    "#...\n",
    "#**********************************************\n",
    "model.add(Dense(500, activation='relu'))\n",
    "model.add(Dense(200, activation='relu'))\n",
    "model.add(Dense(100, activation='softmax'))\n",
    "\n",
    "model.compile(loss='mean_squared_error', optimizer='rmsprop')\n",
    "model.fit(trainX,trainY, epochs=50, batch_size=16)\n",
    "model.summary()\n",
    "\n",
    "trainPredict = model.predict(trainX)\n",
    "testPredict= model.predict(testX)\n",
    "predicted=np.concatenate((trainPredict[:,0,:],testPredict[:,0,:]),axis=0)\n",
    "\n",
    "trainScore = model.evaluate(trainX, trainY, verbose=0)\n",
    "print(trainScore)\n",
    "\n",
    "#the vertical red line shows the point where testing data starts\n",
    "index = df.index.values\n",
    "plt.plot(index,df)\n",
    "plt.plot(index,predicted)\n",
    "plt.axvline(df.index[Tp], c=\"r\")\n",
    "plt.show()"
   ]
  },
  {
   "cell_type": "code",
   "execution_count": null,
   "metadata": {},
   "outputs": [],
   "source": []
  }
 ],
 "metadata": {
  "colab": {
   "collapsed_sections": [],
   "name": "A4Q3.ipynb",
   "provenance": []
  },
  "kernelspec": {
   "display_name": "Python 3",
   "language": "python",
   "name": "python3"
  },
  "language_info": {
   "codemirror_mode": {
    "name": "ipython",
    "version": 3
   },
   "file_extension": ".py",
   "mimetype": "text/x-python",
   "name": "python",
   "nbconvert_exporter": "python",
   "pygments_lexer": "ipython3",
   "version": "3.6.9"
  }
 },
 "nbformat": 4,
 "nbformat_minor": 1
}
